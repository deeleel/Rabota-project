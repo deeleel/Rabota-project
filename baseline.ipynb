{
 "cells": [
  {
   "cell_type": "code",
   "execution_count": 45,
   "id": "547020ac",
   "metadata": {},
   "outputs": [],
   "source": [
    "import pandas as pd\n",
    "import numpy as np\n",
    "import tqdm"
   ]
  },
  {
   "cell_type": "code",
   "execution_count": 2,
   "id": "1e6207ec",
   "metadata": {},
   "outputs": [],
   "source": [
    "df = pd.read_parquet('train_mfti.parquet', engine='pyarrow')"
   ]
  },
  {
   "cell_type": "code",
   "execution_count": 6,
   "id": "062a3f6f",
   "metadata": {},
   "outputs": [
    {
     "data": {
      "text/html": [
       "<div>\n",
       "<style scoped>\n",
       "    .dataframe tbody tr th:only-of-type {\n",
       "        vertical-align: middle;\n",
       "    }\n",
       "\n",
       "    .dataframe tbody tr th {\n",
       "        vertical-align: top;\n",
       "    }\n",
       "\n",
       "    .dataframe thead th {\n",
       "        text-align: right;\n",
       "    }\n",
       "</style>\n",
       "<table border=\"1\" class=\"dataframe\">\n",
       "  <thead>\n",
       "    <tr style=\"text-align: right;\">\n",
       "      <th></th>\n",
       "      <th>event_date</th>\n",
       "      <th>event_timestamp</th>\n",
       "      <th>vacancy_id_</th>\n",
       "      <th>cookie_id</th>\n",
       "      <th>user_id</th>\n",
       "      <th>event_type</th>\n",
       "    </tr>\n",
       "  </thead>\n",
       "  <tbody>\n",
       "    <tr>\n",
       "      <th>0</th>\n",
       "      <td>2022-08-01</td>\n",
       "      <td>1659323026</td>\n",
       "      <td>129850</td>\n",
       "      <td>97990f1a021d4be19aa3f955b7eacab4</td>\n",
       "      <td>951f53de61764ea0b51317200a0dbbfc</td>\n",
       "      <td>show_vacancy</td>\n",
       "    </tr>\n",
       "    <tr>\n",
       "      <th>1</th>\n",
       "      <td>2022-08-01</td>\n",
       "      <td>1659377255</td>\n",
       "      <td>108347</td>\n",
       "      <td>03bf8c511fa949c79845a5d81b09aa1d</td>\n",
       "      <td>f5a2326a17484330aa8cb4019f1b1960</td>\n",
       "      <td>show_vacancy</td>\n",
       "    </tr>\n",
       "    <tr>\n",
       "      <th>2</th>\n",
       "      <td>2022-08-01</td>\n",
       "      <td>1659376695</td>\n",
       "      <td>109069</td>\n",
       "      <td>03bf8c511fa949c79845a5d81b09aa1d</td>\n",
       "      <td>f5a2326a17484330aa8cb4019f1b1960</td>\n",
       "      <td>show_vacancy</td>\n",
       "    </tr>\n",
       "    <tr>\n",
       "      <th>3</th>\n",
       "      <td>2022-08-01</td>\n",
       "      <td>1659376722</td>\n",
       "      <td>171425</td>\n",
       "      <td>03bf8c511fa949c79845a5d81b09aa1d</td>\n",
       "      <td>f5a2326a17484330aa8cb4019f1b1960</td>\n",
       "      <td>show_vacancy</td>\n",
       "    </tr>\n",
       "    <tr>\n",
       "      <th>4</th>\n",
       "      <td>2022-08-01</td>\n",
       "      <td>1659374929</td>\n",
       "      <td>252384</td>\n",
       "      <td>03bf8c511fa949c79845a5d81b09aa1d</td>\n",
       "      <td>f5a2326a17484330aa8cb4019f1b1960</td>\n",
       "      <td>show_vacancy</td>\n",
       "    </tr>\n",
       "  </tbody>\n",
       "</table>\n",
       "</div>"
      ],
      "text/plain": [
       "   event_date  event_timestamp  vacancy_id_                         cookie_id  \\\n",
       "0  2022-08-01       1659323026       129850  97990f1a021d4be19aa3f955b7eacab4   \n",
       "1  2022-08-01       1659377255       108347  03bf8c511fa949c79845a5d81b09aa1d   \n",
       "2  2022-08-01       1659376695       109069  03bf8c511fa949c79845a5d81b09aa1d   \n",
       "3  2022-08-01       1659376722       171425  03bf8c511fa949c79845a5d81b09aa1d   \n",
       "4  2022-08-01       1659374929       252384  03bf8c511fa949c79845a5d81b09aa1d   \n",
       "\n",
       "                            user_id    event_type  \n",
       "0  951f53de61764ea0b51317200a0dbbfc  show_vacancy  \n",
       "1  f5a2326a17484330aa8cb4019f1b1960  show_vacancy  \n",
       "2  f5a2326a17484330aa8cb4019f1b1960  show_vacancy  \n",
       "3  f5a2326a17484330aa8cb4019f1b1960  show_vacancy  \n",
       "4  f5a2326a17484330aa8cb4019f1b1960  show_vacancy  "
      ]
     },
     "execution_count": 6,
     "metadata": {},
     "output_type": "execute_result"
    }
   ],
   "source": [
    "df.head()"
   ]
  },
  {
   "cell_type": "code",
   "execution_count": 3,
   "id": "e705e7c3",
   "metadata": {},
   "outputs": [
    {
     "data": {
      "text/plain": [
       "show_vacancy              6198889\n",
       "preview_click_vacancy     4781280\n",
       "click_response             384090\n",
       "click_contacts             277584\n",
       "preview_click_response     190635\n",
       "click_favorite             155844\n",
       "preview_click_favorite     107016\n",
       "preview_click_contacts     102050\n",
       "click_phone                 79191\n",
       "preview_click_phone         16009\n",
       "Name: event_type, dtype: int64"
      ]
     },
     "execution_count": 3,
     "metadata": {},
     "output_type": "execute_result"
    }
   ],
   "source": [
    "df['event_type'].value_counts()"
   ]
  },
  {
   "cell_type": "code",
   "execution_count": 6,
   "id": "f6058764",
   "metadata": {},
   "outputs": [
    {
     "data": {
      "text/plain": [
       "330180"
      ]
     },
     "execution_count": 6,
     "metadata": {},
     "output_type": "execute_result"
    }
   ],
   "source": [
    "df['cookie_id'].nunique()"
   ]
  },
  {
   "cell_type": "code",
   "execution_count": 5,
   "id": "feb6cae4",
   "metadata": {},
   "outputs": [
    {
     "data": {
      "text/plain": [
       "209335"
      ]
     },
     "execution_count": 5,
     "metadata": {},
     "output_type": "execute_result"
    }
   ],
   "source": [
    "df['user_id'].nunique()"
   ]
  },
  {
   "cell_type": "code",
   "execution_count": 9,
   "id": "e38c9d3d",
   "metadata": {},
   "outputs": [
    {
     "data": {
      "text/plain": [
       "160167"
      ]
     },
     "execution_count": 9,
     "metadata": {},
     "output_type": "execute_result"
    }
   ],
   "source": [
    "df['vacancy_id_'].nunique()"
   ]
  },
  {
   "cell_type": "code",
   "execution_count": 10,
   "id": "32be645b",
   "metadata": {},
   "outputs": [
    {
     "data": {
      "text/plain": [
       "('2022-08-01', '2022-10-01')"
      ]
     },
     "execution_count": 10,
     "metadata": {},
     "output_type": "execute_result"
    }
   ],
   "source": [
    "df['event_date'].min(), df['event_date'].max()"
   ]
  },
  {
   "cell_type": "code",
   "execution_count": 14,
   "id": "8c4cff80",
   "metadata": {},
   "outputs": [
    {
     "data": {
      "text/plain": [
       "260154    59105\n",
       "198114    50187\n",
       "203404    45634\n",
       "202608    41620\n",
       "116823    40023\n",
       "          ...  \n",
       "208174        1\n",
       "207219        1\n",
       "208297        1\n",
       "207097        1\n",
       "136818        1\n",
       "Name: vacancy_id_, Length: 160167, dtype: int64"
      ]
     },
     "execution_count": 14,
     "metadata": {},
     "output_type": "execute_result"
    }
   ],
   "source": [
    "# вакансии в порядке популярности\n",
    "sorted_vacancy = df['vacancy_id_'].value_counts()\n",
    "sorted_vacancy"
   ]
  },
  {
   "cell_type": "code",
   "execution_count": 12,
   "id": "0c3f033d",
   "metadata": {},
   "outputs": [
    {
     "data": {
      "text/plain": [
       "array(['9ed5e109294444afbef12eb1f26edd35',\n",
       "       '181e9903b0984201aa691722a01df6c1',\n",
       "       'f93ab7afe74f49deb8ea5548a318d30d',\n",
       "       '933375bf6a794a6a96e78fbcec177315',\n",
       "       'af1d4ee823ac4944a19237934fe30b20'], dtype=object)"
      ]
     },
     "execution_count": 12,
     "metadata": {},
     "output_type": "execute_result"
    }
   ],
   "source": [
    "# возьмем 5 слуйчаных идентификаторов для тестирования (валидационный датасет)\n",
    "random_cookies = np.random.choice(df['cookie_id'].unique(), size=5)\n",
    "random_cookies"
   ]
  },
  {
   "cell_type": "code",
   "execution_count": 36,
   "id": "13aae03f",
   "metadata": {},
   "outputs": [],
   "source": [
    "def make_prediction(cookie_id, size=5):\n",
    "    # какие вакансии уже смотрел этот пользователь\n",
    "    viewed_vac = df[df['cookie_id'] == cookie_id]['vacancy_id_']\n",
    "    \n",
    "    # удалим из предсказания\n",
    "    predictions = sorted_vacancy.drop(viewed_vac)\n",
    "    \n",
    "    return list(predictions.iloc[:size].index)"
   ]
  },
  {
   "cell_type": "code",
   "execution_count": 37,
   "id": "546525cd",
   "metadata": {},
   "outputs": [
    {
     "data": {
      "text/plain": [
       "[198114, 203404, 202608, 116823, 207423]"
      ]
     },
     "execution_count": 37,
     "metadata": {},
     "output_type": "execute_result"
    }
   ],
   "source": [
    "# предсказания для одного айдишника\n",
    "make_prediction('9ed5e109294444afbef12eb1f26edd35')"
   ]
  },
  {
   "cell_type": "code",
   "execution_count": 38,
   "id": "a5f9f3d3",
   "metadata": {},
   "outputs": [
    {
     "data": {
      "text/plain": [
       "{'9ed5e109294444afbef12eb1f26edd35': [198114, 203404, 202608, 116823, 207423],\n",
       " '181e9903b0984201aa691722a01df6c1': [260154, 198114, 203404, 202608, 116823],\n",
       " 'f93ab7afe74f49deb8ea5548a318d30d': [260154, 198114, 203404, 202608, 116823],\n",
       " '933375bf6a794a6a96e78fbcec177315': [260154, 198114, 203404, 202608, 116823],\n",
       " 'af1d4ee823ac4944a19237934fe30b20': [260154, 198114, 202608, 116823, 207423]}"
      ]
     },
     "execution_count": 38,
     "metadata": {},
     "output_type": "execute_result"
    }
   ],
   "source": [
    "# предсказания для нескольких айдишников в словарь\n",
    "dct_predictions = {}\n",
    "\n",
    "for cookie in random_cookies:\n",
    "    dct_predictions[cookie] = make_prediction(cookie)\n",
    "    \n",
    "dct_predictions"
   ]
  },
  {
   "cell_type": "code",
   "execution_count": 39,
   "id": "6a230563",
   "metadata": {},
   "outputs": [],
   "source": [
    "# Проверим на precision@5. Будем считать как кол-во угаданных / 5\n",
    "test_df = pd.read_parrquet('test_public_mfti.parquet', engine='pyarrow')"
   ]
  },
  {
   "cell_type": "code",
   "execution_count": 44,
   "id": "a2801510",
   "metadata": {},
   "outputs": [
    {
     "data": {
      "text/html": [
       "<div>\n",
       "<style scoped>\n",
       "    .dataframe tbody tr th:only-of-type {\n",
       "        vertical-align: middle;\n",
       "    }\n",
       "\n",
       "    .dataframe tbody tr th {\n",
       "        vertical-align: top;\n",
       "    }\n",
       "\n",
       "    .dataframe thead th {\n",
       "        text-align: right;\n",
       "    }\n",
       "</style>\n",
       "<table border=\"1\" class=\"dataframe\">\n",
       "  <thead>\n",
       "    <tr style=\"text-align: right;\">\n",
       "      <th></th>\n",
       "      <th>cookie_id</th>\n",
       "      <th>vacancy_id_</th>\n",
       "    </tr>\n",
       "  </thead>\n",
       "  <tbody>\n",
       "    <tr>\n",
       "      <th>0</th>\n",
       "      <td>000cd76cd33f43d4a1ac1d16d10f8bf7</td>\n",
       "      <td>[222177, 222173, 222163, 238874, 238878, 22812...</td>\n",
       "    </tr>\n",
       "    <tr>\n",
       "      <th>1</th>\n",
       "      <td>0034bc7f404341ba8412665453e7825a</td>\n",
       "      <td>[102794, 137587, 257319, 237756, 240744, 11348...</td>\n",
       "    </tr>\n",
       "    <tr>\n",
       "      <th>2</th>\n",
       "      <td>00a6c5a64a274c55a836402bdeb3b2c4</td>\n",
       "      <td>[254292, 164602, 116438, 228634, 218819, 24065...</td>\n",
       "    </tr>\n",
       "    <tr>\n",
       "      <th>3</th>\n",
       "      <td>015937a125b14e74bdff1cddc49f9172</td>\n",
       "      <td>[246685, 138123, 115420, 210628, 212325, 235196]</td>\n",
       "    </tr>\n",
       "    <tr>\n",
       "      <th>4</th>\n",
       "      <td>01de50c280794cec8804f16f45f847b7</td>\n",
       "      <td>[219070, 251469, 166899, 212703, 214561]</td>\n",
       "    </tr>\n",
       "  </tbody>\n",
       "</table>\n",
       "</div>"
      ],
      "text/plain": [
       "                          cookie_id  \\\n",
       "0  000cd76cd33f43d4a1ac1d16d10f8bf7   \n",
       "1  0034bc7f404341ba8412665453e7825a   \n",
       "2  00a6c5a64a274c55a836402bdeb3b2c4   \n",
       "3  015937a125b14e74bdff1cddc49f9172   \n",
       "4  01de50c280794cec8804f16f45f847b7   \n",
       "\n",
       "                                         vacancy_id_  \n",
       "0  [222177, 222173, 222163, 238874, 238878, 22812...  \n",
       "1  [102794, 137587, 257319, 237756, 240744, 11348...  \n",
       "2  [254292, 164602, 116438, 228634, 218819, 24065...  \n",
       "3   [246685, 138123, 115420, 210628, 212325, 235196]  \n",
       "4           [219070, 251469, 166899, 212703, 214561]  "
      ]
     },
     "execution_count": 44,
     "metadata": {},
     "output_type": "execute_result"
    }
   ],
   "source": [
    "test_df.head()"
   ]
  },
  {
   "cell_type": "code",
   "execution_count": 49,
   "id": "b25e8892",
   "metadata": {},
   "outputs": [],
   "source": [
    "def make_prediciton_column(cookies):\n",
    "    lst = []\n",
    "    for cookie in tqdm.tqdm(cookies):\n",
    "        prediction = make_prediction(cookie)\n",
    "        lst.append(prediction)\n",
    "    return lst"
   ]
  },
  {
   "cell_type": "code",
   "execution_count": 50,
   "id": "33657d35",
   "metadata": {},
   "outputs": [
    {
     "name": "stderr",
     "output_type": "stream",
     "text": [
      "100%|█████████████████████████████████████████| 772/772 [08:54<00:00,  1.45it/s]\n"
     ]
    }
   ],
   "source": [
    "test_df['predicted'] = make_prediciton_column(test_df['cookie_id'])"
   ]
  },
  {
   "cell_type": "code",
   "execution_count": 51,
   "id": "b0caa8bf",
   "metadata": {},
   "outputs": [
    {
     "data": {
      "text/html": [
       "<div>\n",
       "<style scoped>\n",
       "    .dataframe tbody tr th:only-of-type {\n",
       "        vertical-align: middle;\n",
       "    }\n",
       "\n",
       "    .dataframe tbody tr th {\n",
       "        vertical-align: top;\n",
       "    }\n",
       "\n",
       "    .dataframe thead th {\n",
       "        text-align: right;\n",
       "    }\n",
       "</style>\n",
       "<table border=\"1\" class=\"dataframe\">\n",
       "  <thead>\n",
       "    <tr style=\"text-align: right;\">\n",
       "      <th></th>\n",
       "      <th>cookie_id</th>\n",
       "      <th>vacancy_id_</th>\n",
       "      <th>predicted</th>\n",
       "    </tr>\n",
       "  </thead>\n",
       "  <tbody>\n",
       "    <tr>\n",
       "      <th>0</th>\n",
       "      <td>000cd76cd33f43d4a1ac1d16d10f8bf7</td>\n",
       "      <td>[222177, 222173, 222163, 238874, 238878, 22812...</td>\n",
       "      <td>[260154, 198114, 203404, 202608, 116823]</td>\n",
       "    </tr>\n",
       "    <tr>\n",
       "      <th>1</th>\n",
       "      <td>0034bc7f404341ba8412665453e7825a</td>\n",
       "      <td>[102794, 137587, 257319, 237756, 240744, 11348...</td>\n",
       "      <td>[198114, 203404, 202608, 116823, 207423]</td>\n",
       "    </tr>\n",
       "    <tr>\n",
       "      <th>2</th>\n",
       "      <td>00a6c5a64a274c55a836402bdeb3b2c4</td>\n",
       "      <td>[254292, 164602, 116438, 228634, 218819, 24065...</td>\n",
       "      <td>[260154, 203404, 202608, 116823, 207423]</td>\n",
       "    </tr>\n",
       "    <tr>\n",
       "      <th>3</th>\n",
       "      <td>015937a125b14e74bdff1cddc49f9172</td>\n",
       "      <td>[246685, 138123, 115420, 210628, 212325, 235196]</td>\n",
       "      <td>[260154, 198114, 202608, 164602, 148714]</td>\n",
       "    </tr>\n",
       "    <tr>\n",
       "      <th>4</th>\n",
       "      <td>01de50c280794cec8804f16f45f847b7</td>\n",
       "      <td>[219070, 251469, 166899, 212703, 214561]</td>\n",
       "      <td>[260154, 198114, 203404, 202608, 116823]</td>\n",
       "    </tr>\n",
       "  </tbody>\n",
       "</table>\n",
       "</div>"
      ],
      "text/plain": [
       "                          cookie_id  \\\n",
       "0  000cd76cd33f43d4a1ac1d16d10f8bf7   \n",
       "1  0034bc7f404341ba8412665453e7825a   \n",
       "2  00a6c5a64a274c55a836402bdeb3b2c4   \n",
       "3  015937a125b14e74bdff1cddc49f9172   \n",
       "4  01de50c280794cec8804f16f45f847b7   \n",
       "\n",
       "                                         vacancy_id_  \\\n",
       "0  [222177, 222173, 222163, 238874, 238878, 22812...   \n",
       "1  [102794, 137587, 257319, 237756, 240744, 11348...   \n",
       "2  [254292, 164602, 116438, 228634, 218819, 24065...   \n",
       "3   [246685, 138123, 115420, 210628, 212325, 235196]   \n",
       "4           [219070, 251469, 166899, 212703, 214561]   \n",
       "\n",
       "                                  predicted  \n",
       "0  [260154, 198114, 203404, 202608, 116823]  \n",
       "1  [198114, 203404, 202608, 116823, 207423]  \n",
       "2  [260154, 203404, 202608, 116823, 207423]  \n",
       "3  [260154, 198114, 202608, 164602, 148714]  \n",
       "4  [260154, 198114, 203404, 202608, 116823]  "
      ]
     },
     "execution_count": 51,
     "metadata": {},
     "output_type": "execute_result"
    }
   ],
   "source": [
    "test_df.head()"
   ]
  },
  {
   "cell_type": "code",
   "execution_count": 70,
   "id": "95208d2c",
   "metadata": {},
   "outputs": [],
   "source": [
    "test_df['true_positive'] = test_df.apply(lambda x: len(set(x['vacancy_id_']) & set(x['predicted'])), axis=1)\n",
    "test_df['precision@5'] = test_df.apply(lambda x: len(set(x['vacancy_id_']) & set(x['predicted'])) / 5, axis=1)"
   ]
  },
  {
   "cell_type": "code",
   "execution_count": 71,
   "id": "569f7b40",
   "metadata": {},
   "outputs": [
    {
     "data": {
      "text/html": [
       "<div>\n",
       "<style scoped>\n",
       "    .dataframe tbody tr th:only-of-type {\n",
       "        vertical-align: middle;\n",
       "    }\n",
       "\n",
       "    .dataframe tbody tr th {\n",
       "        vertical-align: top;\n",
       "    }\n",
       "\n",
       "    .dataframe thead th {\n",
       "        text-align: right;\n",
       "    }\n",
       "</style>\n",
       "<table border=\"1\" class=\"dataframe\">\n",
       "  <thead>\n",
       "    <tr style=\"text-align: right;\">\n",
       "      <th></th>\n",
       "      <th>cookie_id</th>\n",
       "      <th>vacancy_id_</th>\n",
       "      <th>predicted</th>\n",
       "      <th>true_positive</th>\n",
       "      <th>precision@5</th>\n",
       "    </tr>\n",
       "  </thead>\n",
       "  <tbody>\n",
       "    <tr>\n",
       "      <th>0</th>\n",
       "      <td>000cd76cd33f43d4a1ac1d16d10f8bf7</td>\n",
       "      <td>[222177, 222173, 222163, 238874, 238878, 22812...</td>\n",
       "      <td>[260154, 198114, 203404, 202608, 116823]</td>\n",
       "      <td>0</td>\n",
       "      <td>0.0</td>\n",
       "    </tr>\n",
       "    <tr>\n",
       "      <th>1</th>\n",
       "      <td>0034bc7f404341ba8412665453e7825a</td>\n",
       "      <td>[102794, 137587, 257319, 237756, 240744, 11348...</td>\n",
       "      <td>[198114, 203404, 202608, 116823, 207423]</td>\n",
       "      <td>0</td>\n",
       "      <td>0.0</td>\n",
       "    </tr>\n",
       "    <tr>\n",
       "      <th>2</th>\n",
       "      <td>00a6c5a64a274c55a836402bdeb3b2c4</td>\n",
       "      <td>[254292, 164602, 116438, 228634, 218819, 24065...</td>\n",
       "      <td>[260154, 203404, 202608, 116823, 207423]</td>\n",
       "      <td>0</td>\n",
       "      <td>0.0</td>\n",
       "    </tr>\n",
       "    <tr>\n",
       "      <th>3</th>\n",
       "      <td>015937a125b14e74bdff1cddc49f9172</td>\n",
       "      <td>[246685, 138123, 115420, 210628, 212325, 235196]</td>\n",
       "      <td>[260154, 198114, 202608, 164602, 148714]</td>\n",
       "      <td>0</td>\n",
       "      <td>0.0</td>\n",
       "    </tr>\n",
       "    <tr>\n",
       "      <th>4</th>\n",
       "      <td>01de50c280794cec8804f16f45f847b7</td>\n",
       "      <td>[219070, 251469, 166899, 212703, 214561]</td>\n",
       "      <td>[260154, 198114, 203404, 202608, 116823]</td>\n",
       "      <td>0</td>\n",
       "      <td>0.0</td>\n",
       "    </tr>\n",
       "    <tr>\n",
       "      <th>...</th>\n",
       "      <td>...</td>\n",
       "      <td>...</td>\n",
       "      <td>...</td>\n",
       "      <td>...</td>\n",
       "      <td>...</td>\n",
       "    </tr>\n",
       "    <tr>\n",
       "      <th>767</th>\n",
       "      <td>fdbcda17f22f406486837059e76c7fed</td>\n",
       "      <td>[207851, 254989, 213344, 214180, 222146]</td>\n",
       "      <td>[260154, 198114, 203404, 202608, 116823]</td>\n",
       "      <td>0</td>\n",
       "      <td>0.0</td>\n",
       "    </tr>\n",
       "    <tr>\n",
       "      <th>768</th>\n",
       "      <td>fe6193ab26494ace9be5aae36e507618</td>\n",
       "      <td>[115352, 230546, 225527, 120188, 109360, 23212...</td>\n",
       "      <td>[260154, 198114, 203404, 202608, 116823]</td>\n",
       "      <td>0</td>\n",
       "      <td>0.0</td>\n",
       "    </tr>\n",
       "    <tr>\n",
       "      <th>769</th>\n",
       "      <td>fe95b2826ee1452b81201ed3f4c3294d</td>\n",
       "      <td>[240362, 114852, 253946, 251081, 127546, 244688]</td>\n",
       "      <td>[260154, 198114, 203404, 202608, 116823]</td>\n",
       "      <td>0</td>\n",
       "      <td>0.0</td>\n",
       "    </tr>\n",
       "    <tr>\n",
       "      <th>770</th>\n",
       "      <td>ff1aef256a49481698bb2e938510ff36</td>\n",
       "      <td>[231194, 236363, 220747, 244688, 100094, 24052...</td>\n",
       "      <td>[260154, 198114, 203404, 202608, 116823]</td>\n",
       "      <td>0</td>\n",
       "      <td>0.0</td>\n",
       "    </tr>\n",
       "    <tr>\n",
       "      <th>771</th>\n",
       "      <td>ff40591f76e34013a61b8af400002a07</td>\n",
       "      <td>[100336, 116442, 244721, 256719, 230803]</td>\n",
       "      <td>[260154, 198114, 203404, 202608, 116823]</td>\n",
       "      <td>0</td>\n",
       "      <td>0.0</td>\n",
       "    </tr>\n",
       "  </tbody>\n",
       "</table>\n",
       "<p>772 rows × 5 columns</p>\n",
       "</div>"
      ],
      "text/plain": [
       "                            cookie_id  \\\n",
       "0    000cd76cd33f43d4a1ac1d16d10f8bf7   \n",
       "1    0034bc7f404341ba8412665453e7825a   \n",
       "2    00a6c5a64a274c55a836402bdeb3b2c4   \n",
       "3    015937a125b14e74bdff1cddc49f9172   \n",
       "4    01de50c280794cec8804f16f45f847b7   \n",
       "..                                ...   \n",
       "767  fdbcda17f22f406486837059e76c7fed   \n",
       "768  fe6193ab26494ace9be5aae36e507618   \n",
       "769  fe95b2826ee1452b81201ed3f4c3294d   \n",
       "770  ff1aef256a49481698bb2e938510ff36   \n",
       "771  ff40591f76e34013a61b8af400002a07   \n",
       "\n",
       "                                           vacancy_id_  \\\n",
       "0    [222177, 222173, 222163, 238874, 238878, 22812...   \n",
       "1    [102794, 137587, 257319, 237756, 240744, 11348...   \n",
       "2    [254292, 164602, 116438, 228634, 218819, 24065...   \n",
       "3     [246685, 138123, 115420, 210628, 212325, 235196]   \n",
       "4             [219070, 251469, 166899, 212703, 214561]   \n",
       "..                                                 ...   \n",
       "767           [207851, 254989, 213344, 214180, 222146]   \n",
       "768  [115352, 230546, 225527, 120188, 109360, 23212...   \n",
       "769   [240362, 114852, 253946, 251081, 127546, 244688]   \n",
       "770  [231194, 236363, 220747, 244688, 100094, 24052...   \n",
       "771           [100336, 116442, 244721, 256719, 230803]   \n",
       "\n",
       "                                    predicted  true_positive  precision@5  \n",
       "0    [260154, 198114, 203404, 202608, 116823]              0          0.0  \n",
       "1    [198114, 203404, 202608, 116823, 207423]              0          0.0  \n",
       "2    [260154, 203404, 202608, 116823, 207423]              0          0.0  \n",
       "3    [260154, 198114, 202608, 164602, 148714]              0          0.0  \n",
       "4    [260154, 198114, 203404, 202608, 116823]              0          0.0  \n",
       "..                                        ...            ...          ...  \n",
       "767  [260154, 198114, 203404, 202608, 116823]              0          0.0  \n",
       "768  [260154, 198114, 203404, 202608, 116823]              0          0.0  \n",
       "769  [260154, 198114, 203404, 202608, 116823]              0          0.0  \n",
       "770  [260154, 198114, 203404, 202608, 116823]              0          0.0  \n",
       "771  [260154, 198114, 203404, 202608, 116823]              0          0.0  \n",
       "\n",
       "[772 rows x 5 columns]"
      ]
     },
     "execution_count": 71,
     "metadata": {},
     "output_type": "execute_result"
    }
   ],
   "source": [
    "test_df"
   ]
  },
  {
   "cell_type": "code",
   "execution_count": 74,
   "id": "cfc91ae5",
   "metadata": {},
   "outputs": [
    {
     "data": {
      "text/html": [
       "<div>\n",
       "<style scoped>\n",
       "    .dataframe tbody tr th:only-of-type {\n",
       "        vertical-align: middle;\n",
       "    }\n",
       "\n",
       "    .dataframe tbody tr th {\n",
       "        vertical-align: top;\n",
       "    }\n",
       "\n",
       "    .dataframe thead th {\n",
       "        text-align: right;\n",
       "    }\n",
       "</style>\n",
       "<table border=\"1\" class=\"dataframe\">\n",
       "  <thead>\n",
       "    <tr style=\"text-align: right;\">\n",
       "      <th></th>\n",
       "      <th>cookie_id</th>\n",
       "      <th>vacancy_id_</th>\n",
       "      <th>predicted</th>\n",
       "      <th>true_positive</th>\n",
       "      <th>precision@5</th>\n",
       "    </tr>\n",
       "  </thead>\n",
       "  <tbody>\n",
       "    <tr>\n",
       "      <th>5</th>\n",
       "      <td>020c7d1d9a44451c9ef107fc2fe726f5</td>\n",
       "      <td>[231017, 231243, 238691, 171153, 249934, 23537...</td>\n",
       "      <td>[260154, 198114, 202608, 116823, 164602]</td>\n",
       "      <td>1</td>\n",
       "      <td>0.2</td>\n",
       "    </tr>\n",
       "    <tr>\n",
       "      <th>36</th>\n",
       "      <td>0c9bc6e28eb74a65890ab8f35587f7c8</td>\n",
       "      <td>[232857, 182084, 203404, 207423, 230419]</td>\n",
       "      <td>[260154, 198114, 203404, 202608, 116823]</td>\n",
       "      <td>1</td>\n",
       "      <td>0.2</td>\n",
       "    </tr>\n",
       "    <tr>\n",
       "      <th>66</th>\n",
       "      <td>15cee09b2f5a43fca6092907245e5d87</td>\n",
       "      <td>[225976, 248720, 179082, 203404, 210628, 21229...</td>\n",
       "      <td>[260154, 198114, 203404, 202608, 116823]</td>\n",
       "      <td>1</td>\n",
       "      <td>0.2</td>\n",
       "    </tr>\n",
       "    <tr>\n",
       "      <th>75</th>\n",
       "      <td>186cae2dd58a42bb965fce95ff93e6d5</td>\n",
       "      <td>[232857, 207108, 228866, 228253, 240695, 16460...</td>\n",
       "      <td>[260154, 198114, 203404, 116823, 207423]</td>\n",
       "      <td>2</td>\n",
       "      <td>0.4</td>\n",
       "    </tr>\n",
       "    <tr>\n",
       "      <th>77</th>\n",
       "      <td>18ea8b315fe847549c339647baf0bfee</td>\n",
       "      <td>[260154, 138634, 229432, 257379, 246162, 24104...</td>\n",
       "      <td>[260154, 198114, 203404, 202608, 116823]</td>\n",
       "      <td>1</td>\n",
       "      <td>0.2</td>\n",
       "    </tr>\n",
       "    <tr>\n",
       "      <th>...</th>\n",
       "      <td>...</td>\n",
       "      <td>...</td>\n",
       "      <td>...</td>\n",
       "      <td>...</td>\n",
       "      <td>...</td>\n",
       "    </tr>\n",
       "    <tr>\n",
       "      <th>716</th>\n",
       "      <td>eb2d7fea87b643a19764052610dd2bfd</td>\n",
       "      <td>[164602, 248852, 182870, 220718, 207423, 23070...</td>\n",
       "      <td>[260154, 203404, 202608, 116823, 207423]</td>\n",
       "      <td>1</td>\n",
       "      <td>0.2</td>\n",
       "    </tr>\n",
       "    <tr>\n",
       "      <th>732</th>\n",
       "      <td>f3b9473d542a4b4284ed7aeb1d1100c9</td>\n",
       "      <td>[234893, 236510, 235946, 238691, 108345, 19999...</td>\n",
       "      <td>[116823, 207423, 148714, 182870, 111867]</td>\n",
       "      <td>1</td>\n",
       "      <td>0.2</td>\n",
       "    </tr>\n",
       "    <tr>\n",
       "      <th>734</th>\n",
       "      <td>f3ff3a77eff94997ad7b15e82e0c9976</td>\n",
       "      <td>[238046, 211189, 207108, 210503, 203404, 11183...</td>\n",
       "      <td>[260154, 198114, 203404, 202608, 116823]</td>\n",
       "      <td>1</td>\n",
       "      <td>0.2</td>\n",
       "    </tr>\n",
       "    <tr>\n",
       "      <th>741</th>\n",
       "      <td>f5c67ff429f64b4b9478e577432a6a3c</td>\n",
       "      <td>[240614, 240075, 107369, 223446, 230707, 23489...</td>\n",
       "      <td>[260154, 198114, 116823, 207423, 164602]</td>\n",
       "      <td>1</td>\n",
       "      <td>0.2</td>\n",
       "    </tr>\n",
       "    <tr>\n",
       "      <th>750</th>\n",
       "      <td>f891793414134632b5d3f6478c5f308a</td>\n",
       "      <td>[203404, 111837, 210628, 214513, 230707, 234305]</td>\n",
       "      <td>[260154, 198114, 203404, 202608, 116823]</td>\n",
       "      <td>1</td>\n",
       "      <td>0.2</td>\n",
       "    </tr>\n",
       "  </tbody>\n",
       "</table>\n",
       "<p>70 rows × 5 columns</p>\n",
       "</div>"
      ],
      "text/plain": [
       "                            cookie_id  \\\n",
       "5    020c7d1d9a44451c9ef107fc2fe726f5   \n",
       "36   0c9bc6e28eb74a65890ab8f35587f7c8   \n",
       "66   15cee09b2f5a43fca6092907245e5d87   \n",
       "75   186cae2dd58a42bb965fce95ff93e6d5   \n",
       "77   18ea8b315fe847549c339647baf0bfee   \n",
       "..                                ...   \n",
       "716  eb2d7fea87b643a19764052610dd2bfd   \n",
       "732  f3b9473d542a4b4284ed7aeb1d1100c9   \n",
       "734  f3ff3a77eff94997ad7b15e82e0c9976   \n",
       "741  f5c67ff429f64b4b9478e577432a6a3c   \n",
       "750  f891793414134632b5d3f6478c5f308a   \n",
       "\n",
       "                                           vacancy_id_  \\\n",
       "5    [231017, 231243, 238691, 171153, 249934, 23537...   \n",
       "36            [232857, 182084, 203404, 207423, 230419]   \n",
       "66   [225976, 248720, 179082, 203404, 210628, 21229...   \n",
       "75   [232857, 207108, 228866, 228253, 240695, 16460...   \n",
       "77   [260154, 138634, 229432, 257379, 246162, 24104...   \n",
       "..                                                 ...   \n",
       "716  [164602, 248852, 182870, 220718, 207423, 23070...   \n",
       "732  [234893, 236510, 235946, 238691, 108345, 19999...   \n",
       "734  [238046, 211189, 207108, 210503, 203404, 11183...   \n",
       "741  [240614, 240075, 107369, 223446, 230707, 23489...   \n",
       "750   [203404, 111837, 210628, 214513, 230707, 234305]   \n",
       "\n",
       "                                    predicted  true_positive  precision@5  \n",
       "5    [260154, 198114, 202608, 116823, 164602]              1          0.2  \n",
       "36   [260154, 198114, 203404, 202608, 116823]              1          0.2  \n",
       "66   [260154, 198114, 203404, 202608, 116823]              1          0.2  \n",
       "75   [260154, 198114, 203404, 116823, 207423]              2          0.4  \n",
       "77   [260154, 198114, 203404, 202608, 116823]              1          0.2  \n",
       "..                                        ...            ...          ...  \n",
       "716  [260154, 203404, 202608, 116823, 207423]              1          0.2  \n",
       "732  [116823, 207423, 148714, 182870, 111867]              1          0.2  \n",
       "734  [260154, 198114, 203404, 202608, 116823]              1          0.2  \n",
       "741  [260154, 198114, 116823, 207423, 164602]              1          0.2  \n",
       "750  [260154, 198114, 203404, 202608, 116823]              1          0.2  \n",
       "\n",
       "[70 rows x 5 columns]"
      ]
     },
     "execution_count": 74,
     "metadata": {},
     "output_type": "execute_result"
    }
   ],
   "source": [
    "# сколько ненулевых?\n",
    "test_df[test_df['true_positive'] != 0]"
   ]
  },
  {
   "cell_type": "code",
   "execution_count": 73,
   "id": "c925700a",
   "metadata": {},
   "outputs": [
    {
     "data": {
      "text/plain": [
       "0.019689119170984433"
      ]
     },
     "execution_count": 73,
     "metadata": {},
     "output_type": "execute_result"
    }
   ],
   "source": [
    "# усредним метрику\n",
    "test_df['precision@5'].mean() "
   ]
  },
  {
   "cell_type": "code",
   "execution_count": null,
   "id": "11cc3cf4",
   "metadata": {},
   "outputs": [],
   "source": []
  }
 ],
 "metadata": {
  "kernelspec": {
   "display_name": "Python 3 (ipykernel)",
   "language": "python",
   "name": "python3"
  },
  "language_info": {
   "codemirror_mode": {
    "name": "ipython",
    "version": 3
   },
   "file_extension": ".py",
   "mimetype": "text/x-python",
   "name": "python",
   "nbconvert_exporter": "python",
   "pygments_lexer": "ipython3",
   "version": "3.9.13"
  }
 },
 "nbformat": 4,
 "nbformat_minor": 5
}
