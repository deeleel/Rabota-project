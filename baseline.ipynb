{
 "cells": [
  {
   "cell_type": "code",
   "execution_count": 1,
   "id": "547020ac",
   "metadata": {},
   "outputs": [],
   "source": [
    "import pandas as pd\n",
    "import numpy as np\n",
    "import tqdm"
   ]
  },
  {
   "cell_type": "code",
   "execution_count": 2,
   "id": "4fa15d09",
   "metadata": {},
   "outputs": [],
   "source": [
    "reactions = {\n",
    "    'show_vacancy': 0, \n",
    "    'preview_click_vacancy': 0, \n",
    "    'click_response': 1,\n",
    "    'click_contacts': 1, \n",
    "    'preview_click_response': 1, \n",
    "    'click_favorite': 0,\n",
    "    'preview_click_favorite': 0, \n",
    "    'preview_click_contacts': 1, \n",
    "    'click_phone': 1,\n",
    "    'preview_click_phone': 1\n",
    "}"
   ]
  },
  {
   "cell_type": "code",
   "execution_count": 3,
   "id": "1e6207ec",
   "metadata": {},
   "outputs": [],
   "source": [
    "df = pd.read_parquet('train_mfti.parquet', engine='pyarrow')"
   ]
  },
  {
   "cell_type": "code",
   "execution_count": 4,
   "id": "5b7424f9",
   "metadata": {},
   "outputs": [],
   "source": [
    "df['target'] = df['event_type'].apply(lambda x: reactions[x])"
   ]
  },
  {
   "cell_type": "code",
   "execution_count": 5,
   "id": "062a3f6f",
   "metadata": {},
   "outputs": [
    {
     "data": {
      "text/html": [
       "<div>\n",
       "<style scoped>\n",
       "    .dataframe tbody tr th:only-of-type {\n",
       "        vertical-align: middle;\n",
       "    }\n",
       "\n",
       "    .dataframe tbody tr th {\n",
       "        vertical-align: top;\n",
       "    }\n",
       "\n",
       "    .dataframe thead th {\n",
       "        text-align: right;\n",
       "    }\n",
       "</style>\n",
       "<table border=\"1\" class=\"dataframe\">\n",
       "  <thead>\n",
       "    <tr style=\"text-align: right;\">\n",
       "      <th></th>\n",
       "      <th>event_date</th>\n",
       "      <th>event_timestamp</th>\n",
       "      <th>vacancy_id_</th>\n",
       "      <th>cookie_id</th>\n",
       "      <th>user_id</th>\n",
       "      <th>event_type</th>\n",
       "      <th>target</th>\n",
       "    </tr>\n",
       "  </thead>\n",
       "  <tbody>\n",
       "    <tr>\n",
       "      <th>0</th>\n",
       "      <td>2022-08-01</td>\n",
       "      <td>1659323026</td>\n",
       "      <td>129850</td>\n",
       "      <td>97990f1a021d4be19aa3f955b7eacab4</td>\n",
       "      <td>951f53de61764ea0b51317200a0dbbfc</td>\n",
       "      <td>show_vacancy</td>\n",
       "      <td>0</td>\n",
       "    </tr>\n",
       "    <tr>\n",
       "      <th>1</th>\n",
       "      <td>2022-08-01</td>\n",
       "      <td>1659377255</td>\n",
       "      <td>108347</td>\n",
       "      <td>03bf8c511fa949c79845a5d81b09aa1d</td>\n",
       "      <td>f5a2326a17484330aa8cb4019f1b1960</td>\n",
       "      <td>show_vacancy</td>\n",
       "      <td>0</td>\n",
       "    </tr>\n",
       "    <tr>\n",
       "      <th>2</th>\n",
       "      <td>2022-08-01</td>\n",
       "      <td>1659376695</td>\n",
       "      <td>109069</td>\n",
       "      <td>03bf8c511fa949c79845a5d81b09aa1d</td>\n",
       "      <td>f5a2326a17484330aa8cb4019f1b1960</td>\n",
       "      <td>show_vacancy</td>\n",
       "      <td>0</td>\n",
       "    </tr>\n",
       "    <tr>\n",
       "      <th>3</th>\n",
       "      <td>2022-08-01</td>\n",
       "      <td>1659376722</td>\n",
       "      <td>171425</td>\n",
       "      <td>03bf8c511fa949c79845a5d81b09aa1d</td>\n",
       "      <td>f5a2326a17484330aa8cb4019f1b1960</td>\n",
       "      <td>show_vacancy</td>\n",
       "      <td>0</td>\n",
       "    </tr>\n",
       "    <tr>\n",
       "      <th>4</th>\n",
       "      <td>2022-08-01</td>\n",
       "      <td>1659374929</td>\n",
       "      <td>252384</td>\n",
       "      <td>03bf8c511fa949c79845a5d81b09aa1d</td>\n",
       "      <td>f5a2326a17484330aa8cb4019f1b1960</td>\n",
       "      <td>show_vacancy</td>\n",
       "      <td>0</td>\n",
       "    </tr>\n",
       "  </tbody>\n",
       "</table>\n",
       "</div>"
      ],
      "text/plain": [
       "   event_date  event_timestamp  vacancy_id_                         cookie_id  \\\n",
       "0  2022-08-01       1659323026       129850  97990f1a021d4be19aa3f955b7eacab4   \n",
       "1  2022-08-01       1659377255       108347  03bf8c511fa949c79845a5d81b09aa1d   \n",
       "2  2022-08-01       1659376695       109069  03bf8c511fa949c79845a5d81b09aa1d   \n",
       "3  2022-08-01       1659376722       171425  03bf8c511fa949c79845a5d81b09aa1d   \n",
       "4  2022-08-01       1659374929       252384  03bf8c511fa949c79845a5d81b09aa1d   \n",
       "\n",
       "                            user_id    event_type  target  \n",
       "0  951f53de61764ea0b51317200a0dbbfc  show_vacancy       0  \n",
       "1  f5a2326a17484330aa8cb4019f1b1960  show_vacancy       0  \n",
       "2  f5a2326a17484330aa8cb4019f1b1960  show_vacancy       0  \n",
       "3  f5a2326a17484330aa8cb4019f1b1960  show_vacancy       0  \n",
       "4  f5a2326a17484330aa8cb4019f1b1960  show_vacancy       0  "
      ]
     },
     "execution_count": 5,
     "metadata": {},
     "output_type": "execute_result"
    }
   ],
   "source": [
    "df.head()"
   ]
  },
  {
   "cell_type": "code",
   "execution_count": 3,
   "id": "e705e7c3",
   "metadata": {},
   "outputs": [
    {
     "data": {
      "text/plain": [
       "show_vacancy              6198889\n",
       "preview_click_vacancy     4781280\n",
       "click_response             384090\n",
       "click_contacts             277584\n",
       "preview_click_response     190635\n",
       "click_favorite             155844\n",
       "preview_click_favorite     107016\n",
       "preview_click_contacts     102050\n",
       "click_phone                 79191\n",
       "preview_click_phone         16009\n",
       "Name: event_type, dtype: int64"
      ]
     },
     "execution_count": 3,
     "metadata": {},
     "output_type": "execute_result"
    }
   ],
   "source": [
    "df['event_type'].value_counts()"
   ]
  },
  {
   "cell_type": "code",
   "execution_count": 6,
   "id": "f6058764",
   "metadata": {},
   "outputs": [
    {
     "data": {
      "text/plain": [
       "330180"
      ]
     },
     "execution_count": 6,
     "metadata": {},
     "output_type": "execute_result"
    }
   ],
   "source": [
    "df['cookie_id'].nunique()"
   ]
  },
  {
   "cell_type": "code",
   "execution_count": 5,
   "id": "feb6cae4",
   "metadata": {},
   "outputs": [
    {
     "data": {
      "text/plain": [
       "209335"
      ]
     },
     "execution_count": 5,
     "metadata": {},
     "output_type": "execute_result"
    }
   ],
   "source": [
    "df['user_id'].nunique()"
   ]
  },
  {
   "cell_type": "code",
   "execution_count": 9,
   "id": "e38c9d3d",
   "metadata": {},
   "outputs": [
    {
     "data": {
      "text/plain": [
       "160167"
      ]
     },
     "execution_count": 9,
     "metadata": {},
     "output_type": "execute_result"
    }
   ],
   "source": [
    "df['vacancy_id_'].nunique()"
   ]
  },
  {
   "cell_type": "code",
   "execution_count": 10,
   "id": "32be645b",
   "metadata": {},
   "outputs": [
    {
     "data": {
      "text/plain": [
       "('2022-08-01', '2022-10-01')"
      ]
     },
     "execution_count": 10,
     "metadata": {},
     "output_type": "execute_result"
    }
   ],
   "source": [
    "df['event_date'].min(), df['event_date'].max()"
   ]
  },
  {
   "cell_type": "code",
   "execution_count": 7,
   "id": "fbd233e2",
   "metadata": {},
   "outputs": [
    {
     "data": {
      "text/plain": [
       "116823    5722\n",
       "182870    5194\n",
       "207423    4722\n",
       "198114    3658\n",
       "174953    3509\n",
       "          ... \n",
       "228155       1\n",
       "228777       1\n",
       "228834       1\n",
       "229036       1\n",
       "136818       1\n",
       "Name: vacancy_id_, Length: 121036, dtype: int64"
      ]
     },
     "execution_count": 7,
     "metadata": {},
     "output_type": "execute_result"
    }
   ],
   "source": [
    "# вакансии в порядке популярности + с целевым действием\n",
    "sorted_vacancy = df[df['target'] == 1]['vacancy_id_'].value_counts()\n",
    "sorted_vacancy"
   ]
  },
  {
   "cell_type": "code",
   "execution_count": null,
   "id": "db9a89e3",
   "metadata": {},
   "outputs": [],
   "source": []
  },
  {
   "cell_type": "code",
   "execution_count": null,
   "id": "49e0e6f1",
   "metadata": {},
   "outputs": [],
   "source": []
  },
  {
   "cell_type": "code",
   "execution_count": null,
   "id": "b3129976",
   "metadata": {},
   "outputs": [],
   "source": []
  },
  {
   "cell_type": "code",
   "execution_count": null,
   "id": "8e8fdb61",
   "metadata": {},
   "outputs": [],
   "source": []
  },
  {
   "cell_type": "code",
   "execution_count": null,
   "id": "392e4b04",
   "metadata": {},
   "outputs": [],
   "source": []
  },
  {
   "cell_type": "code",
   "execution_count": null,
   "id": "5e8ec099",
   "metadata": {},
   "outputs": [],
   "source": []
  },
  {
   "cell_type": "code",
   "execution_count": null,
   "id": "4e39310b",
   "metadata": {},
   "outputs": [],
   "source": []
  },
  {
   "cell_type": "code",
   "execution_count": 6,
   "id": "8c4cff80",
   "metadata": {},
   "outputs": [
    {
     "data": {
      "text/plain": [
       "260154    59105\n",
       "198114    50187\n",
       "203404    45634\n",
       "202608    41620\n",
       "116823    40023\n",
       "          ...  \n",
       "208174        1\n",
       "207219        1\n",
       "208297        1\n",
       "207097        1\n",
       "136818        1\n",
       "Name: vacancy_id_, Length: 160167, dtype: int64"
      ]
     },
     "execution_count": 6,
     "metadata": {},
     "output_type": "execute_result"
    }
   ],
   "source": [
    "# вакансии в порядке популярности \n",
    "sorted_vacancy = df['vacancy_id_'].value_counts()\n",
    "sorted_vacancy"
   ]
  },
  {
   "cell_type": "code",
   "execution_count": 12,
   "id": "4b85a565",
   "metadata": {},
   "outputs": [
    {
     "data": {
      "text/plain": [
       "array(['9ed5e109294444afbef12eb1f26edd35',\n",
       "       '181e9903b0984201aa691722a01df6c1',\n",
       "       'f93ab7afe74f49deb8ea5548a318d30d',\n",
       "       '933375bf6a794a6a96e78fbcec177315',\n",
       "       'af1d4ee823ac4944a19237934fe30b20'], dtype=object)"
      ]
     },
     "execution_count": 12,
     "metadata": {},
     "output_type": "execute_result"
    }
   ],
   "source": [
    "# возьмем 5 слуйчаных идентификаторов для тестирования (валидационный датасет)\n",
    "random_cookies = np.random.choice(df['cookie_id'].unique(), size=5)\n",
    "random_cookies"
   ]
  },
  {
   "cell_type": "code",
   "execution_count": 17,
   "id": "4c7f19e3",
   "metadata": {},
   "outputs": [],
   "source": [
    "def make_prediction(cookie_id, size=5):\n",
    "    # какие вакансии уже смотрел этот пользователь\n",
    "    viewed_vac = df[df['cookie_id'] == cookie_id]['vacancy_id_']\n",
    "    \n",
    "    # удалим из предсказания\n",
    "    predictions = sorted_vacancy.drop(viewed_vac, errors='ignore')\n",
    "    \n",
    "    return list(predictions.iloc[:size].index)"
   ]
  },
  {
   "cell_type": "code",
   "execution_count": 37,
   "id": "40c670c9",
   "metadata": {},
   "outputs": [
    {
     "data": {
      "text/plain": [
       "[198114, 203404, 202608, 116823, 207423]"
      ]
     },
     "execution_count": 37,
     "metadata": {},
     "output_type": "execute_result"
    }
   ],
   "source": [
    "# предсказания для одного айдишника\n",
    "make_prediction('9ed5e109294444afbef12eb1f26edd35')"
   ]
  },
  {
   "cell_type": "code",
   "execution_count": 38,
   "id": "476a345d",
   "metadata": {},
   "outputs": [
    {
     "data": {
      "text/plain": [
       "{'9ed5e109294444afbef12eb1f26edd35': [198114, 203404, 202608, 116823, 207423],\n",
       " '181e9903b0984201aa691722a01df6c1': [260154, 198114, 203404, 202608, 116823],\n",
       " 'f93ab7afe74f49deb8ea5548a318d30d': [260154, 198114, 203404, 202608, 116823],\n",
       " '933375bf6a794a6a96e78fbcec177315': [260154, 198114, 203404, 202608, 116823],\n",
       " 'af1d4ee823ac4944a19237934fe30b20': [260154, 198114, 202608, 116823, 207423]}"
      ]
     },
     "execution_count": 38,
     "metadata": {},
     "output_type": "execute_result"
    }
   ],
   "source": [
    "# предсказания для нескольких айдишников в словарь\n",
    "dct_predictions = {}\n",
    "\n",
    "for cookie in random_cookies:\n",
    "    dct_predictions[cookie] = make_prediction(cookie)\n",
    "    \n",
    "dct_predictions"
   ]
  },
  {
   "cell_type": "code",
   "execution_count": 10,
   "id": "881fb6c6",
   "metadata": {},
   "outputs": [],
   "source": [
    "# Проверим на precision@5. Будем считать как кол-во угаданных / 5\n",
    "test_df = pd.read_parquet('test_public_mfti.parquet', engine='pyarrow')"
   ]
  },
  {
   "cell_type": "code",
   "execution_count": 11,
   "id": "48956b6c",
   "metadata": {},
   "outputs": [
    {
     "data": {
      "text/html": [
       "<div>\n",
       "<style scoped>\n",
       "    .dataframe tbody tr th:only-of-type {\n",
       "        vertical-align: middle;\n",
       "    }\n",
       "\n",
       "    .dataframe tbody tr th {\n",
       "        vertical-align: top;\n",
       "    }\n",
       "\n",
       "    .dataframe thead th {\n",
       "        text-align: right;\n",
       "    }\n",
       "</style>\n",
       "<table border=\"1\" class=\"dataframe\">\n",
       "  <thead>\n",
       "    <tr style=\"text-align: right;\">\n",
       "      <th></th>\n",
       "      <th>cookie_id</th>\n",
       "      <th>vacancy_id_</th>\n",
       "    </tr>\n",
       "  </thead>\n",
       "  <tbody>\n",
       "    <tr>\n",
       "      <th>0</th>\n",
       "      <td>000cd76cd33f43d4a1ac1d16d10f8bf7</td>\n",
       "      <td>[222177, 222173, 222163, 238874, 238878, 22812...</td>\n",
       "    </tr>\n",
       "    <tr>\n",
       "      <th>1</th>\n",
       "      <td>0034bc7f404341ba8412665453e7825a</td>\n",
       "      <td>[102794, 137587, 257319, 237756, 240744, 11348...</td>\n",
       "    </tr>\n",
       "    <tr>\n",
       "      <th>2</th>\n",
       "      <td>00a6c5a64a274c55a836402bdeb3b2c4</td>\n",
       "      <td>[254292, 164602, 116438, 228634, 218819, 24065...</td>\n",
       "    </tr>\n",
       "    <tr>\n",
       "      <th>3</th>\n",
       "      <td>015937a125b14e74bdff1cddc49f9172</td>\n",
       "      <td>[246685, 138123, 115420, 210628, 212325, 235196]</td>\n",
       "    </tr>\n",
       "    <tr>\n",
       "      <th>4</th>\n",
       "      <td>01de50c280794cec8804f16f45f847b7</td>\n",
       "      <td>[219070, 251469, 166899, 212703, 214561]</td>\n",
       "    </tr>\n",
       "  </tbody>\n",
       "</table>\n",
       "</div>"
      ],
      "text/plain": [
       "                          cookie_id  \\\n",
       "0  000cd76cd33f43d4a1ac1d16d10f8bf7   \n",
       "1  0034bc7f404341ba8412665453e7825a   \n",
       "2  00a6c5a64a274c55a836402bdeb3b2c4   \n",
       "3  015937a125b14e74bdff1cddc49f9172   \n",
       "4  01de50c280794cec8804f16f45f847b7   \n",
       "\n",
       "                                         vacancy_id_  \n",
       "0  [222177, 222173, 222163, 238874, 238878, 22812...  \n",
       "1  [102794, 137587, 257319, 237756, 240744, 11348...  \n",
       "2  [254292, 164602, 116438, 228634, 218819, 24065...  \n",
       "3   [246685, 138123, 115420, 210628, 212325, 235196]  \n",
       "4           [219070, 251469, 166899, 212703, 214561]  "
      ]
     },
     "execution_count": 11,
     "metadata": {},
     "output_type": "execute_result"
    }
   ],
   "source": [
    "test_df.head()"
   ]
  },
  {
   "cell_type": "code",
   "execution_count": 19,
   "id": "39a0bdca",
   "metadata": {},
   "outputs": [],
   "source": [
    "def make_prediciton_column(cookies):\n",
    "    lst = []\n",
    "    for cookie in tqdm.tqdm(cookies):\n",
    "        prediction = make_prediction(cookie)\n",
    "        lst.append(prediction)\n",
    "    return lst"
   ]
  },
  {
   "cell_type": "code",
   "execution_count": 20,
   "id": "d9e887f7",
   "metadata": {},
   "outputs": [
    {
     "name": "stderr",
     "output_type": "stream",
     "text": [
      "100%|█████████████████████████████████████████| 772/772 [08:45<00:00,  1.47it/s]\n"
     ]
    }
   ],
   "source": [
    "test_df['predicted'] = make_prediciton_column(test_df['cookie_id'])"
   ]
  },
  {
   "cell_type": "code",
   "execution_count": 21,
   "id": "25353baf",
   "metadata": {},
   "outputs": [
    {
     "data": {
      "text/html": [
       "<div>\n",
       "<style scoped>\n",
       "    .dataframe tbody tr th:only-of-type {\n",
       "        vertical-align: middle;\n",
       "    }\n",
       "\n",
       "    .dataframe tbody tr th {\n",
       "        vertical-align: top;\n",
       "    }\n",
       "\n",
       "    .dataframe thead th {\n",
       "        text-align: right;\n",
       "    }\n",
       "</style>\n",
       "<table border=\"1\" class=\"dataframe\">\n",
       "  <thead>\n",
       "    <tr style=\"text-align: right;\">\n",
       "      <th></th>\n",
       "      <th>cookie_id</th>\n",
       "      <th>vacancy_id_</th>\n",
       "      <th>predicted</th>\n",
       "    </tr>\n",
       "  </thead>\n",
       "  <tbody>\n",
       "    <tr>\n",
       "      <th>0</th>\n",
       "      <td>000cd76cd33f43d4a1ac1d16d10f8bf7</td>\n",
       "      <td>[222177, 222173, 222163, 238874, 238878, 22812...</td>\n",
       "      <td>[116823, 182870, 207423, 198114, 174953]</td>\n",
       "    </tr>\n",
       "    <tr>\n",
       "      <th>1</th>\n",
       "      <td>0034bc7f404341ba8412665453e7825a</td>\n",
       "      <td>[102794, 137587, 257319, 237756, 240744, 11348...</td>\n",
       "      <td>[116823, 182870, 207423, 198114, 174953]</td>\n",
       "    </tr>\n",
       "    <tr>\n",
       "      <th>2</th>\n",
       "      <td>00a6c5a64a274c55a836402bdeb3b2c4</td>\n",
       "      <td>[254292, 164602, 116438, 228634, 218819, 24065...</td>\n",
       "      <td>[116823, 182870, 207423, 174953, 260154]</td>\n",
       "    </tr>\n",
       "    <tr>\n",
       "      <th>3</th>\n",
       "      <td>015937a125b14e74bdff1cddc49f9172</td>\n",
       "      <td>[246685, 138123, 115420, 210628, 212325, 235196]</td>\n",
       "      <td>[198114, 260154, 202608, 148714, 164602]</td>\n",
       "    </tr>\n",
       "    <tr>\n",
       "      <th>4</th>\n",
       "      <td>01de50c280794cec8804f16f45f847b7</td>\n",
       "      <td>[219070, 251469, 166899, 212703, 214561]</td>\n",
       "      <td>[116823, 182870, 207423, 198114, 174953]</td>\n",
       "    </tr>\n",
       "  </tbody>\n",
       "</table>\n",
       "</div>"
      ],
      "text/plain": [
       "                          cookie_id  \\\n",
       "0  000cd76cd33f43d4a1ac1d16d10f8bf7   \n",
       "1  0034bc7f404341ba8412665453e7825a   \n",
       "2  00a6c5a64a274c55a836402bdeb3b2c4   \n",
       "3  015937a125b14e74bdff1cddc49f9172   \n",
       "4  01de50c280794cec8804f16f45f847b7   \n",
       "\n",
       "                                         vacancy_id_  \\\n",
       "0  [222177, 222173, 222163, 238874, 238878, 22812...   \n",
       "1  [102794, 137587, 257319, 237756, 240744, 11348...   \n",
       "2  [254292, 164602, 116438, 228634, 218819, 24065...   \n",
       "3   [246685, 138123, 115420, 210628, 212325, 235196]   \n",
       "4           [219070, 251469, 166899, 212703, 214561]   \n",
       "\n",
       "                                  predicted  \n",
       "0  [116823, 182870, 207423, 198114, 174953]  \n",
       "1  [116823, 182870, 207423, 198114, 174953]  \n",
       "2  [116823, 182870, 207423, 174953, 260154]  \n",
       "3  [198114, 260154, 202608, 148714, 164602]  \n",
       "4  [116823, 182870, 207423, 198114, 174953]  "
      ]
     },
     "execution_count": 21,
     "metadata": {},
     "output_type": "execute_result"
    }
   ],
   "source": [
    "test_df.head()"
   ]
  },
  {
   "cell_type": "code",
   "execution_count": 22,
   "id": "351da570",
   "metadata": {},
   "outputs": [],
   "source": [
    "test_df['true_positive'] = test_df.apply(lambda x: len(set(x['vacancy_id_']) & set(x['predicted'])), axis=1)\n",
    "test_df['precision@5'] = test_df.apply(lambda x: len(set(x['vacancy_id_']) & set(x['predicted'])) / 5, axis=1)"
   ]
  },
  {
   "cell_type": "code",
   "execution_count": 23,
   "id": "65242841",
   "metadata": {},
   "outputs": [
    {
     "data": {
      "text/html": [
       "<div>\n",
       "<style scoped>\n",
       "    .dataframe tbody tr th:only-of-type {\n",
       "        vertical-align: middle;\n",
       "    }\n",
       "\n",
       "    .dataframe tbody tr th {\n",
       "        vertical-align: top;\n",
       "    }\n",
       "\n",
       "    .dataframe thead th {\n",
       "        text-align: right;\n",
       "    }\n",
       "</style>\n",
       "<table border=\"1\" class=\"dataframe\">\n",
       "  <thead>\n",
       "    <tr style=\"text-align: right;\">\n",
       "      <th></th>\n",
       "      <th>cookie_id</th>\n",
       "      <th>vacancy_id_</th>\n",
       "      <th>predicted</th>\n",
       "      <th>true_positive</th>\n",
       "      <th>precision@5</th>\n",
       "    </tr>\n",
       "  </thead>\n",
       "  <tbody>\n",
       "    <tr>\n",
       "      <th>0</th>\n",
       "      <td>000cd76cd33f43d4a1ac1d16d10f8bf7</td>\n",
       "      <td>[222177, 222173, 222163, 238874, 238878, 22812...</td>\n",
       "      <td>[116823, 182870, 207423, 198114, 174953]</td>\n",
       "      <td>0</td>\n",
       "      <td>0.0</td>\n",
       "    </tr>\n",
       "    <tr>\n",
       "      <th>1</th>\n",
       "      <td>0034bc7f404341ba8412665453e7825a</td>\n",
       "      <td>[102794, 137587, 257319, 237756, 240744, 11348...</td>\n",
       "      <td>[116823, 182870, 207423, 198114, 174953]</td>\n",
       "      <td>0</td>\n",
       "      <td>0.0</td>\n",
       "    </tr>\n",
       "    <tr>\n",
       "      <th>2</th>\n",
       "      <td>00a6c5a64a274c55a836402bdeb3b2c4</td>\n",
       "      <td>[254292, 164602, 116438, 228634, 218819, 24065...</td>\n",
       "      <td>[116823, 182870, 207423, 174953, 260154]</td>\n",
       "      <td>0</td>\n",
       "      <td>0.0</td>\n",
       "    </tr>\n",
       "    <tr>\n",
       "      <th>3</th>\n",
       "      <td>015937a125b14e74bdff1cddc49f9172</td>\n",
       "      <td>[246685, 138123, 115420, 210628, 212325, 235196]</td>\n",
       "      <td>[198114, 260154, 202608, 148714, 164602]</td>\n",
       "      <td>0</td>\n",
       "      <td>0.0</td>\n",
       "    </tr>\n",
       "    <tr>\n",
       "      <th>4</th>\n",
       "      <td>01de50c280794cec8804f16f45f847b7</td>\n",
       "      <td>[219070, 251469, 166899, 212703, 214561]</td>\n",
       "      <td>[116823, 182870, 207423, 198114, 174953]</td>\n",
       "      <td>0</td>\n",
       "      <td>0.0</td>\n",
       "    </tr>\n",
       "    <tr>\n",
       "      <th>...</th>\n",
       "      <td>...</td>\n",
       "      <td>...</td>\n",
       "      <td>...</td>\n",
       "      <td>...</td>\n",
       "      <td>...</td>\n",
       "    </tr>\n",
       "    <tr>\n",
       "      <th>767</th>\n",
       "      <td>fdbcda17f22f406486837059e76c7fed</td>\n",
       "      <td>[207851, 254989, 213344, 214180, 222146]</td>\n",
       "      <td>[116823, 182870, 207423, 198114, 174953]</td>\n",
       "      <td>0</td>\n",
       "      <td>0.0</td>\n",
       "    </tr>\n",
       "    <tr>\n",
       "      <th>768</th>\n",
       "      <td>fe6193ab26494ace9be5aae36e507618</td>\n",
       "      <td>[115352, 230546, 225527, 120188, 109360, 23212...</td>\n",
       "      <td>[116823, 182870, 207423, 198114, 174953]</td>\n",
       "      <td>0</td>\n",
       "      <td>0.0</td>\n",
       "    </tr>\n",
       "    <tr>\n",
       "      <th>769</th>\n",
       "      <td>fe95b2826ee1452b81201ed3f4c3294d</td>\n",
       "      <td>[240362, 114852, 253946, 251081, 127546, 244688]</td>\n",
       "      <td>[116823, 182870, 207423, 198114, 174953]</td>\n",
       "      <td>0</td>\n",
       "      <td>0.0</td>\n",
       "    </tr>\n",
       "    <tr>\n",
       "      <th>770</th>\n",
       "      <td>ff1aef256a49481698bb2e938510ff36</td>\n",
       "      <td>[231194, 236363, 220747, 244688, 100094, 24052...</td>\n",
       "      <td>[116823, 182870, 207423, 198114, 174953]</td>\n",
       "      <td>0</td>\n",
       "      <td>0.0</td>\n",
       "    </tr>\n",
       "    <tr>\n",
       "      <th>771</th>\n",
       "      <td>ff40591f76e34013a61b8af400002a07</td>\n",
       "      <td>[100336, 116442, 244721, 256719, 230803]</td>\n",
       "      <td>[116823, 182870, 207423, 198114, 174953]</td>\n",
       "      <td>0</td>\n",
       "      <td>0.0</td>\n",
       "    </tr>\n",
       "  </tbody>\n",
       "</table>\n",
       "<p>772 rows × 5 columns</p>\n",
       "</div>"
      ],
      "text/plain": [
       "                            cookie_id  \\\n",
       "0    000cd76cd33f43d4a1ac1d16d10f8bf7   \n",
       "1    0034bc7f404341ba8412665453e7825a   \n",
       "2    00a6c5a64a274c55a836402bdeb3b2c4   \n",
       "3    015937a125b14e74bdff1cddc49f9172   \n",
       "4    01de50c280794cec8804f16f45f847b7   \n",
       "..                                ...   \n",
       "767  fdbcda17f22f406486837059e76c7fed   \n",
       "768  fe6193ab26494ace9be5aae36e507618   \n",
       "769  fe95b2826ee1452b81201ed3f4c3294d   \n",
       "770  ff1aef256a49481698bb2e938510ff36   \n",
       "771  ff40591f76e34013a61b8af400002a07   \n",
       "\n",
       "                                           vacancy_id_  \\\n",
       "0    [222177, 222173, 222163, 238874, 238878, 22812...   \n",
       "1    [102794, 137587, 257319, 237756, 240744, 11348...   \n",
       "2    [254292, 164602, 116438, 228634, 218819, 24065...   \n",
       "3     [246685, 138123, 115420, 210628, 212325, 235196]   \n",
       "4             [219070, 251469, 166899, 212703, 214561]   \n",
       "..                                                 ...   \n",
       "767           [207851, 254989, 213344, 214180, 222146]   \n",
       "768  [115352, 230546, 225527, 120188, 109360, 23212...   \n",
       "769   [240362, 114852, 253946, 251081, 127546, 244688]   \n",
       "770  [231194, 236363, 220747, 244688, 100094, 24052...   \n",
       "771           [100336, 116442, 244721, 256719, 230803]   \n",
       "\n",
       "                                    predicted  true_positive  precision@5  \n",
       "0    [116823, 182870, 207423, 198114, 174953]              0          0.0  \n",
       "1    [116823, 182870, 207423, 198114, 174953]              0          0.0  \n",
       "2    [116823, 182870, 207423, 174953, 260154]              0          0.0  \n",
       "3    [198114, 260154, 202608, 148714, 164602]              0          0.0  \n",
       "4    [116823, 182870, 207423, 198114, 174953]              0          0.0  \n",
       "..                                        ...            ...          ...  \n",
       "767  [116823, 182870, 207423, 198114, 174953]              0          0.0  \n",
       "768  [116823, 182870, 207423, 198114, 174953]              0          0.0  \n",
       "769  [116823, 182870, 207423, 198114, 174953]              0          0.0  \n",
       "770  [116823, 182870, 207423, 198114, 174953]              0          0.0  \n",
       "771  [116823, 182870, 207423, 198114, 174953]              0          0.0  \n",
       "\n",
       "[772 rows x 5 columns]"
      ]
     },
     "execution_count": 23,
     "metadata": {},
     "output_type": "execute_result"
    }
   ],
   "source": [
    "test_df"
   ]
  },
  {
   "cell_type": "code",
   "execution_count": 24,
   "id": "2a88ceb5",
   "metadata": {},
   "outputs": [
    {
     "data": {
      "text/html": [
       "<div>\n",
       "<style scoped>\n",
       "    .dataframe tbody tr th:only-of-type {\n",
       "        vertical-align: middle;\n",
       "    }\n",
       "\n",
       "    .dataframe tbody tr th {\n",
       "        vertical-align: top;\n",
       "    }\n",
       "\n",
       "    .dataframe thead th {\n",
       "        text-align: right;\n",
       "    }\n",
       "</style>\n",
       "<table border=\"1\" class=\"dataframe\">\n",
       "  <thead>\n",
       "    <tr style=\"text-align: right;\">\n",
       "      <th></th>\n",
       "      <th>cookie_id</th>\n",
       "      <th>vacancy_id_</th>\n",
       "      <th>predicted</th>\n",
       "      <th>true_positive</th>\n",
       "      <th>precision@5</th>\n",
       "    </tr>\n",
       "  </thead>\n",
       "  <tbody>\n",
       "    <tr>\n",
       "      <th>12</th>\n",
       "      <td>043b9752285e491ea4d34807dcc94065</td>\n",
       "      <td>[207423, 240649, 116651, 119608, 221920, 21530...</td>\n",
       "      <td>[116823, 182870, 207423, 198114, 174953]</td>\n",
       "      <td>1</td>\n",
       "      <td>0.2</td>\n",
       "    </tr>\n",
       "    <tr>\n",
       "      <th>36</th>\n",
       "      <td>0c9bc6e28eb74a65890ab8f35587f7c8</td>\n",
       "      <td>[232857, 182084, 203404, 207423, 230419]</td>\n",
       "      <td>[116823, 182870, 207423, 198114, 174953]</td>\n",
       "      <td>1</td>\n",
       "      <td>0.2</td>\n",
       "    </tr>\n",
       "    <tr>\n",
       "      <th>58</th>\n",
       "      <td>13ca760a7b3948d0aa48adbed26f3b67</td>\n",
       "      <td>[239744, 226061, 182870, 220718, 110793, 22760...</td>\n",
       "      <td>[116823, 182870, 198114, 174953, 260154]</td>\n",
       "      <td>1</td>\n",
       "      <td>0.2</td>\n",
       "    </tr>\n",
       "    <tr>\n",
       "      <th>74</th>\n",
       "      <td>18604a58ee7d49d3a75780f2b1999238</td>\n",
       "      <td>[230707, 257698, 201370, 182870, 110578, 22808...</td>\n",
       "      <td>[116823, 182870, 198114, 174953, 260154]</td>\n",
       "      <td>1</td>\n",
       "      <td>0.2</td>\n",
       "    </tr>\n",
       "    <tr>\n",
       "      <th>75</th>\n",
       "      <td>186cae2dd58a42bb965fce95ff93e6d5</td>\n",
       "      <td>[232857, 207108, 228866, 228253, 240695, 16460...</td>\n",
       "      <td>[116823, 182870, 207423, 198114, 174953]</td>\n",
       "      <td>1</td>\n",
       "      <td>0.2</td>\n",
       "    </tr>\n",
       "    <tr>\n",
       "      <th>...</th>\n",
       "      <td>...</td>\n",
       "      <td>...</td>\n",
       "      <td>...</td>\n",
       "      <td>...</td>\n",
       "      <td>...</td>\n",
       "    </tr>\n",
       "    <tr>\n",
       "      <th>723</th>\n",
       "      <td>ee828a37d71a4963a0bccf0c76297545</td>\n",
       "      <td>[207423, 230707, 217606, 237288, 214513, 18208...</td>\n",
       "      <td>[116823, 182870, 207423, 198114, 174953]</td>\n",
       "      <td>1</td>\n",
       "      <td>0.2</td>\n",
       "    </tr>\n",
       "    <tr>\n",
       "      <th>734</th>\n",
       "      <td>f3ff3a77eff94997ad7b15e82e0c9976</td>\n",
       "      <td>[238046, 211189, 207108, 210503, 203404, 11183...</td>\n",
       "      <td>[116823, 182870, 207423, 198114, 174953]</td>\n",
       "      <td>1</td>\n",
       "      <td>0.2</td>\n",
       "    </tr>\n",
       "    <tr>\n",
       "      <th>741</th>\n",
       "      <td>f5c67ff429f64b4b9478e577432a6a3c</td>\n",
       "      <td>[240614, 240075, 107369, 223446, 230707, 23489...</td>\n",
       "      <td>[116823, 207423, 198114, 174953, 260154]</td>\n",
       "      <td>1</td>\n",
       "      <td>0.2</td>\n",
       "    </tr>\n",
       "    <tr>\n",
       "      <th>747</th>\n",
       "      <td>f71abd9d3c9c41ce8db075767d9c3494</td>\n",
       "      <td>[182870, 198413, 205010, 212325, 230906, 23173...</td>\n",
       "      <td>[116823, 182870, 174953, 260154, 158242]</td>\n",
       "      <td>1</td>\n",
       "      <td>0.2</td>\n",
       "    </tr>\n",
       "    <tr>\n",
       "      <th>763</th>\n",
       "      <td>fd5c778538f64fc2bf79f34444e378b4</td>\n",
       "      <td>[211220, 208667, 220718, 243009, 182870, 14871...</td>\n",
       "      <td>[116823, 182870, 207423, 174953, 260154]</td>\n",
       "      <td>1</td>\n",
       "      <td>0.2</td>\n",
       "    </tr>\n",
       "  </tbody>\n",
       "</table>\n",
       "<p>62 rows × 5 columns</p>\n",
       "</div>"
      ],
      "text/plain": [
       "                            cookie_id  \\\n",
       "12   043b9752285e491ea4d34807dcc94065   \n",
       "36   0c9bc6e28eb74a65890ab8f35587f7c8   \n",
       "58   13ca760a7b3948d0aa48adbed26f3b67   \n",
       "74   18604a58ee7d49d3a75780f2b1999238   \n",
       "75   186cae2dd58a42bb965fce95ff93e6d5   \n",
       "..                                ...   \n",
       "723  ee828a37d71a4963a0bccf0c76297545   \n",
       "734  f3ff3a77eff94997ad7b15e82e0c9976   \n",
       "741  f5c67ff429f64b4b9478e577432a6a3c   \n",
       "747  f71abd9d3c9c41ce8db075767d9c3494   \n",
       "763  fd5c778538f64fc2bf79f34444e378b4   \n",
       "\n",
       "                                           vacancy_id_  \\\n",
       "12   [207423, 240649, 116651, 119608, 221920, 21530...   \n",
       "36            [232857, 182084, 203404, 207423, 230419]   \n",
       "58   [239744, 226061, 182870, 220718, 110793, 22760...   \n",
       "74   [230707, 257698, 201370, 182870, 110578, 22808...   \n",
       "75   [232857, 207108, 228866, 228253, 240695, 16460...   \n",
       "..                                                 ...   \n",
       "723  [207423, 230707, 217606, 237288, 214513, 18208...   \n",
       "734  [238046, 211189, 207108, 210503, 203404, 11183...   \n",
       "741  [240614, 240075, 107369, 223446, 230707, 23489...   \n",
       "747  [182870, 198413, 205010, 212325, 230906, 23173...   \n",
       "763  [211220, 208667, 220718, 243009, 182870, 14871...   \n",
       "\n",
       "                                    predicted  true_positive  precision@5  \n",
       "12   [116823, 182870, 207423, 198114, 174953]              1          0.2  \n",
       "36   [116823, 182870, 207423, 198114, 174953]              1          0.2  \n",
       "58   [116823, 182870, 198114, 174953, 260154]              1          0.2  \n",
       "74   [116823, 182870, 198114, 174953, 260154]              1          0.2  \n",
       "75   [116823, 182870, 207423, 198114, 174953]              1          0.2  \n",
       "..                                        ...            ...          ...  \n",
       "723  [116823, 182870, 207423, 198114, 174953]              1          0.2  \n",
       "734  [116823, 182870, 207423, 198114, 174953]              1          0.2  \n",
       "741  [116823, 207423, 198114, 174953, 260154]              1          0.2  \n",
       "747  [116823, 182870, 174953, 260154, 158242]              1          0.2  \n",
       "763  [116823, 182870, 207423, 174953, 260154]              1          0.2  \n",
       "\n",
       "[62 rows x 5 columns]"
      ]
     },
     "execution_count": 24,
     "metadata": {},
     "output_type": "execute_result"
    }
   ],
   "source": [
    "# сколько ненулевых?\n",
    "test_df[test_df['true_positive'] != 0]"
   ]
  },
  {
   "cell_type": "code",
   "execution_count": 25,
   "id": "315321de",
   "metadata": {},
   "outputs": [
    {
     "data": {
      "text/plain": [
       "0.017616580310880828"
      ]
     },
     "execution_count": 25,
     "metadata": {},
     "output_type": "execute_result"
    }
   ],
   "source": [
    "# усредним метрику\n",
    "test_df['precision@5'].mean() "
   ]
  },
  {
   "cell_type": "code",
   "execution_count": null,
   "id": "58906384",
   "metadata": {},
   "outputs": [],
   "source": []
  }
 ],
 "metadata": {
  "kernelspec": {
   "display_name": "Python 3 (ipykernel)",
   "language": "python",
   "name": "python3"
  },
  "language_info": {
   "codemirror_mode": {
    "name": "ipython",
    "version": 3
   },
   "file_extension": ".py",
   "mimetype": "text/x-python",
   "name": "python",
   "nbconvert_exporter": "python",
   "pygments_lexer": "ipython3",
   "version": "3.9.13"
  }
 },
 "nbformat": 4,
 "nbformat_minor": 5
}
