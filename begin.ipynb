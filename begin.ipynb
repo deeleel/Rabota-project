{
 "cells": [
  {
   "cell_type": "code",
   "execution_count": 1,
   "id": "b612ff5c-262e-445c-82b7-a67b6fc17866",
   "metadata": {},
   "outputs": [],
   "source": [
    "import numpy as np\n",
    "import pandas as pd\n",
    "import plotly.express as px"
   ]
  },
  {
   "cell_type": "code",
   "execution_count": 2,
   "id": "096d4e39-71d9-4562-abfb-b84603ba29f1",
   "metadata": {
    "tags": []
   },
   "outputs": [],
   "source": [
    "df = pd.read_parquet('train_mfti.parquet', engine='pyarrow')"
   ]
  },
  {
   "cell_type": "code",
   "execution_count": 3,
   "id": "0eae0aa0-aabf-4623-a77a-8695862207ab",
   "metadata": {},
   "outputs": [
    {
     "data": {
      "text/html": [
       "<div>\n",
       "<style scoped>\n",
       "    .dataframe tbody tr th:only-of-type {\n",
       "        vertical-align: middle;\n",
       "    }\n",
       "\n",
       "    .dataframe tbody tr th {\n",
       "        vertical-align: top;\n",
       "    }\n",
       "\n",
       "    .dataframe thead th {\n",
       "        text-align: right;\n",
       "    }\n",
       "</style>\n",
       "<table border=\"1\" class=\"dataframe\">\n",
       "  <thead>\n",
       "    <tr style=\"text-align: right;\">\n",
       "      <th></th>\n",
       "      <th>event_date</th>\n",
       "      <th>event_timestamp</th>\n",
       "      <th>vacancy_id_</th>\n",
       "      <th>cookie_id</th>\n",
       "      <th>user_id</th>\n",
       "      <th>event_type</th>\n",
       "    </tr>\n",
       "  </thead>\n",
       "  <tbody>\n",
       "    <tr>\n",
       "      <th>0</th>\n",
       "      <td>2022-08-01</td>\n",
       "      <td>1659323026</td>\n",
       "      <td>129850</td>\n",
       "      <td>97990f1a021d4be19aa3f955b7eacab4</td>\n",
       "      <td>951f53de61764ea0b51317200a0dbbfc</td>\n",
       "      <td>show_vacancy</td>\n",
       "    </tr>\n",
       "    <tr>\n",
       "      <th>1</th>\n",
       "      <td>2022-08-01</td>\n",
       "      <td>1659377255</td>\n",
       "      <td>108347</td>\n",
       "      <td>03bf8c511fa949c79845a5d81b09aa1d</td>\n",
       "      <td>f5a2326a17484330aa8cb4019f1b1960</td>\n",
       "      <td>show_vacancy</td>\n",
       "    </tr>\n",
       "    <tr>\n",
       "      <th>2</th>\n",
       "      <td>2022-08-01</td>\n",
       "      <td>1659376695</td>\n",
       "      <td>109069</td>\n",
       "      <td>03bf8c511fa949c79845a5d81b09aa1d</td>\n",
       "      <td>f5a2326a17484330aa8cb4019f1b1960</td>\n",
       "      <td>show_vacancy</td>\n",
       "    </tr>\n",
       "    <tr>\n",
       "      <th>3</th>\n",
       "      <td>2022-08-01</td>\n",
       "      <td>1659376722</td>\n",
       "      <td>171425</td>\n",
       "      <td>03bf8c511fa949c79845a5d81b09aa1d</td>\n",
       "      <td>f5a2326a17484330aa8cb4019f1b1960</td>\n",
       "      <td>show_vacancy</td>\n",
       "    </tr>\n",
       "    <tr>\n",
       "      <th>4</th>\n",
       "      <td>2022-08-01</td>\n",
       "      <td>1659374929</td>\n",
       "      <td>252384</td>\n",
       "      <td>03bf8c511fa949c79845a5d81b09aa1d</td>\n",
       "      <td>f5a2326a17484330aa8cb4019f1b1960</td>\n",
       "      <td>show_vacancy</td>\n",
       "    </tr>\n",
       "    <tr>\n",
       "      <th>...</th>\n",
       "      <td>...</td>\n",
       "      <td>...</td>\n",
       "      <td>...</td>\n",
       "      <td>...</td>\n",
       "      <td>...</td>\n",
       "      <td>...</td>\n",
       "    </tr>\n",
       "    <tr>\n",
       "      <th>12292583</th>\n",
       "      <td>2022-08-11</td>\n",
       "      <td>1660246479</td>\n",
       "      <td>162851</td>\n",
       "      <td>0d3c58c6864546c689fa0997de484b30</td>\n",
       "      <td>18124998fd644e80b667a1d84bf63846</td>\n",
       "      <td>preview_click_response</td>\n",
       "    </tr>\n",
       "    <tr>\n",
       "      <th>12292584</th>\n",
       "      <td>2022-08-11</td>\n",
       "      <td>1660246106</td>\n",
       "      <td>136818</td>\n",
       "      <td>ef559274a81e4ff4b92aa3e9f6805886</td>\n",
       "      <td>5c71c1f1b7cf492ba05871c400a05250</td>\n",
       "      <td>preview_click_response</td>\n",
       "    </tr>\n",
       "    <tr>\n",
       "      <th>12292585</th>\n",
       "      <td>2022-08-11</td>\n",
       "      <td>1660250139</td>\n",
       "      <td>143721</td>\n",
       "      <td>c4453128ae584dca8f2a8d20a7c74263</td>\n",
       "      <td>33c968125459420e89ffbc8cffece317</td>\n",
       "      <td>preview_click_response</td>\n",
       "    </tr>\n",
       "    <tr>\n",
       "      <th>12292586</th>\n",
       "      <td>2022-08-11</td>\n",
       "      <td>1660250318</td>\n",
       "      <td>154423</td>\n",
       "      <td>c4453128ae584dca8f2a8d20a7c74263</td>\n",
       "      <td>33c968125459420e89ffbc8cffece317</td>\n",
       "      <td>preview_click_response</td>\n",
       "    </tr>\n",
       "    <tr>\n",
       "      <th>12292587</th>\n",
       "      <td>2022-08-11</td>\n",
       "      <td>1660215447</td>\n",
       "      <td>194140</td>\n",
       "      <td>42b24cc1337f43d2bf100ec3c612b510</td>\n",
       "      <td>4ca2f3f932534a3f8e61c2ed489444e9</td>\n",
       "      <td>preview_click_response</td>\n",
       "    </tr>\n",
       "  </tbody>\n",
       "</table>\n",
       "<p>12292588 rows × 6 columns</p>\n",
       "</div>"
      ],
      "text/plain": [
       "          event_date  event_timestamp  vacancy_id_  \\\n",
       "0         2022-08-01       1659323026       129850   \n",
       "1         2022-08-01       1659377255       108347   \n",
       "2         2022-08-01       1659376695       109069   \n",
       "3         2022-08-01       1659376722       171425   \n",
       "4         2022-08-01       1659374929       252384   \n",
       "...              ...              ...          ...   \n",
       "12292583  2022-08-11       1660246479       162851   \n",
       "12292584  2022-08-11       1660246106       136818   \n",
       "12292585  2022-08-11       1660250139       143721   \n",
       "12292586  2022-08-11       1660250318       154423   \n",
       "12292587  2022-08-11       1660215447       194140   \n",
       "\n",
       "                                 cookie_id                           user_id  \\\n",
       "0         97990f1a021d4be19aa3f955b7eacab4  951f53de61764ea0b51317200a0dbbfc   \n",
       "1         03bf8c511fa949c79845a5d81b09aa1d  f5a2326a17484330aa8cb4019f1b1960   \n",
       "2         03bf8c511fa949c79845a5d81b09aa1d  f5a2326a17484330aa8cb4019f1b1960   \n",
       "3         03bf8c511fa949c79845a5d81b09aa1d  f5a2326a17484330aa8cb4019f1b1960   \n",
       "4         03bf8c511fa949c79845a5d81b09aa1d  f5a2326a17484330aa8cb4019f1b1960   \n",
       "...                                    ...                               ...   \n",
       "12292583  0d3c58c6864546c689fa0997de484b30  18124998fd644e80b667a1d84bf63846   \n",
       "12292584  ef559274a81e4ff4b92aa3e9f6805886  5c71c1f1b7cf492ba05871c400a05250   \n",
       "12292585  c4453128ae584dca8f2a8d20a7c74263  33c968125459420e89ffbc8cffece317   \n",
       "12292586  c4453128ae584dca8f2a8d20a7c74263  33c968125459420e89ffbc8cffece317   \n",
       "12292587  42b24cc1337f43d2bf100ec3c612b510  4ca2f3f932534a3f8e61c2ed489444e9   \n",
       "\n",
       "                      event_type  \n",
       "0                   show_vacancy  \n",
       "1                   show_vacancy  \n",
       "2                   show_vacancy  \n",
       "3                   show_vacancy  \n",
       "4                   show_vacancy  \n",
       "...                          ...  \n",
       "12292583  preview_click_response  \n",
       "12292584  preview_click_response  \n",
       "12292585  preview_click_response  \n",
       "12292586  preview_click_response  \n",
       "12292587  preview_click_response  \n",
       "\n",
       "[12292588 rows x 6 columns]"
      ]
     },
     "execution_count": 3,
     "metadata": {},
     "output_type": "execute_result"
    }
   ],
   "source": [
    "df"
   ]
  },
  {
   "cell_type": "markdown",
   "id": "d1d23e30-9ff3-42cd-b22a-6229f790c247",
   "metadata": {},
   "source": [
    "Пустые значения"
   ]
  },
  {
   "cell_type": "code",
   "execution_count": null,
   "id": "0951eeb8-04a0-43bc-8b5c-1d76202b5170",
   "metadata": {},
   "outputs": [],
   "source": [
    "df.dropna()"
   ]
  },
  {
   "cell_type": "code",
   "execution_count": null,
   "id": "8641c58b-6dd2-47f8-ab56-6c952c6c290b",
   "metadata": {},
   "outputs": [],
   "source": [
    "df[df['user_id'].isna() == True]"
   ]
  },
  {
   "cell_type": "code",
   "execution_count": null,
   "id": "51d0128e-e2a2-44f4-b9f8-ffdb71f7f552",
   "metadata": {},
   "outputs": [],
   "source": []
  },
  {
   "cell_type": "code",
   "execution_count": null,
   "id": "873b6832-450f-4c1f-9607-c4ebf82d38db",
   "metadata": {
    "tags": []
   },
   "outputs": [],
   "source": [
    "df['event_type'].value_counts(normalize=True)"
   ]
  },
  {
   "cell_type": "markdown",
   "id": "8a1a14a6-5d8b-4ce7-98ca-0add510df80d",
   "metadata": {},
   "source": [
    "---"
   ]
  },
  {
   "cell_type": "code",
   "execution_count": null,
   "id": "d5b48546-d9ea-4bf9-9e76-360095735fa1",
   "metadata": {},
   "outputs": [],
   "source": [
    "date = df['event_date'].unique()\n",
    "print('Данные с {} по {}'.format(date[0], date[-1]))"
   ]
  },
  {
   "cell_type": "code",
   "execution_count": null,
   "id": "02d0c523-e838-4045-b3c6-1f2154ffc1d7",
   "metadata": {},
   "outputs": [],
   "source": []
  },
  {
   "cell_type": "markdown",
   "id": "7d23f200-586e-4c6a-a283-5f0f061d5865",
   "metadata": {},
   "source": [
    "---"
   ]
  },
  {
   "cell_type": "markdown",
   "id": "05bdb506-5d46-43c6-9cd1-31950898ae0d",
   "metadata": {},
   "source": [
    "Взаимодействие по дням"
   ]
  },
  {
   "cell_type": "code",
   "execution_count": null,
   "id": "4f141cc4-9ef2-4b6d-96bc-b2287b5ca2a2",
   "metadata": {},
   "outputs": [],
   "source": [
    "tmp = df.groupby(['event_date'], as_index=False) \\\n",
    "    .agg({'event_timestamp': 'count'}) \\\n",
    "    .sort_values(['event_date'], ascending=True) \\\n",
    "    .rename(columns={'event_timestamp': 'count'})"
   ]
  },
  {
   "cell_type": "code",
   "execution_count": null,
   "id": "451b8d66-59af-4f51-a876-539c352b7ed0",
   "metadata": {},
   "outputs": [],
   "source": [
    "tmp"
   ]
  },
  {
   "cell_type": "code",
   "execution_count": null,
   "id": "c4a33706-a946-4fc8-ba92-b7501030cb60",
   "metadata": {},
   "outputs": [],
   "source": [
    "fig = px.bar(\n",
    "    data_frame=tmp,\n",
    "    x='event_date',\n",
    "    y='count',\n",
    "    title='All interactions'\n",
    ")\n",
    "fig.show()"
   ]
  },
  {
   "cell_type": "code",
   "execution_count": null,
   "id": "57ac511d-e614-4fb0-b11f-d1ea47f2afcb",
   "metadata": {},
   "outputs": [],
   "source": [
    "tmp = df.query('event_type != \"show_vacancy\"').groupby(['event_date'], as_index=False) \\\n",
    "    .agg({'event_timestamp': 'count'}) \\\n",
    "    .sort_values(['event_date'], ascending=True) \\\n",
    "    .rename(columns={'event_timestamp': 'count'})\n",
    "\n",
    "fig = px.bar(\n",
    "    data_frame=tmp,\n",
    "    x='event_date',\n",
    "    y='count',\n",
    "    title='Without show events, only clicks'\n",
    ")\n",
    "fig.show()"
   ]
  },
  {
   "cell_type": "markdown",
   "id": "c51bb8ef-71e5-4d70-a19e-0da3357e9002",
   "metadata": {},
   "source": [
    "Просадки по выходным"
   ]
  },
  {
   "cell_type": "code",
   "execution_count": null,
   "id": "4f71ef7d-5238-423c-bd71-a94e4a83de95",
   "metadata": {},
   "outputs": [],
   "source": []
  },
  {
   "cell_type": "markdown",
   "id": "ad89cde8-716a-44ad-ad16-c5457d5e9a19",
   "metadata": {},
   "source": [
    "---"
   ]
  },
  {
   "cell_type": "code",
   "execution_count": null,
   "id": "a6fbb872-cabd-484d-8b74-cf0622880fc6",
   "metadata": {},
   "outputs": [],
   "source": [
    "vac = df['vacancy_id_'].value_counts()"
   ]
  },
  {
   "cell_type": "code",
   "execution_count": null,
   "id": "3e0c7a94-971b-4e54-9fdd-988749539b13",
   "metadata": {},
   "outputs": [],
   "source": [
    "vac"
   ]
  },
  {
   "cell_type": "code",
   "execution_count": null,
   "id": "2062b5ca-e5b1-47a6-add9-17f7404339e5",
   "metadata": {},
   "outputs": [],
   "source": [
    "print('Всего вакансий: ', len(vac))"
   ]
  },
  {
   "cell_type": "code",
   "execution_count": null,
   "id": "70049022-43bb-4096-928d-148c396866be",
   "metadata": {},
   "outputs": [],
   "source": []
  },
  {
   "cell_type": "markdown",
   "id": "3c5335ae-f289-4f41-a526-f567fe6f2066",
   "metadata": {},
   "source": [
    "CTR"
   ]
  },
  {
   "cell_type": "code",
   "execution_count": null,
   "id": "953c90c9-9e8b-4c74-96cc-f3c4bb268638",
   "metadata": {},
   "outputs": [],
   "source": [
    "vacancy_rel = df.pivot_table(index='vacancy_id_', columns='event_type', values='event_timestamp', aggfunc='count', fill_value=0).reset_index()\n",
    "vacancy_rel['ctr'] = vacancy_rel.apply(lambda x: (x['preview_click_vacancy'] + x['click_response'] + x['click_contacts'] + x['preview_click_response']+ x['click_favorite'] + x['preview_click_favorite'] + x['preview_click_contacts'] + x['click_phone'] + x['preview_click_phone'])/x['show_vacancy'] if x['show_vacancy'] != 0 else 0, axis=1)"
   ]
  },
  {
   "cell_type": "code",
   "execution_count": null,
   "id": "e92c6399-4028-451a-84b2-6f0d77623dbb",
   "metadata": {},
   "outputs": [],
   "source": [
    "vacancy_rel['ctr'].sort_values(ascending=False)"
   ]
  },
  {
   "cell_type": "code",
   "execution_count": null,
   "id": "99143cdf-d24f-4b88-ab61-ee4d44886fc8",
   "metadata": {},
   "outputs": [],
   "source": []
  },
  {
   "cell_type": "markdown",
   "id": "11e20faf-91c8-4fa4-b73b-25195bd4dffe",
   "metadata": {},
   "source": [
    "---"
   ]
  },
  {
   "cell_type": "code",
   "execution_count": null,
   "id": "32499b81-e2ad-453c-a110-9c96677f1d9d",
   "metadata": {},
   "outputs": [],
   "source": [
    "user = df['user_id'].value_counts()"
   ]
  },
  {
   "cell_type": "code",
   "execution_count": null,
   "id": "9a295622-edcf-445e-a258-035d110c1f08",
   "metadata": {},
   "outputs": [],
   "source": [
    "user"
   ]
  },
  {
   "cell_type": "code",
   "execution_count": null,
   "id": "1d224347-58f8-4b34-9cc3-d153bb6d65f0",
   "metadata": {},
   "outputs": [],
   "source": [
    "print('Всего юзеров: ', len(user))"
   ]
  },
  {
   "cell_type": "code",
   "execution_count": null,
   "id": "1defb188-a4d5-42f9-8c30-b9f3621dea57",
   "metadata": {},
   "outputs": [],
   "source": []
  },
  {
   "cell_type": "markdown",
   "id": "b0729555-3c03-4952-9b1e-77a6c27bd3b4",
   "metadata": {},
   "source": [
    "Взаимодействующие юзеры"
   ]
  },
  {
   "cell_type": "code",
   "execution_count": null,
   "id": "b561fd66-0c68-4761-a761-6e124e425d0d",
   "metadata": {},
   "outputs": [],
   "source": [
    "active_users = df.query('event_type != \"show_vacancy\"')['user_id'].value_counts()"
   ]
  },
  {
   "cell_type": "code",
   "execution_count": null,
   "id": "69156294-671e-46e7-9b19-9dca0f95fdd7",
   "metadata": {},
   "outputs": [],
   "source": [
    "print('Кол-во взаимодействующих юзеров: ', len(active_users))"
   ]
  },
  {
   "cell_type": "markdown",
   "id": "0a8c0be5-ca52-417b-b4ae-b46fea1ba4e3",
   "metadata": {},
   "source": [
    "---"
   ]
  },
  {
   "cell_type": "markdown",
   "id": "1338c85c-9793-4a01-a8d5-1cc979f61cdc",
   "metadata": {},
   "source": [
    "Кол-во сессий"
   ]
  },
  {
   "cell_type": "code",
   "execution_count": null,
   "id": "691eab04-887b-448a-a7c6-c3d9fbd4e0af",
   "metadata": {},
   "outputs": [],
   "source": [
    "tmp_cookie = df.groupby(['user_id'], as_index=False)['cookie_id'].nunique() \\\n",
    "    .sort_values(['cookie_id'], ascending=False) \\\n",
    "    .reset_index() \\\n",
    "    .rename(columns={'cookie_id': 'count'})"
   ]
  },
  {
   "cell_type": "code",
   "execution_count": null,
   "id": "669415fb-4e07-4391-bf27-d4e13f43c251",
   "metadata": {},
   "outputs": [],
   "source": [
    "tmp_cookie"
   ]
  },
  {
   "cell_type": "code",
   "execution_count": null,
   "id": "35342435-ed7a-4a1f-88f0-76795b8f4b83",
   "metadata": {},
   "outputs": [],
   "source": [
    "tmp_cookie['count'].mean()"
   ]
  },
  {
   "cell_type": "markdown",
   "id": "31d179fe-bce3-4efd-a2cc-57323bf2fb7e",
   "metadata": {},
   "source": [
    "---"
   ]
  }
 ],
 "metadata": {
  "kernelspec": {
   "display_name": "Python 3 (ipykernel)",
   "language": "python",
   "name": "python3"
  },
  "language_info": {
   "codemirror_mode": {
    "name": "ipython",
    "version": 3
   },
   "file_extension": ".py",
   "mimetype": "text/x-python",
   "name": "python",
   "nbconvert_exporter": "python",
   "pygments_lexer": "ipython3",
   "version": "3.9.13"
  }
 },
 "nbformat": 4,
 "nbformat_minor": 5
}
