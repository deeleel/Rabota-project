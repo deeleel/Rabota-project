{
 "cells": [
  {
   "cell_type": "code",
   "execution_count": 1,
   "id": "2dba1830-4bcf-4d22-9b8c-128a73f3be12",
   "metadata": {},
   "outputs": [],
   "source": [
    "import numpy as np\n",
    "import pandas as pd\n",
    "import tqdm\n",
    "from scipy import sparse\n",
    "import scipy\n",
    "from sklearn.metrics.pairwise import cosine_similarity\n",
    "from multiprocesspandas import applyparallel\n",
    "from scipy.sparse import csr_matrix"
   ]
  },
  {
   "cell_type": "code",
   "execution_count": 2,
   "id": "cd5089ed-4a3b-4e17-8257-95ef9cca3f41",
   "metadata": {},
   "outputs": [],
   "source": [
    "import torch\n",
    "import torch.nn as nn\n",
    "import torch.nn.functional as F"
   ]
  },
  {
   "cell_type": "markdown",
   "id": "64e267d9-6fcc-41a1-bd7f-df1cb3dd8f31",
   "metadata": {},
   "source": [
    "# Prepare \n",
    "\n",
    "Создается новый датасет с заполненной new_id\n",
    "- если у юзера есть user_id -> user_id = new_id\n",
    "- если у юзера нет user_id -> user_id = cookie_id\n",
    "- у юзеров, где пропущены user_id заполняются пропуски"
   ]
  },
  {
   "cell_type": "code",
   "execution_count": null,
   "id": "d1640d8c-5426-44b9-8365-b9d1e42a90f3",
   "metadata": {
    "tags": []
   },
   "outputs": [],
   "source": [
    "# df = pd.read_parquet('train_mfti.parquet', engine='pyarrow')\n",
    "\n",
    "# users_cookies = df[df['user_id'].notna()].groupby(['cookie_id'], as_index=False)['user_id'].agg(['unique'])\n",
    "# users_cookies_list = users_cookies.index"
   ]
  },
  {
   "cell_type": "code",
   "execution_count": null,
   "id": "b557acc8-b4b4-4141-b7fb-e9d6dc5700a4",
   "metadata": {
    "tags": []
   },
   "outputs": [],
   "source": [
    "# df.drop_duplicates(inplace=True)"
   ]
  },
  {
   "cell_type": "code",
   "execution_count": null,
   "id": "11d46ec8-3c97-4972-a514-7901cdad3cfe",
   "metadata": {
    "tags": []
   },
   "outputs": [],
   "source": [
    "# def set_id_unknown(cookie):\n",
    "#     if cookie in users_cookies_list:\n",
    "#         return users_cookies.loc[cookie][0][0]\n",
    "#     else:\n",
    "#         return cookie\n",
    "    \n",
    "# arr_new_id = list()\n",
    "# for i in tqdm.tqdm(df['cookie_id']):\n",
    "#     arr_new_id.append(set_id_unknown(i))\n",
    "    \n",
    "# df.insert(6, \"new_id\", arr_new_id, True)\n",
    "# print('Нет пропусков id',df[df['new_id'].isna()]['new_id'].sum() == 0)"
   ]
  },
  {
   "cell_type": "code",
   "execution_count": null,
   "id": "d0fedfd3-d369-45a7-a765-6ff8489ab5a4",
   "metadata": {
    "tags": []
   },
   "outputs": [],
   "source": [
    "# df.to_csv('with_new_ids_drop_dub.csv', index=False)"
   ]
  },
  {
   "cell_type": "markdown",
   "id": "5315fe3f-1b70-4754-b992-be27a096ab0a",
   "metadata": {},
   "source": [
    "---"
   ]
  },
  {
   "cell_type": "markdown",
   "id": "2706d680-eb0d-4f32-a67e-f7326c3f66c1",
   "metadata": {},
   "source": [
    "# Чтение датасетов\n",
    "- заменяем cookie_id в тестовом датасете на new_id"
   ]
  },
  {
   "cell_type": "code",
   "execution_count": 4,
   "id": "9b6ab5c7-2be5-42b4-8493-81094f43b3f6",
   "metadata": {},
   "outputs": [
    {
     "data": {
      "text/html": [
       "<div>\n",
       "<style scoped>\n",
       "    .dataframe tbody tr th:only-of-type {\n",
       "        vertical-align: middle;\n",
       "    }\n",
       "\n",
       "    .dataframe tbody tr th {\n",
       "        vertical-align: top;\n",
       "    }\n",
       "\n",
       "    .dataframe thead th {\n",
       "        text-align: right;\n",
       "    }\n",
       "</style>\n",
       "<table border=\"1\" class=\"dataframe\">\n",
       "  <thead>\n",
       "    <tr style=\"text-align: right;\">\n",
       "      <th></th>\n",
       "      <th>event_timestamp</th>\n",
       "      <th>vacancy_id_</th>\n",
       "      <th>cookie_id</th>\n",
       "      <th>event_type</th>\n",
       "      <th>new_id</th>\n",
       "    </tr>\n",
       "  </thead>\n",
       "  <tbody>\n",
       "    <tr>\n",
       "      <th>0</th>\n",
       "      <td>1659323026</td>\n",
       "      <td>129850</td>\n",
       "      <td>97990f1a021d4be19aa3f955b7eacab4</td>\n",
       "      <td>show_vacancy</td>\n",
       "      <td>951f53de61764ea0b51317200a0dbbfc</td>\n",
       "    </tr>\n",
       "    <tr>\n",
       "      <th>1</th>\n",
       "      <td>1659377255</td>\n",
       "      <td>108347</td>\n",
       "      <td>03bf8c511fa949c79845a5d81b09aa1d</td>\n",
       "      <td>show_vacancy</td>\n",
       "      <td>f5a2326a17484330aa8cb4019f1b1960</td>\n",
       "    </tr>\n",
       "    <tr>\n",
       "      <th>2</th>\n",
       "      <td>1659376695</td>\n",
       "      <td>109069</td>\n",
       "      <td>03bf8c511fa949c79845a5d81b09aa1d</td>\n",
       "      <td>show_vacancy</td>\n",
       "      <td>f5a2326a17484330aa8cb4019f1b1960</td>\n",
       "    </tr>\n",
       "    <tr>\n",
       "      <th>3</th>\n",
       "      <td>1659376722</td>\n",
       "      <td>171425</td>\n",
       "      <td>03bf8c511fa949c79845a5d81b09aa1d</td>\n",
       "      <td>show_vacancy</td>\n",
       "      <td>f5a2326a17484330aa8cb4019f1b1960</td>\n",
       "    </tr>\n",
       "    <tr>\n",
       "      <th>4</th>\n",
       "      <td>1659374929</td>\n",
       "      <td>252384</td>\n",
       "      <td>03bf8c511fa949c79845a5d81b09aa1d</td>\n",
       "      <td>show_vacancy</td>\n",
       "      <td>f5a2326a17484330aa8cb4019f1b1960</td>\n",
       "    </tr>\n",
       "    <tr>\n",
       "      <th>...</th>\n",
       "      <td>...</td>\n",
       "      <td>...</td>\n",
       "      <td>...</td>\n",
       "      <td>...</td>\n",
       "      <td>...</td>\n",
       "    </tr>\n",
       "    <tr>\n",
       "      <th>12246984</th>\n",
       "      <td>1660246479</td>\n",
       "      <td>162851</td>\n",
       "      <td>0d3c58c6864546c689fa0997de484b30</td>\n",
       "      <td>preview_click_response</td>\n",
       "      <td>18124998fd644e80b667a1d84bf63846</td>\n",
       "    </tr>\n",
       "    <tr>\n",
       "      <th>12246985</th>\n",
       "      <td>1660246106</td>\n",
       "      <td>136818</td>\n",
       "      <td>ef559274a81e4ff4b92aa3e9f6805886</td>\n",
       "      <td>preview_click_response</td>\n",
       "      <td>5c71c1f1b7cf492ba05871c400a05250</td>\n",
       "    </tr>\n",
       "    <tr>\n",
       "      <th>12246986</th>\n",
       "      <td>1660250139</td>\n",
       "      <td>143721</td>\n",
       "      <td>c4453128ae584dca8f2a8d20a7c74263</td>\n",
       "      <td>preview_click_response</td>\n",
       "      <td>33c968125459420e89ffbc8cffece317</td>\n",
       "    </tr>\n",
       "    <tr>\n",
       "      <th>12246987</th>\n",
       "      <td>1660250318</td>\n",
       "      <td>154423</td>\n",
       "      <td>c4453128ae584dca8f2a8d20a7c74263</td>\n",
       "      <td>preview_click_response</td>\n",
       "      <td>33c968125459420e89ffbc8cffece317</td>\n",
       "    </tr>\n",
       "    <tr>\n",
       "      <th>12246988</th>\n",
       "      <td>1660215447</td>\n",
       "      <td>194140</td>\n",
       "      <td>42b24cc1337f43d2bf100ec3c612b510</td>\n",
       "      <td>preview_click_response</td>\n",
       "      <td>4ca2f3f932534a3f8e61c2ed489444e9</td>\n",
       "    </tr>\n",
       "  </tbody>\n",
       "</table>\n",
       "<p>12246989 rows × 5 columns</p>\n",
       "</div>"
      ],
      "text/plain": [
       "          event_timestamp  vacancy_id_                         cookie_id  \\\n",
       "0              1659323026       129850  97990f1a021d4be19aa3f955b7eacab4   \n",
       "1              1659377255       108347  03bf8c511fa949c79845a5d81b09aa1d   \n",
       "2              1659376695       109069  03bf8c511fa949c79845a5d81b09aa1d   \n",
       "3              1659376722       171425  03bf8c511fa949c79845a5d81b09aa1d   \n",
       "4              1659374929       252384  03bf8c511fa949c79845a5d81b09aa1d   \n",
       "...                   ...          ...                               ...   \n",
       "12246984       1660246479       162851  0d3c58c6864546c689fa0997de484b30   \n",
       "12246985       1660246106       136818  ef559274a81e4ff4b92aa3e9f6805886   \n",
       "12246986       1660250139       143721  c4453128ae584dca8f2a8d20a7c74263   \n",
       "12246987       1660250318       154423  c4453128ae584dca8f2a8d20a7c74263   \n",
       "12246988       1660215447       194140  42b24cc1337f43d2bf100ec3c612b510   \n",
       "\n",
       "                      event_type                            new_id  \n",
       "0                   show_vacancy  951f53de61764ea0b51317200a0dbbfc  \n",
       "1                   show_vacancy  f5a2326a17484330aa8cb4019f1b1960  \n",
       "2                   show_vacancy  f5a2326a17484330aa8cb4019f1b1960  \n",
       "3                   show_vacancy  f5a2326a17484330aa8cb4019f1b1960  \n",
       "4                   show_vacancy  f5a2326a17484330aa8cb4019f1b1960  \n",
       "...                          ...                               ...  \n",
       "12246984  preview_click_response  18124998fd644e80b667a1d84bf63846  \n",
       "12246985  preview_click_response  5c71c1f1b7cf492ba05871c400a05250  \n",
       "12246986  preview_click_response  33c968125459420e89ffbc8cffece317  \n",
       "12246987  preview_click_response  33c968125459420e89ffbc8cffece317  \n",
       "12246988  preview_click_response  4ca2f3f932534a3f8e61c2ed489444e9  \n",
       "\n",
       "[12246989 rows x 5 columns]"
      ]
     },
     "execution_count": 4,
     "metadata": {},
     "output_type": "execute_result"
    }
   ],
   "source": [
    "df = pd.read_csv('with_new_ids_drop_dub.csv', engine='c')\n",
    "df.drop(['user_id', 'event_date'], axis=1, inplace=True)\n",
    "df"
   ]
  },
  {
   "cell_type": "code",
   "execution_count": 5,
   "id": "7a17f970-66eb-4648-a69e-58579f00cb14",
   "metadata": {},
   "outputs": [],
   "source": [
    "uniq_users_id = df['new_id'].unique()\n",
    "uniq_vacancy = df['vacancy_id_'].unique()\n",
    "users_cookies = df.groupby(['cookie_id'], as_index=False)['new_id'].agg(['unique'])"
   ]
  },
  {
   "cell_type": "code",
   "execution_count": 6,
   "id": "22aa90ba-115f-49c2-a4a5-f98535ae920a",
   "metadata": {},
   "outputs": [],
   "source": [
    "interactions = df.groupby(['new_id', 'vacancy_id_', 'event_type'], as_index=False) \\\n",
    ".agg({'event_timestamp': 'count'}) \\\n",
    ".sort_values(['event_timestamp'], ascending=False)"
   ]
  },
  {
   "cell_type": "code",
   "execution_count": 7,
   "id": "6f3a314d-afba-496a-84ad-608ab2ede2ee",
   "metadata": {},
   "outputs": [
    {
     "data": {
      "text/html": [
       "<div>\n",
       "<style scoped>\n",
       "    .dataframe tbody tr th:only-of-type {\n",
       "        vertical-align: middle;\n",
       "    }\n",
       "\n",
       "    .dataframe tbody tr th {\n",
       "        vertical-align: top;\n",
       "    }\n",
       "\n",
       "    .dataframe thead th {\n",
       "        text-align: right;\n",
       "    }\n",
       "</style>\n",
       "<table border=\"1\" class=\"dataframe\">\n",
       "  <thead>\n",
       "    <tr style=\"text-align: right;\">\n",
       "      <th></th>\n",
       "      <th>cookie_id</th>\n",
       "      <th>vacancy_id_</th>\n",
       "    </tr>\n",
       "  </thead>\n",
       "  <tbody>\n",
       "    <tr>\n",
       "      <th>0</th>\n",
       "      <td>000cd76cd33f43d4a1ac1d16d10f8bf7</td>\n",
       "      <td>[222177, 222173, 222163, 238874, 238878, 22812...</td>\n",
       "    </tr>\n",
       "    <tr>\n",
       "      <th>1</th>\n",
       "      <td>0034bc7f404341ba8412665453e7825a</td>\n",
       "      <td>[102794, 137587, 257319, 237756, 240744, 11348...</td>\n",
       "    </tr>\n",
       "    <tr>\n",
       "      <th>2</th>\n",
       "      <td>00a6c5a64a274c55a836402bdeb3b2c4</td>\n",
       "      <td>[254292, 164602, 116438, 228634, 218819, 24065...</td>\n",
       "    </tr>\n",
       "    <tr>\n",
       "      <th>3</th>\n",
       "      <td>015937a125b14e74bdff1cddc49f9172</td>\n",
       "      <td>[246685, 138123, 115420, 210628, 212325, 235196]</td>\n",
       "    </tr>\n",
       "    <tr>\n",
       "      <th>4</th>\n",
       "      <td>01de50c280794cec8804f16f45f847b7</td>\n",
       "      <td>[219070, 251469, 166899, 212703, 214561]</td>\n",
       "    </tr>\n",
       "    <tr>\n",
       "      <th>...</th>\n",
       "      <td>...</td>\n",
       "      <td>...</td>\n",
       "    </tr>\n",
       "    <tr>\n",
       "      <th>767</th>\n",
       "      <td>fdbcda17f22f406486837059e76c7fed</td>\n",
       "      <td>[207851, 254989, 213344, 214180, 222146]</td>\n",
       "    </tr>\n",
       "    <tr>\n",
       "      <th>768</th>\n",
       "      <td>fe6193ab26494ace9be5aae36e507618</td>\n",
       "      <td>[115352, 230546, 225527, 120188, 109360, 23212...</td>\n",
       "    </tr>\n",
       "    <tr>\n",
       "      <th>769</th>\n",
       "      <td>fe95b2826ee1452b81201ed3f4c3294d</td>\n",
       "      <td>[240362, 114852, 253946, 251081, 127546, 244688]</td>\n",
       "    </tr>\n",
       "    <tr>\n",
       "      <th>770</th>\n",
       "      <td>ff1aef256a49481698bb2e938510ff36</td>\n",
       "      <td>[231194, 236363, 220747, 244688, 100094, 24052...</td>\n",
       "    </tr>\n",
       "    <tr>\n",
       "      <th>771</th>\n",
       "      <td>ff40591f76e34013a61b8af400002a07</td>\n",
       "      <td>[100336, 116442, 244721, 256719, 230803]</td>\n",
       "    </tr>\n",
       "  </tbody>\n",
       "</table>\n",
       "<p>772 rows × 2 columns</p>\n",
       "</div>"
      ],
      "text/plain": [
       "                            cookie_id  \\\n",
       "0    000cd76cd33f43d4a1ac1d16d10f8bf7   \n",
       "1    0034bc7f404341ba8412665453e7825a   \n",
       "2    00a6c5a64a274c55a836402bdeb3b2c4   \n",
       "3    015937a125b14e74bdff1cddc49f9172   \n",
       "4    01de50c280794cec8804f16f45f847b7   \n",
       "..                                ...   \n",
       "767  fdbcda17f22f406486837059e76c7fed   \n",
       "768  fe6193ab26494ace9be5aae36e507618   \n",
       "769  fe95b2826ee1452b81201ed3f4c3294d   \n",
       "770  ff1aef256a49481698bb2e938510ff36   \n",
       "771  ff40591f76e34013a61b8af400002a07   \n",
       "\n",
       "                                           vacancy_id_  \n",
       "0    [222177, 222173, 222163, 238874, 238878, 22812...  \n",
       "1    [102794, 137587, 257319, 237756, 240744, 11348...  \n",
       "2    [254292, 164602, 116438, 228634, 218819, 24065...  \n",
       "3     [246685, 138123, 115420, 210628, 212325, 235196]  \n",
       "4             [219070, 251469, 166899, 212703, 214561]  \n",
       "..                                                 ...  \n",
       "767           [207851, 254989, 213344, 214180, 222146]  \n",
       "768  [115352, 230546, 225527, 120188, 109360, 23212...  \n",
       "769   [240362, 114852, 253946, 251081, 127546, 244688]  \n",
       "770  [231194, 236363, 220747, 244688, 100094, 24052...  \n",
       "771           [100336, 116442, 244721, 256719, 230803]  \n",
       "\n",
       "[772 rows x 2 columns]"
      ]
     },
     "execution_count": 7,
     "metadata": {},
     "output_type": "execute_result"
    }
   ],
   "source": [
    "test_df = pd.read_parquet('test_public_mfti.parquet', engine='pyarrow')\n",
    "test_df"
   ]
  },
  {
   "cell_type": "code",
   "execution_count": 8,
   "id": "476f23f0-ff18-4f57-9c2f-75a676f312f8",
   "metadata": {},
   "outputs": [],
   "source": [
    "def get_new_id_by_cookie(cookie):\n",
    "    return users_cookies.loc[cookie][0][0]"
   ]
  },
  {
   "cell_type": "code",
   "execution_count": 9,
   "id": "3dd11f1f-552c-482a-9e67-ae6b1fbbb1fc",
   "metadata": {},
   "outputs": [],
   "source": [
    "test_df['cookie_id'] = test_df['cookie_id'].apply(lambda x: get_new_id_by_cookie(x))\n",
    "test_df = test_df.rename(columns={'cookie_id': 'new_id'})"
   ]
  },
  {
   "cell_type": "code",
   "execution_count": 10,
   "id": "be2fd400-fe39-477f-9167-25178eef0960",
   "metadata": {},
   "outputs": [
    {
     "data": {
      "text/html": [
       "<div>\n",
       "<style scoped>\n",
       "    .dataframe tbody tr th:only-of-type {\n",
       "        vertical-align: middle;\n",
       "    }\n",
       "\n",
       "    .dataframe tbody tr th {\n",
       "        vertical-align: top;\n",
       "    }\n",
       "\n",
       "    .dataframe thead th {\n",
       "        text-align: right;\n",
       "    }\n",
       "</style>\n",
       "<table border=\"1\" class=\"dataframe\">\n",
       "  <thead>\n",
       "    <tr style=\"text-align: right;\">\n",
       "      <th></th>\n",
       "      <th>new_id</th>\n",
       "      <th>vacancy_id_</th>\n",
       "    </tr>\n",
       "  </thead>\n",
       "  <tbody>\n",
       "    <tr>\n",
       "      <th>0</th>\n",
       "      <td>477e719bfbcc4071a8acc1b357492b00</td>\n",
       "      <td>[222177, 222173, 222163, 238874, 238878, 22812...</td>\n",
       "    </tr>\n",
       "    <tr>\n",
       "      <th>1</th>\n",
       "      <td>753a2a268ae84ab49475e62736c02860</td>\n",
       "      <td>[102794, 137587, 257319, 237756, 240744, 11348...</td>\n",
       "    </tr>\n",
       "    <tr>\n",
       "      <th>2</th>\n",
       "      <td>d01c76b282364fbb8195f326de3e893c</td>\n",
       "      <td>[254292, 164602, 116438, 228634, 218819, 24065...</td>\n",
       "    </tr>\n",
       "    <tr>\n",
       "      <th>3</th>\n",
       "      <td>6adb4495090b454395d5aa2f1a5ff9d9</td>\n",
       "      <td>[246685, 138123, 115420, 210628, 212325, 235196]</td>\n",
       "    </tr>\n",
       "    <tr>\n",
       "      <th>4</th>\n",
       "      <td>b107696e3ff54e8a83182828bb845bc6</td>\n",
       "      <td>[219070, 251469, 166899, 212703, 214561]</td>\n",
       "    </tr>\n",
       "    <tr>\n",
       "      <th>...</th>\n",
       "      <td>...</td>\n",
       "      <td>...</td>\n",
       "    </tr>\n",
       "    <tr>\n",
       "      <th>767</th>\n",
       "      <td>da74810d481449278a75a091178f9831</td>\n",
       "      <td>[207851, 254989, 213344, 214180, 222146]</td>\n",
       "    </tr>\n",
       "    <tr>\n",
       "      <th>768</th>\n",
       "      <td>4da39c1e048d49cabcd1229fdcc6413f</td>\n",
       "      <td>[115352, 230546, 225527, 120188, 109360, 23212...</td>\n",
       "    </tr>\n",
       "    <tr>\n",
       "      <th>769</th>\n",
       "      <td>5207e9855ec54e02aa8cfa48ede76e1b</td>\n",
       "      <td>[240362, 114852, 253946, 251081, 127546, 244688]</td>\n",
       "    </tr>\n",
       "    <tr>\n",
       "      <th>770</th>\n",
       "      <td>7f2067ab30994440b13a0ea37a5e8001</td>\n",
       "      <td>[231194, 236363, 220747, 244688, 100094, 24052...</td>\n",
       "    </tr>\n",
       "    <tr>\n",
       "      <th>771</th>\n",
       "      <td>ff40591f76e34013a61b8af400002a07</td>\n",
       "      <td>[100336, 116442, 244721, 256719, 230803]</td>\n",
       "    </tr>\n",
       "  </tbody>\n",
       "</table>\n",
       "<p>772 rows × 2 columns</p>\n",
       "</div>"
      ],
      "text/plain": [
       "                               new_id  \\\n",
       "0    477e719bfbcc4071a8acc1b357492b00   \n",
       "1    753a2a268ae84ab49475e62736c02860   \n",
       "2    d01c76b282364fbb8195f326de3e893c   \n",
       "3    6adb4495090b454395d5aa2f1a5ff9d9   \n",
       "4    b107696e3ff54e8a83182828bb845bc6   \n",
       "..                                ...   \n",
       "767  da74810d481449278a75a091178f9831   \n",
       "768  4da39c1e048d49cabcd1229fdcc6413f   \n",
       "769  5207e9855ec54e02aa8cfa48ede76e1b   \n",
       "770  7f2067ab30994440b13a0ea37a5e8001   \n",
       "771  ff40591f76e34013a61b8af400002a07   \n",
       "\n",
       "                                           vacancy_id_  \n",
       "0    [222177, 222173, 222163, 238874, 238878, 22812...  \n",
       "1    [102794, 137587, 257319, 237756, 240744, 11348...  \n",
       "2    [254292, 164602, 116438, 228634, 218819, 24065...  \n",
       "3     [246685, 138123, 115420, 210628, 212325, 235196]  \n",
       "4             [219070, 251469, 166899, 212703, 214561]  \n",
       "..                                                 ...  \n",
       "767           [207851, 254989, 213344, 214180, 222146]  \n",
       "768  [115352, 230546, 225527, 120188, 109360, 23212...  \n",
       "769   [240362, 114852, 253946, 251081, 127546, 244688]  \n",
       "770  [231194, 236363, 220747, 244688, 100094, 24052...  \n",
       "771           [100336, 116442, 244721, 256719, 230803]  \n",
       "\n",
       "[772 rows x 2 columns]"
      ]
     },
     "execution_count": 10,
     "metadata": {},
     "output_type": "execute_result"
    }
   ],
   "source": [
    "test_df"
   ]
  },
  {
   "cell_type": "code",
   "execution_count": 12,
   "id": "30c0bf06-0f54-474c-b0ad-54941638359e",
   "metadata": {},
   "outputs": [],
   "source": [
    "# default vacancies to give\n",
    "top_vacancies = df.pivot_table(index='vacancy_id_', columns='event_type', values='event_timestamp', aggfunc='count', fill_value=0)\n",
    "top_vacancies['ctr'] = top_vacancies.apply(lambda x: (x['preview_click_vacancy'] + x['click_response'] + x['click_contacts'] + x['preview_click_response']+ x['click_favorite'] + x['preview_click_favorite'] + x['preview_click_contacts'] + x['click_phone'] + x['preview_click_phone'])/x['show_vacancy'] if x['show_vacancy'] != 0 else 0, axis=1)\n",
    "top_vacancies = list(top_vacancies.sort_values(['ctr'], ascending=False).index[:10])"
   ]
  },
  {
   "cell_type": "markdown",
   "id": "97080ab4-27b2-4858-879c-efc0cb444c06",
   "metadata": {},
   "source": [
    "# Matrix factorization\n",
    "\n",
    "- Выбираем как считать заинтересованность юзера вакансией"
   ]
  },
  {
   "cell_type": "code",
   "execution_count": null,
   "id": "847e8968-64bd-4882-ab91-9923f0d64b2f",
   "metadata": {},
   "outputs": [],
   "source": [
    "def help_func(x, events):\n",
    "    if ((len(events)>0) and ('show_vacancy' in events) and (x['show_vacancy']>0)):\n",
    "        return round((sum([x[i] for i in events]) - x['show_vacancy']) / x['show_vacancy'], 1)\n",
    "    elif (('show_vacancy' not in events) or (x['show_vacancy'] == 0)):\n",
    "        return sum([x[i] for i in events])\n",
    "    else:\n",
    "        return 0\n",
    "    \n",
    "def help_func_sum(x, events):\n",
    "    return len([x[i] for i in events if x[i]])\n",
    "\n",
    "def get_vacancies_ctr():\n",
    "    unique_user_events = interactions['event_type'].unique().tolist()\n",
    "\n",
    "    vacancy_table = interactions.pivot_table(index=['new_id', 'vacancy_id_'], columns='event_type', values='event_timestamp', fill_value=0).reset_index()\n",
    "    vacancy_table['ctr'] = vacancy_table.apply_parallel(help_func, events=unique_user_events, num_processes=6)\n",
    "    \n",
    "    return vacancy_table[['new_id', 'vacancy_id_', 'ctr']]\n",
    "\n",
    "\n",
    "def get_vacancies_sum_clicks():\n",
    "    interactions = df.query('event_type != \"preview_click_vacancy\" and event_type != \"show_vacancy\"') \\\n",
    "    .groupby(['new_id', 'vacancy_id_', 'event_type'], as_index=False) \\\n",
    "    .agg({'event_timestamp': 'count'})\n",
    "    \n",
    "    unique_user_events = interactions['event_type'].unique().tolist()\n",
    "    vacancy_table = interactions.pivot_table(index=['new_id', 'vacancy_id_'], columns='event_type', values='event_timestamp', fill_value=0).reset_index()\n",
    "    vacancy_table['ctr'] = vacancy_table.apply_parallel(help_func_sum, events=unique_user_events, num_processes=6)\n",
    "    \n",
    "    return vacancy_table[['new_id', 'vacancy_id_', 'ctr']]"
   ]
  },
  {
   "cell_type": "code",
   "execution_count": null,
   "id": "0800c979-c741-4254-9308-d5703286d90f",
   "metadata": {
    "tags": []
   },
   "outputs": [],
   "source": [
    "# Новые датафрейм, где для каждой вакансии юзера, есть степень интереса\n",
    "# df_new = get_vacancies_sum_clicks()\n",
    "# df_new.to_csv('file_with_get_vacancies_sum_clicks.csv', index=False)"
   ]
  },
  {
   "cell_type": "code",
   "execution_count": 13,
   "id": "b0a66a5a-308f-4cbc-9c3c-1f7c1fd9d60c",
   "metadata": {},
   "outputs": [],
   "source": [
    "df_new = pd.read_csv('file_with_user_vacancy_ctr.csv')\n",
    "df_new['ctr'] = df_new['ctr'].astype('float32')"
   ]
  },
  {
   "cell_type": "code",
   "execution_count": 14,
   "id": "c7b31ecc-9419-4b34-bfb0-de6e923ca24c",
   "metadata": {
    "tags": []
   },
   "outputs": [
    {
     "data": {
      "text/html": [
       "<div>\n",
       "<style scoped>\n",
       "    .dataframe tbody tr th:only-of-type {\n",
       "        vertical-align: middle;\n",
       "    }\n",
       "\n",
       "    .dataframe tbody tr th {\n",
       "        vertical-align: top;\n",
       "    }\n",
       "\n",
       "    .dataframe thead th {\n",
       "        text-align: right;\n",
       "    }\n",
       "</style>\n",
       "<table border=\"1\" class=\"dataframe\">\n",
       "  <thead>\n",
       "    <tr style=\"text-align: right;\">\n",
       "      <th></th>\n",
       "      <th>new_id</th>\n",
       "      <th>vacancy_id_</th>\n",
       "      <th>ctr</th>\n",
       "    </tr>\n",
       "  </thead>\n",
       "  <tbody>\n",
       "    <tr>\n",
       "      <th>0</th>\n",
       "      <td>000089d26cdd49d68839c68bc10f2cf2</td>\n",
       "      <td>177380</td>\n",
       "      <td>1.0</td>\n",
       "    </tr>\n",
       "    <tr>\n",
       "      <th>1</th>\n",
       "      <td>000089d26cdd49d68839c68bc10f2cf2</td>\n",
       "      <td>181353</td>\n",
       "      <td>1.0</td>\n",
       "    </tr>\n",
       "    <tr>\n",
       "      <th>2</th>\n",
       "      <td>000089d26cdd49d68839c68bc10f2cf2</td>\n",
       "      <td>195890</td>\n",
       "      <td>1.0</td>\n",
       "    </tr>\n",
       "    <tr>\n",
       "      <th>3</th>\n",
       "      <td>000089d26cdd49d68839c68bc10f2cf2</td>\n",
       "      <td>205562</td>\n",
       "      <td>1.0</td>\n",
       "    </tr>\n",
       "    <tr>\n",
       "      <th>4</th>\n",
       "      <td>000089d26cdd49d68839c68bc10f2cf2</td>\n",
       "      <td>211064</td>\n",
       "      <td>1.0</td>\n",
       "    </tr>\n",
       "    <tr>\n",
       "      <th>...</th>\n",
       "      <td>...</td>\n",
       "      <td>...</td>\n",
       "      <td>...</td>\n",
       "    </tr>\n",
       "    <tr>\n",
       "      <th>4661345</th>\n",
       "      <td>ffffdb17f45b4032b386d691d52e6c00</td>\n",
       "      <td>107125</td>\n",
       "      <td>2.0</td>\n",
       "    </tr>\n",
       "    <tr>\n",
       "      <th>4661346</th>\n",
       "      <td>ffffdb17f45b4032b386d691d52e6c00</td>\n",
       "      <td>107893</td>\n",
       "      <td>2.0</td>\n",
       "    </tr>\n",
       "    <tr>\n",
       "      <th>4661347</th>\n",
       "      <td>ffffdb17f45b4032b386d691d52e6c00</td>\n",
       "      <td>150843</td>\n",
       "      <td>2.0</td>\n",
       "    </tr>\n",
       "    <tr>\n",
       "      <th>4661348</th>\n",
       "      <td>ffffdb17f45b4032b386d691d52e6c00</td>\n",
       "      <td>160164</td>\n",
       "      <td>2.0</td>\n",
       "    </tr>\n",
       "    <tr>\n",
       "      <th>4661349</th>\n",
       "      <td>ffffdb17f45b4032b386d691d52e6c00</td>\n",
       "      <td>185412</td>\n",
       "      <td>2.0</td>\n",
       "    </tr>\n",
       "  </tbody>\n",
       "</table>\n",
       "<p>4661350 rows × 3 columns</p>\n",
       "</div>"
      ],
      "text/plain": [
       "                                   new_id  vacancy_id_  ctr\n",
       "0        000089d26cdd49d68839c68bc10f2cf2       177380  1.0\n",
       "1        000089d26cdd49d68839c68bc10f2cf2       181353  1.0\n",
       "2        000089d26cdd49d68839c68bc10f2cf2       195890  1.0\n",
       "3        000089d26cdd49d68839c68bc10f2cf2       205562  1.0\n",
       "4        000089d26cdd49d68839c68bc10f2cf2       211064  1.0\n",
       "...                                   ...          ...  ...\n",
       "4661345  ffffdb17f45b4032b386d691d52e6c00       107125  2.0\n",
       "4661346  ffffdb17f45b4032b386d691d52e6c00       107893  2.0\n",
       "4661347  ffffdb17f45b4032b386d691d52e6c00       150843  2.0\n",
       "4661348  ffffdb17f45b4032b386d691d52e6c00       160164  2.0\n",
       "4661349  ffffdb17f45b4032b386d691d52e6c00       185412  2.0\n",
       "\n",
       "[4661350 rows x 3 columns]"
      ]
     },
     "execution_count": 14,
     "metadata": {},
     "output_type": "execute_result"
    }
   ],
   "source": [
    "df_new"
   ]
  },
  {
   "cell_type": "code",
   "execution_count": 15,
   "id": "87b9c7f8-403c-44bb-915a-3ecc1650464c",
   "metadata": {},
   "outputs": [],
   "source": [
    "def proc_col(col, train_col=None):\n",
    "# Encodes a pandas column with continous ids. \n",
    "    if train_col is not None:\n",
    "        uniq = train_col.unique()\n",
    "    else:\n",
    "        uniq = col.unique()\n",
    "    name2idx = {o:i for i,o in enumerate(uniq)}\n",
    "    return name2idx, np.array([name2idx.get(x, -1) for x in col]), len(uniq)"
   ]
  },
  {
   "cell_type": "code",
   "execution_count": 16,
   "id": "78015011-b9e0-4412-be30-f09095146335",
   "metadata": {},
   "outputs": [],
   "source": [
    "mapping = []\n",
    "def encode_data(df, train=None):\n",
    "    mask = df['new_id'] > ''\n",
    "    # Encodes rating data with continous user and movie ids. \n",
    "    # If train is provided, encodes df with the same encoding as train.\n",
    "    df = df.copy()\n",
    "    for col_name in [\"new_id\", \"vacancy_id_\"]:\n",
    "        train_col = None\n",
    "        if train is not None:\n",
    "            train_col = train[col_name]\n",
    "        name2idx, col, _ = proc_col(df[col_name], train_col)  \n",
    "        mapping.append(name2idx)\n",
    "        df[col_name] = col\n",
    "        df = df[df[col_name] >= 0]\n",
    "        mask = mask & (df[col_name] > 0)\n",
    "    return df, mask"
   ]
  },
  {
   "cell_type": "code",
   "execution_count": 17,
   "id": "4e1dc6b1-5267-4d47-b00d-23f1f9f34772",
   "metadata": {},
   "outputs": [],
   "source": [
    "np.random.seed(3)\n",
    "msk = np.random.rand(len(df_new)) < 0.9\n",
    "train = df_new[msk].copy()\n",
    "val = df_new[~msk].copy()"
   ]
  },
  {
   "cell_type": "code",
   "execution_count": 18,
   "id": "8ed20a8d-5a09-4be9-95b6-adde810a4af8",
   "metadata": {
    "tags": []
   },
   "outputs": [],
   "source": [
    "# # encoding the train and validation data\n",
    "df_train,_ = encode_data(train)\n",
    "df_val,_  = encode_data(val, train)"
   ]
  },
  {
   "cell_type": "markdown",
   "id": "8107359c-3fbb-43b0-bf4c-fa4e2a08fcf6",
   "metadata": {
    "tags": []
   },
   "source": [
    "---"
   ]
  },
  {
   "cell_type": "markdown",
   "id": "6311cdae-6cd5-4f2e-b9ab-9532696eea92",
   "metadata": {},
   "source": [
    "# Train"
   ]
  },
  {
   "cell_type": "code",
   "execution_count": null,
   "id": "863c8868-8141-4069-9dbd-a4292b3818eb",
   "metadata": {},
   "outputs": [],
   "source": [
    "class MF(nn.Module):\n",
    "    def __init__(self, num_users, num_items, emb_size=100):\n",
    "        super(MF, self).__init__()\n",
    "        self.user_emb = nn.Embedding(num_users, emb_size)\n",
    "        self.item_emb = nn.Embedding(num_items, emb_size)\n",
    "        self.user_emb.weight.data.uniform_(0, 0.05)\n",
    "        self.item_emb.weight.data.uniform_(0, 0.05)\n",
    "        \n",
    "    def forward(self, u, v):\n",
    "        u = self.user_emb(u)\n",
    "        v = self.item_emb(v)\n",
    "        return (u*v).sum(1)  \n",
    "    \n",
    "\n",
    "num_users = len(df_train.new_id.unique())\n",
    "num_items = len(df_train.vacancy_id_.unique())\n",
    "print(num_users, num_items) \n",
    "\n",
    "model = MF(num_users, num_items, emb_size=100)\n",
    "\n",
    "def train_epocs(model, epochs=10, lr=0.01, wd=0.0, unsqueeze=False):\n",
    "    optimizer = torch.optim.Adam(model.parameters(), lr=lr, weight_decay=wd)\n",
    "    model.train()\n",
    "    for i in tqdm.tqdm(range(epochs)):\n",
    "        users = torch.LongTensor(df_train.new_id.values)\n",
    "        items = torch.LongTensor(df_train.vacancy_id_.values)\n",
    "        ratings = torch.FloatTensor(df_train.ctr.values)\n",
    "        if unsqueeze:\n",
    "            ratings = ratings.unsqueeze(1)\n",
    "        y_hat = model(users, items)\n",
    "        loss = F.mse_loss(y_hat, ratings)\n",
    "        optimizer.zero_grad()\n",
    "        loss.backward()\n",
    "        optimizer.step()\n",
    "        # print(loss.item()) \n",
    "    test_loss(model, unsqueeze)\n",
    "    \n",
    "def test_loss(model, unsqueeze=False):\n",
    "    model.eval()\n",
    "    users = torch.LongTensor(df_val.new_id.values)\n",
    "    items = torch.LongTensor(df_val.vacancy_id_.values)\n",
    "    ratings = torch.FloatTensor(df_val.ctr.values)\n",
    "    if unsqueeze:\n",
    "        ratings = ratings.unsqueeze(1)\n",
    "    y_hat = model(users, items)\n",
    "    loss = F.mse_loss(y_hat, ratings)\n",
    "    # print(\"test loss %.3f \" % loss.item())"
   ]
  },
  {
   "cell_type": "markdown",
   "id": "079c4239-6f64-4ca0-a2ed-3979fac98f80",
   "metadata": {
    "tags": []
   },
   "source": [
    "---"
   ]
  },
  {
   "cell_type": "code",
   "execution_count": null,
   "id": "4121fb4c-7329-4e42-bd38-47feb4d4e760",
   "metadata": {},
   "outputs": [],
   "source": [
    "interactions = df.groupby(['new_id', 'vacancy_id_', 'event_type'], as_index=False) \\\n",
    ".agg({'event_timestamp': 'count'}) \\\n",
    ".sort_values(['event_timestamp'], ascending=False)\n",
    "\n",
    "uniq_vacancy = df['vacancy_id_'].unique()\n",
    "\n",
    "new_test_df = pd.read_csv('new_test for model.csv')\n",
    "\n",
    "# Получить использованные вакансии\n",
    "def get_not_used_vacancies(new_id):\n",
    "    used = interactions[interactions['new_id'] == new_id]['vacancy_id_'].unique()\n",
    "    useful_vacs = list()\n",
    "    for i in uniq_vacancy:\n",
    "        if i not in used:\n",
    "            useful_vacs.append(i)\n",
    "    return useful_vacs\n",
    "\n",
    "\n",
    "def get_recommendation(new_test_df):\n",
    "    df_test, mask = encode_data(new_test_df, train)\n",
    "    no_pred = new_test_df[~mask].copy()\n",
    "    new_test_df = new_test_df[mask].copy()\n",
    "\n",
    "    users = torch.LongTensor(df_test.new_id.values) # .cuda()\n",
    "    items = torch.LongTensor(df_test.vacancy_id_.values) #.cuda()\n",
    "    y_hat = model(users, items)\n",
    "    new_test_df['ctr'] = y_hat.detach().numpy().tolist()\n",
    "    return new_test_df.sort_values(by=['new_id','ctr'], ascending=False), no_pred\n",
    "\n",
    "def get_precision(test_df):\n",
    "    res_df, no_pred = get_recommendation(new_test_df)\n",
    "\n",
    "    res_df = res_df[res_df.groupby('new_id')['ctr'].rank(method='first', ascending=True) <= 5]\n",
    "    res_df = res_df.groupby(['new_id'])['vacancy_id_'].agg(['unique'])\n",
    "    if len(test_df) != len(res_df):\n",
    "        diff = np.setdiff1d(test_df['new_id'], res_df.index)\n",
    "        tmp_diff = pd.DataFrame({'unique': [top_vacancies[:5]]*len(diff)}, index=diff)\n",
    "        res_df = pd.concat([res_df, tmp_diff])\n",
    "    res_df = res_df.sort_index(ascending=False)\n",
    "\n",
    "    test_df = test_df.sort_values(by=['new_id'], ascending=False)\n",
    "    test_df['pred'] = res_df['unique'].values\n",
    "    test_df['true_positive'] = test_df.apply(lambda x: len(set(x['vacancy_id_']) & set(x['pred'])), axis=1)\n",
    "    test_df['f5'] = test_df.apply(lambda x: len(set(x['vacancy_id_']) & set(x['pred'])) / 5, axis=1)\n",
    "    print('f5: ', test_df['f5'].mean())"
   ]
  },
  {
   "cell_type": "code",
   "execution_count": null,
   "id": "49fa8022-3753-4151-8cb9-2ab5d8c41052",
   "metadata": {
    "tags": []
   },
   "outputs": [],
   "source": [
    "for epoch in [50, 100, 200]:\n",
    "    for lr in [0.01, 0.02]:\n",
    "        model = MF(num_users, num_items, emb_size=100)\n",
    "        train_epocs(model, epochs=epoch, lr=lr)\n",
    "        print(\"Epoch: \", epoch)\n",
    "        print(\"Learning rate: \", lr)\n",
    "        get_precision(test_df)"
   ]
  },
  {
   "cell_type": "code",
   "execution_count": null,
   "id": "e2264b68-2bfc-48ca-8d2a-7675f978b467",
   "metadata": {
    "tags": []
   },
   "outputs": [],
   "source": [
    "# test_df[test_df['true_positive'] != 0]"
   ]
  },
  {
   "cell_type": "code",
   "execution_count": null,
   "id": "69fd4817-632c-4c85-bdf2-c5b262e03c69",
   "metadata": {
    "tags": []
   },
   "outputs": [],
   "source": [
    "# res = get_recommendation_for_user('477e719bfbcc4071a8acc1b357492b00')\n",
    "# res\n",
    "# print(test_df['vacancy_id_'][0])"
   ]
  },
  {
   "cell_type": "markdown",
   "id": "751c7b09-0d57-493f-a0ca-e6fef38aecee",
   "metadata": {},
   "source": [
    "# AlternatingLeastSquares"
   ]
  },
  {
   "cell_type": "code",
   "execution_count": 19,
   "id": "e548d28d-65e4-4272-9923-54fe8a6a1f7b",
   "metadata": {},
   "outputs": [],
   "source": [
    "from implicit.bpr import BayesianPersonalizedRanking\n",
    "from implicit.als import AlternatingLeastSquares"
   ]
  },
  {
   "cell_type": "code",
   "execution_count": 41,
   "id": "16ca44eb-24b3-4a49-9487-914cd77dc38c",
   "metadata": {},
   "outputs": [],
   "source": [
    "matrix_for_fact = sparse.csr_matrix((df_train['ctr'], (df_train['new_id'], df_train['vacancy_id_'])))"
   ]
  },
  {
   "cell_type": "code",
   "execution_count": 47,
   "id": "a5f812e4-b101-4927-9a3c-20670303503b",
   "metadata": {},
   "outputs": [],
   "source": [
    "def train_fact(factors, regularization, alpha=1, iters=20, rs=30):\n",
    "    print('RS: ', rs)\n",
    "    print('Iteration: ', iter)\n",
    "    \n",
    "    model = AlternatingLeastSquares(\n",
    "                                    factors=factors,\n",
    "                                    regularization=regularization,\n",
    "                                    alpha=alpha,\n",
    "                                    calculate_training_loss=True, \n",
    "                                    iterations=iters,\n",
    "                                    random_state=rs\n",
    "    )\n",
    "    \n",
    "    model.fit(matrix_for_fact)\n",
    "    predict = []\n",
    "    for i in test_df.itertuples():\n",
    "        index = i[3]\n",
    "        if index == -1:\n",
    "            recomm = top_vacancies[:5]\n",
    "        else:\n",
    "            recomm = model.recommend(index, matrix_for_fact[index], N=5)[0]\n",
    "        res = [i for i,k in mapping[1].items() if k in recomm]\n",
    "        f = len(set(i[2]) & set(res)) / 5\n",
    "        predict.append(f)\n",
    "        \n",
    "    print(f'f5: {np.mean(predict)}')"
   ]
  },
  {
   "cell_type": "code",
   "execution_count": 32,
   "id": "25783965-cd0d-44c9-a908-005f4cf502d4",
   "metadata": {},
   "outputs": [],
   "source": [
    "test_df['test_id'] = test_df.apply(lambda x: mapping[0].get(x['new_id'], -1), axis=1)"
   ]
  },
  {
   "cell_type": "code",
   "execution_count": 43,
   "id": "7ef1b31f-d6c1-4e49-b322-827de43921ea",
   "metadata": {},
   "outputs": [
    {
     "data": {
      "text/html": [
       "<div>\n",
       "<style scoped>\n",
       "    .dataframe tbody tr th:only-of-type {\n",
       "        vertical-align: middle;\n",
       "    }\n",
       "\n",
       "    .dataframe tbody tr th {\n",
       "        vertical-align: top;\n",
       "    }\n",
       "\n",
       "    .dataframe thead th {\n",
       "        text-align: right;\n",
       "    }\n",
       "</style>\n",
       "<table border=\"1\" class=\"dataframe\">\n",
       "  <thead>\n",
       "    <tr style=\"text-align: right;\">\n",
       "      <th></th>\n",
       "      <th>new_id</th>\n",
       "      <th>vacancy_id_</th>\n",
       "      <th>test_id</th>\n",
       "    </tr>\n",
       "  </thead>\n",
       "  <tbody>\n",
       "    <tr>\n",
       "      <th>0</th>\n",
       "      <td>477e719bfbcc4071a8acc1b357492b00</td>\n",
       "      <td>[222177, 222173, 222163, 238874, 238878, 22812...</td>\n",
       "      <td>90150</td>\n",
       "    </tr>\n",
       "    <tr>\n",
       "      <th>1</th>\n",
       "      <td>753a2a268ae84ab49475e62736c02860</td>\n",
       "      <td>[102794, 137587, 257319, 237756, 240744, 11348...</td>\n",
       "      <td>147477</td>\n",
       "    </tr>\n",
       "    <tr>\n",
       "      <th>2</th>\n",
       "      <td>d01c76b282364fbb8195f326de3e893c</td>\n",
       "      <td>[254292, 164602, 116438, 228634, 218819, 24065...</td>\n",
       "      <td>261809</td>\n",
       "    </tr>\n",
       "    <tr>\n",
       "      <th>3</th>\n",
       "      <td>6adb4495090b454395d5aa2f1a5ff9d9</td>\n",
       "      <td>[246685, 138123, 115420, 210628, 212325, 235196]</td>\n",
       "      <td>134531</td>\n",
       "    </tr>\n",
       "    <tr>\n",
       "      <th>4</th>\n",
       "      <td>b107696e3ff54e8a83182828bb845bc6</td>\n",
       "      <td>[219070, 251469, 166899, 212703, 214561]</td>\n",
       "      <td>222798</td>\n",
       "    </tr>\n",
       "    <tr>\n",
       "      <th>...</th>\n",
       "      <td>...</td>\n",
       "      <td>...</td>\n",
       "      <td>...</td>\n",
       "    </tr>\n",
       "    <tr>\n",
       "      <th>767</th>\n",
       "      <td>da74810d481449278a75a091178f9831</td>\n",
       "      <td>[207851, 254989, 213344, 214180, 222146]</td>\n",
       "      <td>274679</td>\n",
       "    </tr>\n",
       "    <tr>\n",
       "      <th>768</th>\n",
       "      <td>4da39c1e048d49cabcd1229fdcc6413f</td>\n",
       "      <td>[115352, 230546, 225527, 120188, 109360, 23212...</td>\n",
       "      <td>98000</td>\n",
       "    </tr>\n",
       "    <tr>\n",
       "      <th>769</th>\n",
       "      <td>5207e9855ec54e02aa8cfa48ede76e1b</td>\n",
       "      <td>[240362, 114852, 253946, 251081, 127546, 244688]</td>\n",
       "      <td>103480</td>\n",
       "    </tr>\n",
       "    <tr>\n",
       "      <th>770</th>\n",
       "      <td>7f2067ab30994440b13a0ea37a5e8001</td>\n",
       "      <td>[231194, 236363, 220747, 244688, 100094, 24052...</td>\n",
       "      <td>159965</td>\n",
       "    </tr>\n",
       "    <tr>\n",
       "      <th>771</th>\n",
       "      <td>ff40591f76e34013a61b8af400002a07</td>\n",
       "      <td>[100336, 116442, 244721, 256719, 230803]</td>\n",
       "      <td>321001</td>\n",
       "    </tr>\n",
       "  </tbody>\n",
       "</table>\n",
       "<p>772 rows × 3 columns</p>\n",
       "</div>"
      ],
      "text/plain": [
       "                               new_id  \\\n",
       "0    477e719bfbcc4071a8acc1b357492b00   \n",
       "1    753a2a268ae84ab49475e62736c02860   \n",
       "2    d01c76b282364fbb8195f326de3e893c   \n",
       "3    6adb4495090b454395d5aa2f1a5ff9d9   \n",
       "4    b107696e3ff54e8a83182828bb845bc6   \n",
       "..                                ...   \n",
       "767  da74810d481449278a75a091178f9831   \n",
       "768  4da39c1e048d49cabcd1229fdcc6413f   \n",
       "769  5207e9855ec54e02aa8cfa48ede76e1b   \n",
       "770  7f2067ab30994440b13a0ea37a5e8001   \n",
       "771  ff40591f76e34013a61b8af400002a07   \n",
       "\n",
       "                                           vacancy_id_  test_id  \n",
       "0    [222177, 222173, 222163, 238874, 238878, 22812...    90150  \n",
       "1    [102794, 137587, 257319, 237756, 240744, 11348...   147477  \n",
       "2    [254292, 164602, 116438, 228634, 218819, 24065...   261809  \n",
       "3     [246685, 138123, 115420, 210628, 212325, 235196]   134531  \n",
       "4             [219070, 251469, 166899, 212703, 214561]   222798  \n",
       "..                                                 ...      ...  \n",
       "767           [207851, 254989, 213344, 214180, 222146]   274679  \n",
       "768  [115352, 230546, 225527, 120188, 109360, 23212...    98000  \n",
       "769   [240362, 114852, 253946, 251081, 127546, 244688]   103480  \n",
       "770  [231194, 236363, 220747, 244688, 100094, 24052...   159965  \n",
       "771           [100336, 116442, 244721, 256719, 230803]   321001  \n",
       "\n",
       "[772 rows x 3 columns]"
      ]
     },
     "execution_count": 43,
     "metadata": {},
     "output_type": "execute_result"
    }
   ],
   "source": [
    "test_df"
   ]
  },
  {
   "cell_type": "code",
   "execution_count": 48,
   "id": "3552d555-71ba-4ffd-a36a-8f853fd16f5b",
   "metadata": {
    "tags": []
   },
   "outputs": [
    {
     "name": "stdout",
     "output_type": "stream",
     "text": [
      "=====================================================\n",
      "factors 10 regularization 0.05\n",
      "RS:  30\n",
      "Iteration:  <built-in function iter>\n"
     ]
    },
    {
     "data": {
      "application/vnd.jupyter.widget-view+json": {
       "model_id": "11c3e18cd30a4277a65ac832e48bd898",
       "version_major": 2,
       "version_minor": 0
      },
      "text/plain": [
       "  0%|          | 0/20 [00:00<?, ?it/s]"
      ]
     },
     "metadata": {},
     "output_type": "display_data"
    },
    {
     "name": "stdout",
     "output_type": "stream",
     "text": [
      "f5: 0.03471502590673576\n"
     ]
    }
   ],
   "source": [
    "for factors in [100]:\n",
    "    print('=====================================================')\n",
    "    for regularization in [0.05]:\n",
    "            print('factors', factors,\n",
    "                  'regularization', regularization)\n",
    "            train_fact(factors, regularization)"
   ]
  },
  {
   "cell_type": "markdown",
   "id": "4dfae3cf-cae6-4b55-a0e6-acb3740d317e",
   "metadata": {},
   "source": [
    "# Cosine similarity"
   ]
  },
  {
   "cell_type": "code",
   "execution_count": null,
   "id": "ca87da6a-f817-4da3-85fb-8ddc6d638c54",
   "metadata": {},
   "outputs": [],
   "source": [
    "# Создается массив векторов\n",
    "def create_massive(original_df, filename):\n",
    "    uniq_users_id = original_df['new_id'].unique()\n",
    "    uniq_vacancy = original_df['vacancy_id_'].unique()\n",
    "    size = len(uniq_vacancy)\n",
    "    \n",
    "    interactions = original_df.query('event_type != \"preview_click_vacancy\" and event_type != \"show_vacancy\"') \\\n",
    "    .groupby(['new_id', 'vacancy_id_', 'event_type'], as_index=False) \\\n",
    "    .agg({'event_timestamp': 'count'})\n",
    "\n",
    "    massive = csr_matrix((len(uniq_users_id), size), dtype = np.int8)\n",
    "    for k1, i in enumerate(tqdm.tqdm(uniq_users_id)):\n",
    "        user_vacancies = set(interactions[interactions['new_id'] == i]['vacancy_id_'])\n",
    "        for k2, w in enumerate(uniq_vacancy):\n",
    "            if w in user_vacancies: massive[k1,k2] = 1 # юзер - вакансия\n",
    "\n",
    "    scipy.sparse.save_npz('{}.npz'.format(filename), massive)\n",
    "    return massive"
   ]
  },
  {
   "cell_type": "code",
   "execution_count": null,
   "id": "6b274dd2-8433-44a0-8ac5-6cb188b9bd96",
   "metadata": {
    "tags": []
   },
   "outputs": [],
   "source": [
    "# Get vectorized users\n",
    "sparse_vectors = create_massive(df)\n",
    "\n",
    "# Рассчитывается косинус схожести для sparse массива, в итоге получаем похожих юзеров в виде координат\n",
    "similarity = cosine_similarity(sparse_vectors, dense_output=False)\n",
    "scipy.sparse.save_npz('similarity_results.npz', changed_similarity)"
   ]
  },
  {
   "cell_type": "code",
   "execution_count": null,
   "id": "c90306b1-eda6-435b-b931-55d62aea5976",
   "metadata": {},
   "outputs": [],
   "source": [
    "massive = scipy.sparse.load_npz('sparse_massive.npz')"
   ]
  },
  {
   "cell_type": "code",
   "execution_count": null,
   "id": "8859aa90-4c2c-4fd7-bab4-2b7b6ebf9c09",
   "metadata": {},
   "outputs": [],
   "source": [
    "changed_similarity = scipy.sparse.load_npz('changed_similarity_results.npz')\n",
    "A = pd.DataFrame.sparse.from_spmatrix(changed_similarity)\n",
    "display(A) # на пересечении координат косинус похожести"
   ]
  },
  {
   "cell_type": "code",
   "execution_count": null,
   "id": "1095ff96-7aa7-45d0-a3ac-a80576451d28",
   "metadata": {},
   "outputs": [],
   "source": []
  },
  {
   "cell_type": "code",
   "execution_count": null,
   "id": "4084430d-ae56-424b-9a02-a44a05e69cb4",
   "metadata": {},
   "outputs": [],
   "source": [
    "# f5 = 0.0189 - only cosine similarity\n",
    "\n",
    "# куки и соответствующие id юзеров\n",
    "users_cookies = df.groupby(['cookie_id'], as_index=False)['new_id'].agg(['unique'])\n",
    "\n",
    "# тут уже все действия юзеров\n",
    "interactions = df.groupby(['new_id', 'vacancy_id_', 'event_type'], as_index=False) \\\n",
    ".agg({'event_timestamp': 'count'}) \\\n",
    ".sort_values(['event_timestamp'], ascending=False)\n",
    "\n",
    "\n",
    "\n",
    "# Получить new_id/user_id по куки\n",
    "def get_new_id_by_cookie(cookie):\n",
    "    return users_cookies.loc[cookie][0][0]\n",
    "\n",
    "# Лист всех уникальных юзеров по-порядку, в котором составлялась матрица\n",
    "user_unique_columns = df['new_id'].unique()\n",
    "# Получить индекс юзера в списке\n",
    "def get_user_index(user_id):\n",
    "    return np.where(user_unique_columns == user_id)[0][0]\n",
    "\n",
    "# Получение вакансий для рекомендации\n",
    "def get_similar_users_ordered(user_index):\n",
    "    similar_users_index_list = list()\n",
    "    for i, val in enumerate(A[user_index]):\n",
    "        if (val > 0.3) and (i != user_index):\n",
    "            similar_users_index_list.append((i, val))\n",
    "    similar_users_index_list = sorted(similar_users_index_list, key = lambda x: x[1], reverse=True)\n",
    "    return similar_users_index_list\n",
    "\n",
    "# Ранжирование товаров юзера\n",
    "def get_vacancies_ordered_by_user(new_id):\n",
    "    user_interaction = interactions[interactions['new_id'] == new_id]\n",
    "    unique_user_events = user_interaction['event_type'].unique()\n",
    "\n",
    "    vacancy_table = user_interaction.pivot_table(index='vacancy_id_', columns='event_type', values='event_timestamp', fill_value=0).reset_index()\n",
    "    vacancy_table['ctr'] = vacancy_table.apply(lambda x: (sum([x[i] for i in unique_user_events])), axis=1)\n",
    "    vac_dict = list([[v['vacancy_id_'] , v['ctr']] for i, v in vacancy_table.iterrows()])\n",
    "    return sorted(vac_dict, key = lambda x: x[1], reverse=True)\n",
    "\n",
    "# Получение отранжированных вакансий по всем юзерам\n",
    "def get_ordered_vacancies(similar_users_list):\n",
    "    recommend_vac = list()\n",
    "    for i in similar_users_list[:10]: # пока беру первых 5 похожих юзеров\n",
    "        user = user_unique_columns[i[0]]\n",
    "        vacancies = get_vacancies_ordered_by_user(user)\n",
    "        for v in vacancies:\n",
    "            recommend_vac.append(v[0])\n",
    "    recommend_vac = list(dict.fromkeys(recommend_vac))\n",
    "    return recommend_vac\n",
    "\n",
    "\n",
    "# Получить использованные вакансии\n",
    "def get_used_vacancies(new_id):\n",
    "    return interactions[interactions['new_id'] == new_id]['vacancy_id_'].unique()\n",
    "    \n",
    "    \n",
    "# Получение рекомендации + в рекомендации учитваем топ вакансий\n",
    "def get_user_recommendation(user_id):\n",
    "    recommend_result = []\n",
    "    index = get_user_index(user_id)\n",
    "    similar_index_list = get_similar_users_ordered(index)\n",
    "    \n",
    "    all_recommended_vac = get_ordered_vacancies(similar_index_list)\n",
    "    users_used_vacs = get_used_vacancies(user_id)\n",
    "    \n",
    "    if len(all_recommended_vac) > 0:\n",
    "        for i in all_recommended_vac:\n",
    "            if i not in users_used_vacs:\n",
    "                recommend_result.append(i)\n",
    "    else:\n",
    "        return top_vacancies\n",
    "    recommend_result = top_vacancies + recommend_result\n",
    "    return recommend_result"
   ]
  },
  {
   "cell_type": "code",
   "execution_count": null,
   "id": "954030f9-2d88-400d-bf8d-e9fe29314412",
   "metadata": {
    "tags": []
   },
   "outputs": [],
   "source": [
    "# Для тестового датасета добавляем колонку pot_vacancies, где будут указаны потенциальные рекомендации на основе косинуса схожести\n",
    "def make_prediciton(idx):\n",
    "    pot_vacs = get_user_recommendation(idx)\n",
    "    return pot_vacs\n",
    "\n",
    "test_df['pot_vacancies'] = test_df.apply(lambda x: make_prediciton(x['new_id']), axis=1)"
   ]
  },
  {
   "cell_type": "code",
   "execution_count": null,
   "id": "3113d98b-f455-45a3-b0e1-bc5120925e8c",
   "metadata": {
    "tags": []
   },
   "outputs": [],
   "source": [
    "# Преобразовываем датафейм для использования модели, которая сранжирует потенциальные вакансии\n",
    "# test_df['pot_vacancies'] - потенциальные\n",
    "users = []\n",
    "vacancies = []\n",
    "\n",
    "for i in test_df.itertuples():\n",
    "    users = users + ([i[1]] * len(i[3]))\n",
    "    vacancies = vacancies + i[3]\n",
    "    \n",
    "data = {'new_id': users, 'vacancy_id_': vacancies}\n",
    "new_test = pd.DataFrame(data)"
   ]
  },
  {
   "cell_type": "code",
   "execution_count": null,
   "id": "f9be36be-e18c-4375-928e-ecb8882550f9",
   "metadata": {},
   "outputs": [],
   "source": [
    "new_test.to_csv('new_test for model_pot 10.csv', index=False)"
   ]
  },
  {
   "cell_type": "code",
   "execution_count": null,
   "id": "b366aba2-ea48-4251-8250-24cf5f2b1c30",
   "metadata": {},
   "outputs": [],
   "source": [
    "new_test_df = pd.read_csv('new_test for model.csv')"
   ]
  },
  {
   "cell_type": "code",
   "execution_count": null,
   "id": "b1c843b3-10b5-47a6-acc2-e19e13b7caa0",
   "metadata": {},
   "outputs": [],
   "source": [
    "new_test_df"
   ]
  },
  {
   "cell_type": "code",
   "execution_count": null,
   "id": "ce7eb0ca-aa0a-4673-8c9f-8bfb37f5e70c",
   "metadata": {},
   "outputs": [],
   "source": []
  }
 ],
 "metadata": {
  "kernelspec": {
   "display_name": "Python 3 (ipykernel)",
   "language": "python",
   "name": "python3"
  },
  "language_info": {
   "codemirror_mode": {
    "name": "ipython",
    "version": 3
   },
   "file_extension": ".py",
   "mimetype": "text/x-python",
   "name": "python",
   "nbconvert_exporter": "python",
   "pygments_lexer": "ipython3",
   "version": "3.9.13"
  }
 },
 "nbformat": 4,
 "nbformat_minor": 5
}
