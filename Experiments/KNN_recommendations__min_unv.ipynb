{
 "cells": [
  {
   "cell_type": "code",
   "execution_count": 1,
   "id": "983b615c",
   "metadata": {
    "scrolled": true
   },
   "outputs": [
    {
     "name": "stdout",
     "output_type": "stream",
     "text": [
      "Requirement already satisfied: pyarrow in c:\\users\\km\\anaconda3\\lib\\site-packages (11.0.0)\n",
      "Requirement already satisfied: numpy>=1.16.6 in c:\\users\\km\\anaconda3\\lib\\site-packages (from pyarrow) (1.21.5)\n"
     ]
    },
    {
     "name": "stderr",
     "output_type": "stream",
     "text": [
      "WARNING: Ignoring invalid distribution -cipy (c:\\users\\km\\anaconda3\\lib\\site-packages)\n",
      "WARNING: Ignoring invalid distribution -cipy (c:\\users\\km\\anaconda3\\lib\\site-packages)\n",
      "WARNING: Ignoring invalid distribution -cipy (c:\\users\\km\\anaconda3\\lib\\site-packages)\n",
      "WARNING: Ignoring invalid distribution -cipy (c:\\users\\km\\anaconda3\\lib\\site-packages)\n",
      "WARNING: Ignoring invalid distribution -cipy (c:\\users\\km\\anaconda3\\lib\\site-packages)\n",
      "WARNING: Ignoring invalid distribution -cipy (c:\\users\\km\\anaconda3\\lib\\site-packages)\n"
     ]
    },
    {
     "name": "stdout",
     "output_type": "stream",
     "text": [
      "Requirement already satisfied: fastparquet in c:\\users\\km\\anaconda3\\lib\\site-packages (2023.4.0)\n",
      "Requirement already satisfied: cramjam>=2.3 in c:\\users\\km\\anaconda3\\lib\\site-packages (from fastparquet) (2.6.2)\n",
      "Requirement already satisfied: numpy>=1.20.3 in c:\\users\\km\\anaconda3\\lib\\site-packages (from fastparquet) (1.21.5)\n",
      "Requirement already satisfied: pandas>=1.5.0 in c:\\users\\km\\anaconda3\\lib\\site-packages (from fastparquet) (2.0.1)\n",
      "Requirement already satisfied: fsspec in c:\\users\\km\\anaconda3\\lib\\site-packages (from fastparquet) (2022.7.1)\n",
      "Requirement already satisfied: packaging in c:\\users\\km\\anaconda3\\lib\\site-packages (from fastparquet) (21.3)\n",
      "Requirement already satisfied: python-dateutil>=2.8.2 in c:\\users\\km\\anaconda3\\lib\\site-packages (from pandas>=1.5.0->fastparquet) (2.8.2)\n",
      "Requirement already satisfied: tzdata>=2022.1 in c:\\users\\km\\anaconda3\\lib\\site-packages (from pandas>=1.5.0->fastparquet) (2023.3)\n",
      "Requirement already satisfied: pytz>=2020.1 in c:\\users\\km\\anaconda3\\lib\\site-packages (from pandas>=1.5.0->fastparquet) (2022.1)\n",
      "Requirement already satisfied: pyparsing!=3.0.5,>=2.0.2 in c:\\users\\km\\anaconda3\\lib\\site-packages (from packaging->fastparquet) (3.0.9)\n",
      "Requirement already satisfied: six>=1.5 in c:\\users\\km\\anaconda3\\lib\\site-packages (from python-dateutil>=2.8.2->pandas>=1.5.0->fastparquet) (1.16.0)\n"
     ]
    },
    {
     "name": "stderr",
     "output_type": "stream",
     "text": [
      "WARNING: Ignoring invalid distribution -cipy (c:\\users\\km\\anaconda3\\lib\\site-packages)\n",
      "WARNING: Ignoring invalid distribution -cipy (c:\\users\\km\\anaconda3\\lib\\site-packages)\n",
      "WARNING: Ignoring invalid distribution -cipy (c:\\users\\km\\anaconda3\\lib\\site-packages)\n",
      "WARNING: Ignoring invalid distribution -cipy (c:\\users\\km\\anaconda3\\lib\\site-packages)\n",
      "WARNING: Ignoring invalid distribution -cipy (c:\\users\\km\\anaconda3\\lib\\site-packages)\n",
      "WARNING: Ignoring invalid distribution -cipy (c:\\users\\km\\anaconda3\\lib\\site-packages)\n"
     ]
    },
    {
     "name": "stdout",
     "output_type": "stream",
     "text": [
      "Requirement already satisfied: scipy in c:\\users\\km\\anaconda3\\lib\\site-packages (1.10.1)\n",
      "Requirement already satisfied: numpy<1.27.0,>=1.19.5 in c:\\users\\km\\anaconda3\\lib\\site-packages (from scipy) (1.21.5)\n"
     ]
    },
    {
     "name": "stderr",
     "output_type": "stream",
     "text": [
      "WARNING: Ignoring invalid distribution -cipy (c:\\users\\km\\anaconda3\\lib\\site-packages)\n",
      "WARNING: Ignoring invalid distribution -cipy (c:\\users\\km\\anaconda3\\lib\\site-packages)\n",
      "WARNING: Ignoring invalid distribution -cipy (c:\\users\\km\\anaconda3\\lib\\site-packages)\n",
      "WARNING: Ignoring invalid distribution -cipy (c:\\users\\km\\anaconda3\\lib\\site-packages)\n",
      "WARNING: Ignoring invalid distribution -cipy (c:\\users\\km\\anaconda3\\lib\\site-packages)\n",
      "WARNING: Ignoring invalid distribution -cipy (c:\\users\\km\\anaconda3\\lib\\site-packages)\n"
     ]
    },
    {
     "name": "stdout",
     "output_type": "stream",
     "text": [
      "Requirement already satisfied: scikit-learn in c:\\users\\km\\anaconda3\\lib\\site-packages (1.2.2)"
     ]
    },
    {
     "name": "stderr",
     "output_type": "stream",
     "text": [
      "WARNING: Ignoring invalid distribution -cipy (c:\\users\\km\\anaconda3\\lib\\site-packages)\n",
      "WARNING: Ignoring invalid distribution -cipy (c:\\users\\km\\anaconda3\\lib\\site-packages)\n",
      "WARNING: Ignoring invalid distribution -cipy (c:\\users\\km\\anaconda3\\lib\\site-packages)\n",
      "WARNING: Ignoring invalid distribution -cipy (c:\\users\\km\\anaconda3\\lib\\site-packages)\n",
      "WARNING: Ignoring invalid distribution -cipy (c:\\users\\km\\anaconda3\\lib\\site-packages)\n",
      "WARNING: Ignoring invalid distribution -cipy (c:\\users\\km\\anaconda3\\lib\\site-packages)\n"
     ]
    },
    {
     "name": "stdout",
     "output_type": "stream",
     "text": [
      "\n",
      "Requirement already satisfied: threadpoolctl>=2.0.0 in c:\\users\\km\\anaconda3\\lib\\site-packages (from scikit-learn) (2.2.0)\n",
      "Requirement already satisfied: scipy>=1.3.2 in c:\\users\\km\\anaconda3\\lib\\site-packages (from scikit-learn) (1.10.1)\n",
      "Requirement already satisfied: joblib>=1.1.1 in c:\\users\\km\\anaconda3\\lib\\site-packages (from scikit-learn) (1.2.0)\n",
      "Requirement already satisfied: numpy>=1.17.3 in c:\\users\\km\\anaconda3\\lib\\site-packages (from scikit-learn) (1.21.5)\n",
      "Requirement already satisfied: pandas in c:\\users\\km\\anaconda3\\lib\\site-packages (2.0.1)"
     ]
    },
    {
     "name": "stderr",
     "output_type": "stream",
     "text": [
      "WARNING: Ignoring invalid distribution -cipy (c:\\users\\km\\anaconda3\\lib\\site-packages)\n",
      "WARNING: Ignoring invalid distribution -cipy (c:\\users\\km\\anaconda3\\lib\\site-packages)\n",
      "WARNING: Ignoring invalid distribution -cipy (c:\\users\\km\\anaconda3\\lib\\site-packages)\n",
      "WARNING: Ignoring invalid distribution -cipy (c:\\users\\km\\anaconda3\\lib\\site-packages)\n",
      "WARNING: Ignoring invalid distribution -cipy (c:\\users\\km\\anaconda3\\lib\\site-packages)\n",
      "WARNING: Ignoring invalid distribution -cipy (c:\\users\\km\\anaconda3\\lib\\site-packages)\n"
     ]
    },
    {
     "name": "stdout",
     "output_type": "stream",
     "text": [
      "\n",
      "Requirement already satisfied: python-dateutil>=2.8.2 in c:\\users\\km\\anaconda3\\lib\\site-packages (from pandas) (2.8.2)\n",
      "Requirement already satisfied: pytz>=2020.1 in c:\\users\\km\\anaconda3\\lib\\site-packages (from pandas) (2022.1)\n",
      "Requirement already satisfied: tzdata>=2022.1 in c:\\users\\km\\anaconda3\\lib\\site-packages (from pandas) (2023.3)\n",
      "Requirement already satisfied: numpy>=1.20.3 in c:\\users\\km\\anaconda3\\lib\\site-packages (from pandas) (1.21.5)\n",
      "Requirement already satisfied: six>=1.5 in c:\\users\\km\\anaconda3\\lib\\site-packages (from python-dateutil>=2.8.2->pandas) (1.16.0)\n",
      "Requirement already satisfied: numpy in c:\\users\\km\\anaconda3\\lib\\site-packages (1.21.5)\n",
      "Collecting numpy\n",
      "  Downloading numpy-1.24.3-cp39-cp39-win_amd64.whl (14.9 MB)\n",
      "     --------------------------------------- 14.9/14.9 MB 12.4 MB/s eta 0:00:00\n",
      "Installing collected packages: numpy\n",
      "  Attempting uninstall: numpy\n",
      "    Found existing installation: numpy 1.21.5\n",
      "    Uninstalling numpy-1.21.5:\n",
      "      Successfully uninstalled numpy-1.21.5\n"
     ]
    },
    {
     "name": "stderr",
     "output_type": "stream",
     "text": [
      "WARNING: Ignoring invalid distribution -cipy (c:\\users\\km\\anaconda3\\lib\\site-packages)\n",
      "WARNING: Ignoring invalid distribution -cipy (c:\\users\\km\\anaconda3\\lib\\site-packages)\n",
      "WARNING: Ignoring invalid distribution -cipy (c:\\users\\km\\anaconda3\\lib\\site-packages)\n",
      "    WARNING: Ignoring invalid distribution -cipy (c:\\users\\km\\anaconda3\\lib\\site-packages)\n",
      "ERROR: Could not install packages due to an OSError: [WinError 5] Access is denied: 'C:\\\\Users\\\\kM\\\\anaconda3\\\\Lib\\\\site-packages\\\\~umpy\\\\core\\\\_multiarray_tests.cp39-win_amd64.pyd'\n",
      "Consider using the `--user` option or check the permissions.\n",
      "\n",
      "WARNING: Ignoring invalid distribution -cipy (c:\\users\\km\\anaconda3\\lib\\site-packages)\n",
      "WARNING: Ignoring invalid distribution -cipy (c:\\users\\km\\anaconda3\\lib\\site-packages)\n",
      "WARNING: Ignoring invalid distribution -cipy (c:\\users\\km\\anaconda3\\lib\\site-packages)\n"
     ]
    }
   ],
   "source": [
    "!pip install --upgrade pyarrow\n",
    "!pip install --upgrade fastparquet\n",
    "!pip install --upgrade scipy\n",
    "!pip install --upgrade scikit-learn\n",
    "!pip install --upgrade pandas\n",
    "!pip install --upgrade numpy"
   ]
  },
  {
   "cell_type": "code",
   "execution_count": 11,
   "id": "1d10b4aa",
   "metadata": {
    "scrolled": true
   },
   "outputs": [
    {
     "name": "stdout",
     "output_type": "stream",
     "text": [
      "30/04/2023 21:01:20 рассчитаем результаты для NearestNeighbors\n",
      "30/04/2023 21:01:38 инициализируем модель NearestNeighbors\n",
      "                            cookie_id   \n",
      "495  9fb5682cb69643bd86d6f9cae35b131e  \\\n",
      "\n",
      "                                           vacancy_id_   \n",
      "495  [245147, 256991, 149560, 238920, 128615, 25258...  \\\n",
      "\n",
      "                                    predicted  true_positive  precision@5  \n",
      "495  [108124, 110582, 249993, 132403, 173673]              1          0.2  \n"
     ]
    },
    {
     "data": {
      "text/plain": [
       "0.00025906735751295336"
      ]
     },
     "execution_count": 11,
     "metadata": {},
     "output_type": "execute_result"
    }
   ],
   "source": [
    "import datetime\n",
    "\n",
    "import numpy as np\n",
    "import pandas as pd\n",
    "\n",
    "from numpy import newaxis\n",
    "from scipy.sparse import csr_matrix\n",
    "from sklearn.neighbors import NearestNeighbors\n",
    "\n",
    "\n",
    "\n",
    "def log_status(msg, is_log_enabled):\n",
    "    if is_log_enabled:\n",
    "        print(datetime.datetime.now().strftime(\"%d/%m/%Y %H:%M:%S\"), msg)\n",
    "        \n",
    "\n",
    "def get_prediction(dataframe, user_vectors, row, model, top_limit=5, print_result=False):\n",
    "    # выбрать вакансии, с которыми взаимодействовал целевой пользователь\n",
    "    user_id_series = dataframe[dataframe['cookie_id'] == row['cookie_id']]['user_id']\n",
    "\n",
    "    if len(user_id_series)==0:\n",
    "        log_status('пользователь не найден', print_result)\n",
    "        return list()\n",
    "\n",
    "    user_id = user_id_series.iloc[0]\n",
    "    already_seen = dataframe[dataframe['user_id'] == user_id]['vacancy_id_'].tolist()\n",
    "\n",
    "    # выбрать ближайших соседей (пользователей), только тестовые данные, пока без валидации\n",
    "    request = np.array(user_vectors.loc[user_id, :].values)[:, newaxis].reshape(1, -1)\n",
    "    distance, suggestions = model.kneighbors(request, n_neighbors=30)\n",
    "\n",
    "    # вывести рекомендации вакансий на основе рекомендованных пользователей, с учетом порядка\n",
    "    recommendations_list = list()\n",
    "    for i in range(0, len(distance.flatten())):\n",
    "        recommended_user_id = user_vectors.index[suggestions.flatten()[i]]\n",
    "        rec_to_add_list_by_rec_user = [rec_to_add for rec_to_add in\n",
    "                                       dataframe[dataframe['user_id'] == recommended_user_id]['vacancy_id_'].tolist() if\n",
    "                                       rec_to_add not in already_seen]\n",
    "        recommendations_list.extend(rec_to_add_list_by_rec_user)\n",
    "        if len(recommendations_list) >= top_limit:\n",
    "            break\n",
    "    \n",
    "    if print_result:\n",
    "        print('Список рекомендаций для пользователя с id \"{0}\":\\n'.format(user_id))\n",
    "        for rec in recommendations_list[0:top_limit]:\n",
    "            print(rec)\n",
    "            \n",
    "    return recommendations_list[0:top_limit]\n",
    "\n",
    "\n",
    "log_status('рассчитаем результаты для NearestNeighbors', True)\n",
    "\n",
    "warnings.filterwarnings('ignore')\n",
    "\n",
    "# считаем данные и обработаем аналогично тому, как обрабатывались для рассчета векторов, но частично\n",
    "dataframe = pd.read_parquet(r'C:\\Users\\kM\\Desktop\\MIPT\\dataton\\sem2\\mipt_rabota.ru\\train_mfti.parquet')\n",
    "dataframe = dataframe.drop_duplicates()\n",
    "dataframe = dataframe[dataframe['event_type'].isin(['click_phone', 'click_response'])]\n",
    "dataframe = dataframe.groupby('user_id').filter(lambda x: len(x) > 30)\n",
    "dataframe['user_id'] = dataframe['user_id'].fillna(dataframe['cookie_id'])\n",
    "dataframe = dataframe[['user_id', 'vacancy_id_', 'cookie_id']]\n",
    "\n",
    "# набор данных с векторами\n",
    "user_vectors = pd.read_parquet(r'C:\\Users\\kM\\Desktop\\MIPT\\dataton\\sem2\\mipt_rabota.ru\\KNN_users_vectors_min.parquet')\n",
    "\n",
    "log_status('инициализируем модель NearestNeighbors', True)\n",
    "model = NearestNeighbors(metric=\"cosine\", algorithm=\"brute\", n_jobs=64)\n",
    "model.fit(user_vectors.astype(pd.SparseDtype(\"bool\", False))) # user_vectors.astype(pd.SparseDtype(\"bool\", False)).sparse.to_coo().to_csr()\n",
    "\n",
    "# создадим столбец с предсказанными топ-5 значений\n",
    "test_df = pd.read_parquet(r'C:\\Users\\kM\\Desktop\\MIPT\\dataton\\sem2\\mipt_rabota.ru\\test_public_mfti.parquet',\n",
    "                          engine='pyarrow')\n",
    "\n",
    "test_df['predicted'] = test_df.apply(lambda row: get_prediction(dataframe, user_vectors, row, model, top_limit=5, print_result=False), axis=1)\n",
    "\n",
    "# посчитаем метрику\n",
    "test_df['true_positive'] = test_df.apply(lambda x: len(set(x['vacancy_id_']) & set(x['predicted'])), axis=1)\n",
    "test_df['precision@5'] = test_df.apply(lambda x: len(set(x['vacancy_id_']) & set(x['predicted'])) / 5, axis=1)\n",
    "\n",
    "print(test_df[test_df['true_positive'] > 0])\n",
    "test_df['precision@5'].mean()"
   ]
  },
  {
   "cell_type": "code",
   "execution_count": null,
   "id": "3973b67a",
   "metadata": {},
   "outputs": [],
   "source": []
  }
 ],
 "metadata": {
  "kernelspec": {
   "display_name": "Python 3 (ipykernel)",
   "language": "python",
   "name": "python3"
  },
  "language_info": {
   "codemirror_mode": {
    "name": "ipython",
    "version": 3
   },
   "file_extension": ".py",
   "mimetype": "text/x-python",
   "name": "python",
   "nbconvert_exporter": "python",
   "pygments_lexer": "ipython3",
   "version": "3.9.13"
  }
 },
 "nbformat": 4,
 "nbformat_minor": 5
}
