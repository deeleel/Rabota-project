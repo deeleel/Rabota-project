{
 "cells": [
  {
   "cell_type": "code",
   "execution_count": 2,
   "id": "983b615c",
   "metadata": {
    "scrolled": false
   },
   "outputs": [
    {
     "name": "stdout",
     "output_type": "stream",
     "text": [
      "Requirement already satisfied: pyarrow in c:\\programdata\\anaconda3\\lib\\site-packages (11.0.0)\n",
      "Requirement already satisfied: numpy>=1.16.6 in c:\\programdata\\anaconda3\\lib\\site-packages (from pyarrow) (1.23.5)\n",
      "Requirement already satisfied: fastparquet in c:\\programdata\\anaconda3\\lib\\site-packages (2023.2.0)\n",
      "Requirement already satisfied: cramjam>=2.3 in c:\\programdata\\anaconda3\\lib\\site-packages (from fastparquet) (2.6.2)\n",
      "Requirement already satisfied: packaging in c:\\programdata\\anaconda3\\lib\\site-packages (from fastparquet) (22.0)\n",
      "Requirement already satisfied: numpy>=1.20.3 in c:\\programdata\\anaconda3\\lib\\site-packages (from fastparquet) (1.23.5)\n",
      "Requirement already satisfied: pandas>=1.5.0 in c:\\programdata\\anaconda3\\lib\\site-packages (from fastparquet) (1.5.3)\n",
      "Requirement already satisfied: fsspec in c:\\programdata\\anaconda3\\lib\\site-packages (from fastparquet) (2022.11.0)\n",
      "Requirement already satisfied: pytz>=2020.1 in c:\\programdata\\anaconda3\\lib\\site-packages (from pandas>=1.5.0->fastparquet) (2022.7)\n",
      "Requirement already satisfied: python-dateutil>=2.8.1 in c:\\programdata\\anaconda3\\lib\\site-packages (from pandas>=1.5.0->fastparquet) (2.8.2)\n",
      "Requirement already satisfied: six>=1.5 in c:\\programdata\\anaconda3\\lib\\site-packages (from python-dateutil>=2.8.1->pandas>=1.5.0->fastparquet) (1.16.0)\n",
      "Requirement already satisfied: scikit-learn in c:\\programdata\\anaconda3\\lib\\site-packages (1.2.1)\n",
      "Requirement already satisfied: numpy>=1.17.3 in c:\\programdata\\anaconda3\\lib\\site-packages (from scikit-learn) (1.23.5)\n",
      "Requirement already satisfied: threadpoolctl>=2.0.0 in c:\\programdata\\anaconda3\\lib\\site-packages (from scikit-learn) (2.2.0)\n",
      "Requirement already satisfied: joblib>=1.1.1 in c:\\programdata\\anaconda3\\lib\\site-packages (from scikit-learn) (1.1.1)\n",
      "Requirement already satisfied: scipy>=1.3.2 in c:\\programdata\\anaconda3\\lib\\site-packages (from scikit-learn) (1.10.0)\n",
      "Requirement already satisfied: numpy in c:\\programdata\\anaconda3\\lib\\site-packages (1.23.5)\n",
      "Requirement already satisfied: pandas in c:\\programdata\\anaconda3\\lib\\site-packages (1.5.3)\n",
      "Requirement already satisfied: numpy>=1.21.0 in c:\\programdata\\anaconda3\\lib\\site-packages (from pandas) (1.23.5)\n",
      "Requirement already satisfied: python-dateutil>=2.8.1 in c:\\programdata\\anaconda3\\lib\\site-packages (from pandas) (2.8.2)\n",
      "Requirement already satisfied: pytz>=2020.1 in c:\\programdata\\anaconda3\\lib\\site-packages (from pandas) (2022.7)\n",
      "Requirement already satisfied: six>=1.5 in c:\\programdata\\anaconda3\\lib\\site-packages (from python-dateutil>=2.8.1->pandas) (1.16.0)\n",
      "Requirement already satisfied: scipy in c:\\programdata\\anaconda3\\lib\\site-packages (1.10.0)\n",
      "Requirement already satisfied: numpy<1.27.0,>=1.19.5 in c:\\programdata\\anaconda3\\lib\\site-packages (from scipy) (1.23.5)\n"
     ]
    }
   ],
   "source": [
    "!pip install pyarrow\n",
    "!pip install fastparquet\n",
    "!pip install scikit-learn\n",
    "!pip install numpy\n",
    "!pip install pandas\n",
    "!pip install scipy"
   ]
  },
  {
   "cell_type": "code",
   "execution_count": 3,
   "id": "d7d1e55f",
   "metadata": {},
   "outputs": [
    {
     "name": "stdout",
     "output_type": "stream",
     "text": [
      "30/04/2023 09:10:31 Пример рекоммендации вакансий на основе поиска ближайших пользователей\n",
      "30/04/2023 09:10:48 Список рекомендаций для пользователя с id \"31af9b292f4140798c271056435ef8d6\":\n",
      "\n",
      "240663\n",
      "240663\n",
      "134154\n",
      "145456\n",
      "140184\n"
     ]
    }
   ],
   "source": [
    "import datetime\n",
    "import warnings\n",
    "\n",
    "import numpy as np\n",
    "import pandas as pd\n",
    "from numpy import newaxis\n",
    "from scipy.sparse import csr_matrix\n",
    "from sklearn.neighbors import NearestNeighbors\n",
    "\n",
    "\n",
    "def set_up_printing():\n",
    "    \"\"\"Sets up display parameters\"\"\"\n",
    "\n",
    "    max_dimensions_display_limit = 1000\n",
    "    pd.set_option('display.max_columns', max_dimensions_display_limit)\n",
    "    pd.set_option('display.max_colwidth', None)\n",
    "\n",
    "    pd.set_option('display.max_rows', max_dimensions_display_limit)\n",
    "    pd.set_option('display.width', None)\n",
    "\n",
    "    pd.set_option('display.max_info_columns', max_dimensions_display_limit)\n",
    "    pd.set_option('display.max_info_rows', max_dimensions_display_limit)\n",
    "\n",
    "    warnings.filterwarnings('ignore')\n",
    "\n",
    "\n",
    "def log_status(msg):\n",
    "    print(datetime.datetime.now().strftime(\"%d/%m/%Y %H:%M:%S\"), msg)\n",
    "\n",
    "\n",
    "log_status('Пример рекоммендации вакансий на основе поиска ближайших пользователей')\n",
    "'''важное замечание, ниже расчет на основе метода ближайших соседей только по тестовому набору, пока без валидации'''\n",
    "\n",
    "# настроить отображение при выводе в консоль\n",
    "set_up_printing()\n",
    "\n",
    "# считать набор данных с векторами\n",
    "user_vectors = pd.read_parquet(r'C:\\Users\\M_N_K\\kosta_2023_dataton\\KNN_users_vectors_min.parquet')\n",
    "\n",
    "# как было сделано до этого при рассчете векторов, аналогично считать и обработать данные\n",
    "dataframe = pd.read_parquet(r'C:\\Users\\M_N_K\\kosta_2023_dataton\\train_mfti.parquet')\n",
    "dataframe = dataframe.drop_duplicates()\n",
    "dataframe = dataframe[dataframe['event_type'].isin(['click_phone', 'click_response'])]\n",
    "dataframe = dataframe.groupby('user_id').filter(lambda x: len(x) > 30)\n",
    "dataframe['user_id'] = dataframe['user_id'].fillna(dataframe['cookie_id'])\n",
    "dataframe = dataframe[['user_id', 'vacancy_id_']]\n",
    "\n",
    "# выбрать случайным обрабом пользователя, для которого требуется найти рекоммендации\n",
    "random_selection = np.random.choice(user_vectors.shape[0])\n",
    "user_id_to_get_rec_for = user_vectors.index[random_selection]\n",
    "\n",
    "# выбрать вакансии, с которыми уже взаимодействовал целевой пользователь\n",
    "already_seen = dataframe[dataframe['user_id'] == user_id_to_get_rec_for]['vacancy_id_'].tolist()\n",
    "\n",
    "# настроить параметры модели, без валидации можно использовать NearestNeighbors от sklearn\n",
    "model = NearestNeighbors(metric=\"cosine\", algorithm=\"brute\", n_jobs=32)\n",
    "model.fit(csr_matrix(user_vectors.values))\n",
    "\n",
    "# выбрать ближайших соседей (пользователей), только тестовые данные, пока без валидации\n",
    "request = np.array(user_vectors.iloc[random_selection, :].values)[:, newaxis].reshape(1, -1)\n",
    "distance, suggestions = model.kneighbors(request, n_neighbors=30)\n",
    "\n",
    "# вывести рекомендации вакансий на основе рекомендованных пользователей, с учетом порядка\n",
    "top_limit = 5\n",
    "recommendations_list = list()\n",
    "for i in range(0, len(distance.flatten())):\n",
    "    recommended_user_id = user_vectors.index[suggestions.flatten()[i]]\n",
    "    \n",
    "    # исключаем вакансии, с которыми целевой пользователь уже взаимодействовал\n",
    "    rec_to_add_list_by_rec_user = [rec_to_add for rec_to_add in\n",
    "                                   dataframe[dataframe['user_id'] == recommended_user_id]['vacancy_id_'].tolist() if\n",
    "                                   rec_to_add not in already_seen]\n",
    "    recommendations_list.extend(rec_to_add_list_by_rec_user)\n",
    "    if len(recommendations_list) >= top_limit:\n",
    "        break\n",
    "\n",
    "log_status('Список рекомендаций для пользователя с id \"{0}\":\\n'.format(user_vectors.index[random_selection]))\n",
    "for rec in recommendations_list[0:top_limit]:\n",
    "    print(rec)\n"
   ]
  }
 ],
 "metadata": {
  "kernelspec": {
   "display_name": "Python 3 (ipykernel)",
   "language": "python",
   "name": "python3"
  },
  "language_info": {
   "codemirror_mode": {
    "name": "ipython",
    "version": 3
   },
   "file_extension": ".py",
   "mimetype": "text/x-python",
   "name": "python",
   "nbconvert_exporter": "python",
   "pygments_lexer": "ipython3",
   "version": "3.10.9"
  }
 },
 "nbformat": 4,
 "nbformat_minor": 5
}
