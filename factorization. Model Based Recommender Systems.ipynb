{
 "cells": [
  {
   "cell_type": "code",
   "execution_count": 62,
   "id": "dd351b83",
   "metadata": {},
   "outputs": [],
   "source": [
    "import pandas as pd\n",
    "import numpy as np\n",
    "\n",
    "import seaborn as sns\n",
    "import plotly.express as px\n",
    "import plotly.graph_objects as go\n",
    "import matplotlib.pyplot as plt\n",
    "\n",
    "import tqdm\n",
    "\n",
    "import warnings\n",
    "warnings.filterwarnings('ignore')"
   ]
  },
  {
   "cell_type": "code",
   "execution_count": 3,
   "id": "c945229e",
   "metadata": {},
   "outputs": [],
   "source": [
    "reactions = {\n",
    "    'show_vacancy': 0, \n",
    "    'preview_click_vacancy': 0, \n",
    "    'click_response': 1,\n",
    "    'click_contacts': 1, \n",
    "    'preview_click_response': 1, \n",
    "    'click_favorite': 0,\n",
    "    'preview_click_favorite': 0, \n",
    "    'preview_click_contacts': 1, \n",
    "    'click_phone': 1,\n",
    "    'preview_click_phone': 1\n",
    "}"
   ]
  },
  {
   "cell_type": "code",
   "execution_count": 4,
   "id": "dc5cf772",
   "metadata": {},
   "outputs": [],
   "source": [
    "train_data = pd.read_parquet('train_mfti.parquet', engine='pyarrow')"
   ]
  },
  {
   "cell_type": "code",
   "execution_count": 5,
   "id": "4bf7e5b4",
   "metadata": {},
   "outputs": [],
   "source": [
    "train_data['target'] = train_data['event_type'].apply(lambda x: reactions[x])"
   ]
  },
  {
   "cell_type": "code",
   "execution_count": 6,
   "id": "152bb643",
   "metadata": {},
   "outputs": [
    {
     "data": {
      "text/html": [
       "<div>\n",
       "<style scoped>\n",
       "    .dataframe tbody tr th:only-of-type {\n",
       "        vertical-align: middle;\n",
       "    }\n",
       "\n",
       "    .dataframe tbody tr th {\n",
       "        vertical-align: top;\n",
       "    }\n",
       "\n",
       "    .dataframe thead th {\n",
       "        text-align: right;\n",
       "    }\n",
       "</style>\n",
       "<table border=\"1\" class=\"dataframe\">\n",
       "  <thead>\n",
       "    <tr style=\"text-align: right;\">\n",
       "      <th></th>\n",
       "      <th>event_date</th>\n",
       "      <th>event_timestamp</th>\n",
       "      <th>vacancy_id_</th>\n",
       "      <th>cookie_id</th>\n",
       "      <th>user_id</th>\n",
       "      <th>event_type</th>\n",
       "      <th>target</th>\n",
       "    </tr>\n",
       "  </thead>\n",
       "  <tbody>\n",
       "    <tr>\n",
       "      <th>0</th>\n",
       "      <td>2022-08-01</td>\n",
       "      <td>1659323026</td>\n",
       "      <td>129850</td>\n",
       "      <td>97990f1a021d4be19aa3f955b7eacab4</td>\n",
       "      <td>951f53de61764ea0b51317200a0dbbfc</td>\n",
       "      <td>show_vacancy</td>\n",
       "      <td>0</td>\n",
       "    </tr>\n",
       "    <tr>\n",
       "      <th>1</th>\n",
       "      <td>2022-08-01</td>\n",
       "      <td>1659377255</td>\n",
       "      <td>108347</td>\n",
       "      <td>03bf8c511fa949c79845a5d81b09aa1d</td>\n",
       "      <td>f5a2326a17484330aa8cb4019f1b1960</td>\n",
       "      <td>show_vacancy</td>\n",
       "      <td>0</td>\n",
       "    </tr>\n",
       "    <tr>\n",
       "      <th>2</th>\n",
       "      <td>2022-08-01</td>\n",
       "      <td>1659376695</td>\n",
       "      <td>109069</td>\n",
       "      <td>03bf8c511fa949c79845a5d81b09aa1d</td>\n",
       "      <td>f5a2326a17484330aa8cb4019f1b1960</td>\n",
       "      <td>show_vacancy</td>\n",
       "      <td>0</td>\n",
       "    </tr>\n",
       "    <tr>\n",
       "      <th>3</th>\n",
       "      <td>2022-08-01</td>\n",
       "      <td>1659376722</td>\n",
       "      <td>171425</td>\n",
       "      <td>03bf8c511fa949c79845a5d81b09aa1d</td>\n",
       "      <td>f5a2326a17484330aa8cb4019f1b1960</td>\n",
       "      <td>show_vacancy</td>\n",
       "      <td>0</td>\n",
       "    </tr>\n",
       "    <tr>\n",
       "      <th>4</th>\n",
       "      <td>2022-08-01</td>\n",
       "      <td>1659374929</td>\n",
       "      <td>252384</td>\n",
       "      <td>03bf8c511fa949c79845a5d81b09aa1d</td>\n",
       "      <td>f5a2326a17484330aa8cb4019f1b1960</td>\n",
       "      <td>show_vacancy</td>\n",
       "      <td>0</td>\n",
       "    </tr>\n",
       "  </tbody>\n",
       "</table>\n",
       "</div>"
      ],
      "text/plain": [
       "   event_date  event_timestamp  vacancy_id_                         cookie_id  \\\n",
       "0  2022-08-01       1659323026       129850  97990f1a021d4be19aa3f955b7eacab4   \n",
       "1  2022-08-01       1659377255       108347  03bf8c511fa949c79845a5d81b09aa1d   \n",
       "2  2022-08-01       1659376695       109069  03bf8c511fa949c79845a5d81b09aa1d   \n",
       "3  2022-08-01       1659376722       171425  03bf8c511fa949c79845a5d81b09aa1d   \n",
       "4  2022-08-01       1659374929       252384  03bf8c511fa949c79845a5d81b09aa1d   \n",
       "\n",
       "                            user_id    event_type  target  \n",
       "0  951f53de61764ea0b51317200a0dbbfc  show_vacancy       0  \n",
       "1  f5a2326a17484330aa8cb4019f1b1960  show_vacancy       0  \n",
       "2  f5a2326a17484330aa8cb4019f1b1960  show_vacancy       0  \n",
       "3  f5a2326a17484330aa8cb4019f1b1960  show_vacancy       0  \n",
       "4  f5a2326a17484330aa8cb4019f1b1960  show_vacancy       0  "
      ]
     },
     "execution_count": 6,
     "metadata": {},
     "output_type": "execute_result"
    }
   ],
   "source": [
    "train_data.head()"
   ]
  },
  {
   "cell_type": "code",
   "execution_count": 7,
   "id": "ba9c9e56",
   "metadata": {},
   "outputs": [
    {
     "data": {
      "text/plain": [
       "0    11243029\n",
       "1     1049559\n",
       "Name: target, dtype: int64"
      ]
     },
     "execution_count": 7,
     "metadata": {},
     "output_type": "execute_result"
    }
   ],
   "source": [
    "train_data['target'].value_counts()"
   ]
  },
  {
   "cell_type": "code",
   "execution_count": 8,
   "id": "3e703cf4",
   "metadata": {},
   "outputs": [
    {
     "data": {
      "text/plain": [
       "924398d361a0454c8c30845c2b4c5747    4898\n",
       "7d8cc5a0fef44378a2d90a237cda288e    3343\n",
       "5934d5b8a0b348829d8efabe69c733eb    3315\n",
       "b7dd2f20fdd6472ab62f8d86a739cd5d    3312\n",
       "353b56c4fa6447d0ba0f08b42d86e51f    2795\n",
       "                                    ... \n",
       "1b4240c448df47f29e00ef38b8215ea2       5\n",
       "99c776f7ff1d4e73919342365bc0de0a       5\n",
       "f84c882a92d74646bfc6eb4447b11d3c       5\n",
       "9b86c05707bc43d19dfaf60563627c2d       5\n",
       "694ea921f0d14d56853bf9856866110d       5\n",
       "Name: cookie_id, Length: 330180, dtype: int64"
      ]
     },
     "execution_count": 8,
     "metadata": {},
     "output_type": "execute_result"
    }
   ],
   "source": [
    "train_data['cookie_id'].value_counts()"
   ]
  },
  {
   "cell_type": "code",
   "execution_count": 9,
   "id": "ec2c4bdc",
   "metadata": {},
   "outputs": [],
   "source": [
    "# !pip install surprise"
   ]
  },
  {
   "cell_type": "code",
   "execution_count": 10,
   "id": "626d1437",
   "metadata": {},
   "outputs": [],
   "source": [
    "from surprise import Dataset, Reader\n",
    "\n",
    "from surprise.prediction_algorithms.matrix_factorization import SVD\n",
    "\n",
    "from surprise import accuracy"
   ]
  },
  {
   "cell_type": "code",
   "execution_count": 11,
   "id": "2b3dc642",
   "metadata": {},
   "outputs": [],
   "source": [
    "disctinct_data = train_data[['cookie_id', 'vacancy_id_', 'target']].groupby(by=['cookie_id', 'vacancy_id_']).sum().reset_index()"
   ]
  },
  {
   "cell_type": "code",
   "execution_count": 12,
   "id": "a8814890",
   "metadata": {},
   "outputs": [],
   "source": [
    "# Initialize a surprise reader object\n",
    "reader = Reader(line_format='user item rating', sep=',', rating_scale=(0,5), skip_lines=1)\n",
    "\n",
    "# Load the data\n",
    "data = Dataset.load_from_df(train_data[['cookie_id','vacancy_id_','target']], reader=reader)\n",
    "\n",
    "# Build trainset object(perform this only when you are using whole dataset to train)\n",
    "trainset = data.build_full_trainset()"
   ]
  },
  {
   "cell_type": "code",
   "execution_count": 13,
   "id": "49f458b3",
   "metadata": {},
   "outputs": [
    {
     "data": {
      "text/plain": [
       "<surprise.prediction_algorithms.matrix_factorization.SVD at 0x1118065b0>"
      ]
     },
     "execution_count": 13,
     "metadata": {},
     "output_type": "execute_result"
    }
   ],
   "source": [
    "# Initialize model\n",
    "svd = SVD()\n",
    "\n",
    "# cross-validate\n",
    "svd.fit(trainset)"
   ]
  },
  {
   "cell_type": "code",
   "execution_count": 91,
   "id": "f51f28a7",
   "metadata": {},
   "outputs": [],
   "source": [
    "def make_prediction(cookie_id, top_n=5):\n",
    "    # какие вакансии уже смотрел этот пользователь\n",
    "    viewed_vac = train_data[train_data['cookie_id'] == cookie_id]['vacancy_id_']\n",
    "    \n",
    "    # все вакансии\n",
    "    all_vacancies = pd.Series(train_data['vacancy_id_'].unique())\n",
    "    \n",
    "    # уберем просмотренные\n",
    "    unviewed_vac = all_vacancies[~all_vacancies.isin(viewed_vac)]\n",
    "    \n",
    "    # предскажем рейтинг непросмотренных\n",
    "    recommendations = []\n",
    "    for vac_id in unviewed_vac:\n",
    "        # predicting the ratings for those non interacted product ids by this user\n",
    "        est = svd.predict(cookie_id, vac_id).est\n",
    "        \n",
    "        # appending the predicted ratings\n",
    "        # movie_name = movie_md[movie_md['id']==str(item_id)]['title'].values[0]\n",
    "        recommendations.append((vac_id, est))\n",
    "        \n",
    "    recommendations.sort(key=lambda x: x[1], reverse=True)\n",
    "    top_n_recommendations = [x for x in recommendations[:top_n]]\n",
    "\n",
    "    return top_n_recommendations"
   ]
  },
  {
   "cell_type": "code",
   "execution_count": 92,
   "id": "08d8d3b9",
   "metadata": {},
   "outputs": [
    {
     "data": {
      "text/plain": [
       "[(208243, 0.6578583649496866),\n",
       " (224057, 0.6426922320947608),\n",
       " (235718, 0.6302035268161327),\n",
       " (164086, 0.6249818752923296),\n",
       " (200806, 0.6143384842706172)]"
      ]
     },
     "execution_count": 92,
     "metadata": {},
     "output_type": "execute_result"
    }
   ],
   "source": [
    "make_prediction(cookie_id='000cd76cd33f43d4a1ac1d16d10f8bf7')"
   ]
  },
  {
   "cell_type": "code",
   "execution_count": 74,
   "id": "f7357371",
   "metadata": {},
   "outputs": [],
   "source": [
    "# Проверим на precision@5\n",
    "test_df = pd.read_parquet('test_public_mfti.parquet', engine='pyarrow')"
   ]
  },
  {
   "cell_type": "code",
   "execution_count": 75,
   "id": "101bec23",
   "metadata": {},
   "outputs": [
    {
     "data": {
      "text/html": [
       "<div>\n",
       "<style scoped>\n",
       "    .dataframe tbody tr th:only-of-type {\n",
       "        vertical-align: middle;\n",
       "    }\n",
       "\n",
       "    .dataframe tbody tr th {\n",
       "        vertical-align: top;\n",
       "    }\n",
       "\n",
       "    .dataframe thead th {\n",
       "        text-align: right;\n",
       "    }\n",
       "</style>\n",
       "<table border=\"1\" class=\"dataframe\">\n",
       "  <thead>\n",
       "    <tr style=\"text-align: right;\">\n",
       "      <th></th>\n",
       "      <th>cookie_id</th>\n",
       "      <th>vacancy_id_</th>\n",
       "    </tr>\n",
       "  </thead>\n",
       "  <tbody>\n",
       "    <tr>\n",
       "      <th>0</th>\n",
       "      <td>000cd76cd33f43d4a1ac1d16d10f8bf7</td>\n",
       "      <td>[222177, 222173, 222163, 238874, 238878, 22812...</td>\n",
       "    </tr>\n",
       "    <tr>\n",
       "      <th>1</th>\n",
       "      <td>0034bc7f404341ba8412665453e7825a</td>\n",
       "      <td>[102794, 137587, 257319, 237756, 240744, 11348...</td>\n",
       "    </tr>\n",
       "    <tr>\n",
       "      <th>2</th>\n",
       "      <td>00a6c5a64a274c55a836402bdeb3b2c4</td>\n",
       "      <td>[254292, 164602, 116438, 228634, 218819, 24065...</td>\n",
       "    </tr>\n",
       "    <tr>\n",
       "      <th>3</th>\n",
       "      <td>015937a125b14e74bdff1cddc49f9172</td>\n",
       "      <td>[246685, 138123, 115420, 210628, 212325, 235196]</td>\n",
       "    </tr>\n",
       "    <tr>\n",
       "      <th>4</th>\n",
       "      <td>01de50c280794cec8804f16f45f847b7</td>\n",
       "      <td>[219070, 251469, 166899, 212703, 214561]</td>\n",
       "    </tr>\n",
       "  </tbody>\n",
       "</table>\n",
       "</div>"
      ],
      "text/plain": [
       "                          cookie_id  \\\n",
       "0  000cd76cd33f43d4a1ac1d16d10f8bf7   \n",
       "1  0034bc7f404341ba8412665453e7825a   \n",
       "2  00a6c5a64a274c55a836402bdeb3b2c4   \n",
       "3  015937a125b14e74bdff1cddc49f9172   \n",
       "4  01de50c280794cec8804f16f45f847b7   \n",
       "\n",
       "                                         vacancy_id_  \n",
       "0  [222177, 222173, 222163, 238874, 238878, 22812...  \n",
       "1  [102794, 137587, 257319, 237756, 240744, 11348...  \n",
       "2  [254292, 164602, 116438, 228634, 218819, 24065...  \n",
       "3   [246685, 138123, 115420, 210628, 212325, 235196]  \n",
       "4           [219070, 251469, 166899, 212703, 214561]  "
      ]
     },
     "execution_count": 75,
     "metadata": {},
     "output_type": "execute_result"
    }
   ],
   "source": [
    "test_df.head()"
   ]
  },
  {
   "cell_type": "code",
   "execution_count": 76,
   "id": "aefd2cf9",
   "metadata": {},
   "outputs": [],
   "source": [
    "def make_prediciton_column(cookies):\n",
    "    lst = []\n",
    "    for cookie in tqdm.tqdm(cookies):\n",
    "        prediction = make_prediction(cookie)\n",
    "        lst.append(prediction)\n",
    "    return lst"
   ]
  },
  {
   "cell_type": "code",
   "execution_count": 77,
   "id": "ecc7d052",
   "metadata": {},
   "outputs": [
    {
     "name": "stderr",
     "output_type": "stream",
     "text": [
      "100%|█████████████████████████████████████████| 772/772 [17:41<00:00,  1.37s/it]\n"
     ]
    }
   ],
   "source": [
    "test_df['predicted'] = make_prediciton_column(test_df['cookie_id'])"
   ]
  },
  {
   "cell_type": "code",
   "execution_count": 85,
   "id": "03b08747",
   "metadata": {},
   "outputs": [],
   "source": [
    "test_df['true_positive'] = test_df.apply(lambda x: len(set(x['vacancy_id_']) & set(x['predicted'])), axis=1)\n",
    "test_df['precision@5'] = test_df.apply(lambda x: len(set(x['vacancy_id_']) & set(x['predicted'])) / 5, axis=1)"
   ]
  },
  {
   "cell_type": "code",
   "execution_count": 86,
   "id": "acc5b065",
   "metadata": {},
   "outputs": [
    {
     "data": {
      "text/html": [
       "<div>\n",
       "<style scoped>\n",
       "    .dataframe tbody tr th:only-of-type {\n",
       "        vertical-align: middle;\n",
       "    }\n",
       "\n",
       "    .dataframe tbody tr th {\n",
       "        vertical-align: top;\n",
       "    }\n",
       "\n",
       "    .dataframe thead th {\n",
       "        text-align: right;\n",
       "    }\n",
       "</style>\n",
       "<table border=\"1\" class=\"dataframe\">\n",
       "  <thead>\n",
       "    <tr style=\"text-align: right;\">\n",
       "      <th></th>\n",
       "      <th>cookie_id</th>\n",
       "      <th>vacancy_id_</th>\n",
       "      <th>predicted</th>\n",
       "      <th>true_positive</th>\n",
       "      <th>precision@5</th>\n",
       "    </tr>\n",
       "  </thead>\n",
       "  <tbody>\n",
       "    <tr>\n",
       "      <th>0</th>\n",
       "      <td>000cd76cd33f43d4a1ac1d16d10f8bf7</td>\n",
       "      <td>[222177, 222173, 222163, 238874, 238878, 22812...</td>\n",
       "      <td>[208243, 224057, 235718, 164086, 200806]</td>\n",
       "      <td>0</td>\n",
       "      <td>0.0</td>\n",
       "    </tr>\n",
       "    <tr>\n",
       "      <th>1</th>\n",
       "      <td>0034bc7f404341ba8412665453e7825a</td>\n",
       "      <td>[102794, 137587, 257319, 237756, 240744, 11348...</td>\n",
       "      <td>[201679, 224232, 164086, 236160, 100947]</td>\n",
       "      <td>0</td>\n",
       "      <td>0.0</td>\n",
       "    </tr>\n",
       "    <tr>\n",
       "      <th>2</th>\n",
       "      <td>00a6c5a64a274c55a836402bdeb3b2c4</td>\n",
       "      <td>[254292, 164602, 116438, 228634, 218819, 24065...</td>\n",
       "      <td>[201679, 236964, 207806, 229449, 225003]</td>\n",
       "      <td>0</td>\n",
       "      <td>0.0</td>\n",
       "    </tr>\n",
       "    <tr>\n",
       "      <th>3</th>\n",
       "      <td>015937a125b14e74bdff1cddc49f9172</td>\n",
       "      <td>[246685, 138123, 115420, 210628, 212325, 235196]</td>\n",
       "      <td>[164086, 188067, 113155, 112103, 235907]</td>\n",
       "      <td>0</td>\n",
       "      <td>0.0</td>\n",
       "    </tr>\n",
       "    <tr>\n",
       "      <th>4</th>\n",
       "      <td>01de50c280794cec8804f16f45f847b7</td>\n",
       "      <td>[219070, 251469, 166899, 212703, 214561]</td>\n",
       "      <td>[201679, 235718, 191031, 139216, 239294]</td>\n",
       "      <td>0</td>\n",
       "      <td>0.0</td>\n",
       "    </tr>\n",
       "  </tbody>\n",
       "</table>\n",
       "</div>"
      ],
      "text/plain": [
       "                          cookie_id  \\\n",
       "0  000cd76cd33f43d4a1ac1d16d10f8bf7   \n",
       "1  0034bc7f404341ba8412665453e7825a   \n",
       "2  00a6c5a64a274c55a836402bdeb3b2c4   \n",
       "3  015937a125b14e74bdff1cddc49f9172   \n",
       "4  01de50c280794cec8804f16f45f847b7   \n",
       "\n",
       "                                         vacancy_id_  \\\n",
       "0  [222177, 222173, 222163, 238874, 238878, 22812...   \n",
       "1  [102794, 137587, 257319, 237756, 240744, 11348...   \n",
       "2  [254292, 164602, 116438, 228634, 218819, 24065...   \n",
       "3   [246685, 138123, 115420, 210628, 212325, 235196]   \n",
       "4           [219070, 251469, 166899, 212703, 214561]   \n",
       "\n",
       "                                  predicted  true_positive  precision@5  \n",
       "0  [208243, 224057, 235718, 164086, 200806]              0          0.0  \n",
       "1  [201679, 224232, 164086, 236160, 100947]              0          0.0  \n",
       "2  [201679, 236964, 207806, 229449, 225003]              0          0.0  \n",
       "3  [164086, 188067, 113155, 112103, 235907]              0          0.0  \n",
       "4  [201679, 235718, 191031, 139216, 239294]              0          0.0  "
      ]
     },
     "execution_count": 86,
     "metadata": {},
     "output_type": "execute_result"
    }
   ],
   "source": [
    "test_df.head()"
   ]
  },
  {
   "cell_type": "code",
   "execution_count": 81,
   "id": "3be9138d",
   "metadata": {},
   "outputs": [
    {
     "data": {
      "text/plain": [
       "0.0"
      ]
     },
     "execution_count": 81,
     "metadata": {},
     "output_type": "execute_result"
    }
   ],
   "source": [
    "# усредним метрику\n",
    "test_df['precision@5'].mean() "
   ]
  },
  {
   "cell_type": "code",
   "execution_count": 84,
   "id": "02dcb293",
   "metadata": {},
   "outputs": [
    {
     "data": {
      "text/html": [
       "<div>\n",
       "<style scoped>\n",
       "    .dataframe tbody tr th:only-of-type {\n",
       "        vertical-align: middle;\n",
       "    }\n",
       "\n",
       "    .dataframe tbody tr th {\n",
       "        vertical-align: top;\n",
       "    }\n",
       "\n",
       "    .dataframe thead th {\n",
       "        text-align: right;\n",
       "    }\n",
       "</style>\n",
       "<table border=\"1\" class=\"dataframe\">\n",
       "  <thead>\n",
       "    <tr style=\"text-align: right;\">\n",
       "      <th></th>\n",
       "      <th>cookie_id</th>\n",
       "      <th>vacancy_id_</th>\n",
       "      <th>predicted</th>\n",
       "      <th>true_positive</th>\n",
       "      <th>precision@5</th>\n",
       "    </tr>\n",
       "  </thead>\n",
       "  <tbody>\n",
       "  </tbody>\n",
       "</table>\n",
       "</div>"
      ],
      "text/plain": [
       "Empty DataFrame\n",
       "Columns: [cookie_id, vacancy_id_, predicted, true_positive, precision@5]\n",
       "Index: []"
      ]
     },
     "execution_count": 84,
     "metadata": {},
     "output_type": "execute_result"
    }
   ],
   "source": [
    "# сколько ненулевых?\n",
    "test_df[test_df['true_positive'] != 0]"
   ]
  },
  {
   "cell_type": "code",
   "execution_count": null,
   "id": "a419e6a3",
   "metadata": {},
   "outputs": [],
   "source": []
  }
 ],
 "metadata": {
  "kernelspec": {
   "display_name": "Python 3 (ipykernel)",
   "language": "python",
   "name": "python3"
  },
  "language_info": {
   "codemirror_mode": {
    "name": "ipython",
    "version": 3
   },
   "file_extension": ".py",
   "mimetype": "text/x-python",
   "name": "python",
   "nbconvert_exporter": "python",
   "pygments_lexer": "ipython3",
   "version": "3.9.13"
  }
 },
 "nbformat": 4,
 "nbformat_minor": 5
}
