{
 "cells": [
  {
   "cell_type": "code",
   "execution_count": 2,
   "id": "e691d0d3-3706-404a-9e72-ee1ff698074b",
   "metadata": {},
   "outputs": [],
   "source": [
    "import numpy as np\n",
    "import pandas as pd\n",
    "import tqdm\n",
    "from scipy import sparse\n",
    "from sklearn.metrics.pairwise import cosine_similarity\n",
    "from scipy.sparse import csr_matrix"
   ]
  },
  {
   "cell_type": "markdown",
   "id": "4db9cd31-8631-41a1-9952-47189f26a34d",
   "metadata": {},
   "source": [
    "# Prepare \n",
    "\n",
    "Создается новый датасет с заполненной new_id\n",
    "- если у юзера есть user_id -> user_id = new_id\n",
    "- если у юзера нет user_id -> user_id = cookie_id\n",
    "- у юзеров, где пропущены user_id заполняются пропуски"
   ]
  },
  {
   "cell_type": "code",
   "execution_count": null,
   "id": "38c79c43-1078-4fe3-b68d-ec7f479becb7",
   "metadata": {},
   "outputs": [],
   "source": [
    "df = pd.read_parquet('processed_train_full.parquet', engine='pyarrow')"
   ]
  },
  {
   "cell_type": "code",
   "execution_count": null,
   "id": "fb2ac1d1-f2cb-4294-8a19-c3c967023358",
   "metadata": {},
   "outputs": [],
   "source": [
    "df.drop_duplicates(inplace=True)"
   ]
  },
  {
   "cell_type": "code",
   "execution_count": null,
   "id": "708b52a4-fa88-4e38-8483-02603ed278a9",
   "metadata": {},
   "outputs": [],
   "source": [
    "users_cookies = df[df['user_id'].notna()].groupby(['cookie_id'], as_index=False)['user_id'].agg(['unique'])\n",
    "users_cookies_list = users_cookies.index\n",
    "\n",
    "def set_id_unknown(cookie):\n",
    "    if cookie in users_cookies_list:\n",
    "        return users_cookies.loc[cookie][0][0]\n",
    "    else:\n",
    "        return cookie\n",
    "    \n",
    "df['new_id'] = df.apply(lambda x: set_id_unknown(x['cookie_id']), axis = 1)\n",
    "print('Нет пропусков id = ', df[df['new_id'].isna()]['new_id'].sum() == 0)"
   ]
  },
  {
   "cell_type": "code",
   "execution_count": null,
   "id": "aa718b64-744b-40e3-9b8c-ac35050bddc9",
   "metadata": {},
   "outputs": [],
   "source": [
    "df.to_csv('with_new_ids_final.csv', index=False)"
   ]
  },
  {
   "cell_type": "code",
   "execution_count": 4,
   "id": "1ebecf5a-1d98-4eed-9c6d-b8cbf534af0f",
   "metadata": {},
   "outputs": [],
   "source": [
    "df = pd.read_csv('with_new_ids_final.csv')"
   ]
  },
  {
   "cell_type": "code",
   "execution_count": null,
   "id": "5b1e9d5e-07f1-449d-9127-ff4b47a19663",
   "metadata": {},
   "outputs": [],
   "source": []
  },
  {
   "cell_type": "code",
   "execution_count": null,
   "id": "875ce151-1630-4192-9f93-fbe933e52106",
   "metadata": {},
   "outputs": [],
   "source": [
    "# default vacancies to give\n",
    "top_vacancies = df.pivot_table(index='vacancy_id_', columns='event_type', values='event_timestamp', aggfunc='count', fill_value=0)\n",
    "top_vacancies['ctr'] = top_vacancies.apply(lambda x: (x['preview_click_vacancy'] + x['click_response'] + x['click_contacts'] + x['preview_click_response']+ x['click_favorite'] + x['preview_click_favorite'] + x['preview_click_contacts'] + x['click_phone'] + x['preview_click_phone'])/x['show_vacancy'] if x['show_vacancy'] != 0 else 0, axis=1)\n",
    "top_vacancies = list(top_vacancies.sort_values(['ctr'], ascending=False).index[:10])"
   ]
  },
  {
   "cell_type": "markdown",
   "id": "1e3c6eaf-8f5c-483d-9e13-7f3de3e425a1",
   "metadata": {},
   "source": [
    "# Векторизация юзеров\n",
    "\n",
    "- юзеры представляются в виде векторов: юзер х колонки вакансий,\n",
    "\n",
    "0 - если юзер не сделал по вакансии ключевых действий, иначе 1."
   ]
  },
  {
   "cell_type": "code",
   "execution_count": null,
   "id": "f9e6b747-21f1-4abd-8444-823d83ac59bd",
   "metadata": {},
   "outputs": [],
   "source": [
    "# Создается массив векторов\n",
    "def create_massive(original_df, filename):\n",
    "    uniq_users_id = original_df['new_id'].unique()\n",
    "    uniq_vacancy = original_df['vacancy_id_'].unique()\n",
    "    size = len(uniq_vacancy)\n",
    "    \n",
    "    interactions = original_df.query('event_type != \"preview_click_vacancy\" and event_type != \"show_vacancy\"') \\\n",
    "    .groupby(['new_id', 'vacancy_id_', 'event_type'], as_index=False) \\\n",
    "    .agg({'event_timestamp': 'count'})\n",
    "\n",
    "    massive = csr_matrix((len(uniq_users_id), size), dtype = np.int8)\n",
    "    for k1, i in enumerate(tqdm.tqdm(uniq_users_id)):\n",
    "        user_vacancies = set(interactions[interactions['new_id'] == i]['vacancy_id_'])\n",
    "        for k2, w in enumerate(uniq_vacancy):\n",
    "            if w in user_vacancies: massive[k1,k2] = 1 # юзер - вакансия\n",
    "\n",
    "    sparse.save_npz('{}.npz'.format(filename), massive)\n",
    "    return massive"
   ]
  },
  {
   "cell_type": "code",
   "execution_count": null,
   "id": "f40edc31-c905-42a6-8c50-0b439c9103b6",
   "metadata": {},
   "outputs": [],
   "source": [
    "# Get vectorized users\n",
    "sparse_vectors = create_massive(df, 'final_clean_massive')"
   ]
  },
  {
   "cell_type": "code",
   "execution_count": null,
   "id": "ae5629b3-6859-4297-abf9-93963df233ee",
   "metadata": {},
   "outputs": [],
   "source": []
  },
  {
   "cell_type": "markdown",
   "id": "51f53bd0-0658-478f-b6e6-49b6503ffdf1",
   "metadata": {},
   "source": [
    "# Косинус схожести\n",
    "\n",
    "- находим похожих по ключевым действиям юзеров"
   ]
  },
  {
   "cell_type": "code",
   "execution_count": null,
   "id": "b8e431c6-7b19-40ae-a6f7-588c186f74c5",
   "metadata": {},
   "outputs": [],
   "source": [
    "# Рассчитывается косинус схожести для sparse массива, в итоге получаем похожих юзеров в виде координат\n",
    "similarity = cosine_similarity(sparse_vectors, dense_output=False)\n",
    "sparse.save_npz('similarity_results.npz', changed_similarity)"
   ]
  },
  {
   "cell_type": "code",
   "execution_count": null,
   "id": "c7b9586f-ca9b-4163-bc6b-d4658dba83e6",
   "metadata": {},
   "outputs": [],
   "source": [
    "A = pd.DataFrame.sparse.from_spmatrix(similarity)\n",
    "display(A)"
   ]
  },
  {
   "cell_type": "code",
   "execution_count": null,
   "id": "ca4494c6-f49b-49a4-b9ed-111613a49e2c",
   "metadata": {},
   "outputs": [],
   "source": []
  },
  {
   "cell_type": "markdown",
   "id": "1d301f18-4a1c-4c15-a49c-271bd2bcee16",
   "metadata": {},
   "source": [
    "# Функции для получения потенциальных вакансий для рекомендации"
   ]
  },
  {
   "cell_type": "code",
   "execution_count": null,
   "id": "0975fa12-8b65-4d58-b6db-16e734ac279a",
   "metadata": {},
   "outputs": [],
   "source": [
    "# куки и соответствующие id юзеров\n",
    "users_cookies = df.groupby(['cookie_id'], as_index=False)['new_id'].agg(['unique'])\n",
    "\n",
    "# тут уже все действия юзеров\n",
    "interactions = df.groupby(['new_id', 'vacancy_id_', 'event_type'], as_index=False) \\\n",
    ".agg({'event_timestamp': 'count'}) \\\n",
    ".sort_values(['event_timestamp'], ascending=False)"
   ]
  },
  {
   "cell_type": "code",
   "execution_count": null,
   "id": "fb326db1-1505-494c-bbae-d7b80a9e2791",
   "metadata": {},
   "outputs": [],
   "source": [
    "# Получить new_id/user_id по куки\n",
    "def get_new_id_by_cookie(cookie):\n",
    "    return users_cookies.loc[cookie][0][0]\n",
    "\n",
    "# Лист всех уникальных юзеров по-порядку, в котором составлялась матрица\n",
    "user_unique_columns = df['new_id'].unique()\n",
    "# Получить индекс юзера в списке\n",
    "def get_user_index(user_id):\n",
    "    return np.where(user_unique_columns == user_id)[0][0]"
   ]
  },
  {
   "cell_type": "code",
   "execution_count": null,
   "id": "a152f7c4-909d-438f-8abe-830ca75ad46f",
   "metadata": {},
   "outputs": [],
   "source": [
    "\n",
    "# Получение вакансий для рекомендации\n",
    "def get_similar_users_ordered(user_index):\n",
    "    similar_users_index_list = list()\n",
    "    for i, val in enumerate(A[user_index]):\n",
    "        if (val > 0.3) and (i != user_index):\n",
    "            similar_users_index_list.append((i, val))\n",
    "    similar_users_index_list = sorted(similar_users_index_list, key = lambda x: x[1], reverse=True)\n",
    "    return similar_users_index_list\n",
    "\n",
    "# Ранжирование товаров юзера\n",
    "def get_vacancies_ordered_by_user(new_id):\n",
    "    user_interaction = interactions[interactions['new_id'] == new_id]\n",
    "    unique_user_events = user_interaction['event_type'].unique()\n",
    "\n",
    "    vacancy_table = user_interaction.pivot_table(index='vacancy_id_', columns='event_type', values='event_timestamp', fill_value=0).reset_index()\n",
    "    vacancy_table['ctr'] = vacancy_table.apply(lambda x: (sum([x[i] for i in unique_user_events])), axis=1)\n",
    "    vac_dict = list([[v['vacancy_id_'] , v['ctr']] for i, v in vacancy_table.iterrows()])\n",
    "    return sorted(vac_dict, key = lambda x: x[1], reverse=True)"
   ]
  },
  {
   "cell_type": "code",
   "execution_count": null,
   "id": "eb215e63-5929-4d53-a896-26101aa2fd9b",
   "metadata": {},
   "outputs": [],
   "source": [
    "# Получение отранжированных вакансий по всем юзерам\n",
    "def get_ordered_vacancies(similar_users_list):\n",
    "    recommend_vac = list()\n",
    "    for i in similar_users_list[:10]: # пока беру первых 5 похожих юзеров\n",
    "        user = user_unique_columns[i[0]]\n",
    "        vacancies = get_vacancies_ordered_by_user(user)\n",
    "        for v in vacancies:\n",
    "            recommend_vac.append(v[0])\n",
    "    recommend_vac = list(dict.fromkeys(recommend_vac))\n",
    "    return recommend_vac\n",
    "\n",
    "\n",
    "# Получить использованные вакансии\n",
    "def get_used_vacancies(new_id):\n",
    "    return interactions[interactions['new_id'] == new_id]['vacancy_id_'].unique()"
   ]
  },
  {
   "cell_type": "code",
   "execution_count": null,
   "id": "c3ce3b52-b3f0-421e-b9a9-c8e962fd378e",
   "metadata": {},
   "outputs": [],
   "source": [
    "# Получение рекомендации + в рекомендации учитваем топ вакансий\n",
    "def get_user_recommendation(user_id):\n",
    "    recommend_result = []\n",
    "    index = get_user_index(user_id)\n",
    "    similar_index_list = get_similar_users_ordered(index)\n",
    "    \n",
    "    all_recommended_vac = get_ordered_vacancies(similar_index_list)\n",
    "    users_used_vacs = get_used_vacancies(user_id)\n",
    "    \n",
    "    if len(all_recommended_vac) > 0:\n",
    "        for i in all_recommended_vac:\n",
    "            if i not in users_used_vacs:\n",
    "                recommend_result.append(i)\n",
    "    else:\n",
    "        return top_vacancies\n",
    "    recommend_result = top_vacancies + recommend_result\n",
    "    return recommend_result"
   ]
  },
  {
   "cell_type": "code",
   "execution_count": null,
   "id": "f61c5038-c6f1-44fe-8db3-b135208e1c42",
   "metadata": {},
   "outputs": [],
   "source": []
  },
  {
   "cell_type": "markdown",
   "id": "f225eefb-6afe-486b-b456-5b51ca2c85c2",
   "metadata": {},
   "source": [
    "# Чтение тестового датасета"
   ]
  },
  {
   "cell_type": "code",
   "execution_count": null,
   "id": "a48adf23-7194-4e51-96d4-e74973e5ea2d",
   "metadata": {},
   "outputs": [],
   "source": [
    "test_df = pd.read_parquet('test_public_mfti.parquet', engine='pyarrow')\n",
    "test_df"
   ]
  },
  {
   "cell_type": "code",
   "execution_count": null,
   "id": "7f798a6d-1f3a-45ef-aab3-7b5b6497ed23",
   "metadata": {},
   "outputs": [],
   "source": [
    "def get_new_id_by_cookie(cookie):\n",
    "    return users_cookies.loc[cookie][0][0]"
   ]
  },
  {
   "cell_type": "code",
   "execution_count": null,
   "id": "5dba66c5-c180-4f7d-9a0d-3ee985296ab4",
   "metadata": {},
   "outputs": [],
   "source": [
    "test_df['cookie_id'] = test_df['cookie_id'].apply(lambda x: get_new_id_by_cookie(x))\n",
    "test_df = test_df.rename(columns={'cookie_id': 'new_id'})"
   ]
  },
  {
   "cell_type": "code",
   "execution_count": null,
   "id": "959c6ac3-b780-4442-80be-ba83d744dbed",
   "metadata": {},
   "outputs": [],
   "source": [
    "test_df"
   ]
  },
  {
   "cell_type": "code",
   "execution_count": null,
   "id": "f46d68a3-27bc-4af3-afde-87b41314a07d",
   "metadata": {},
   "outputs": [],
   "source": []
  },
  {
   "cell_type": "markdown",
   "id": "22354b01-e4f3-40a0-a95b-0dba31281154",
   "metadata": {},
   "source": [
    "# Добавляем потенциальные вакансии для юзеров из тестового датасета"
   ]
  },
  {
   "cell_type": "code",
   "execution_count": null,
   "id": "8f5dc447-6774-4b66-813e-bf5ed5c18225",
   "metadata": {},
   "outputs": [],
   "source": [
    "# Для тестового датасета добавляем колонку pot_vacancies, где будут указаны потенциальные рекомендации на основе косинуса схожести\n",
    "def make_pred_vacs_col(idx):\n",
    "    pot_vacs = get_user_recommendation(idx)\n",
    "    return pot_vacs\n",
    "\n",
    "test_df['pot_vacancies'] = test_df.apply(lambda x: make_pred_vacs_col(x['new_id']), axis=1)"
   ]
  },
  {
   "cell_type": "code",
   "execution_count": null,
   "id": "6c3707de-94b1-41dd-8357-9a6d4ea3764a",
   "metadata": {},
   "outputs": [],
   "source": [
    "# Преобразовываем датафейм для использования модели, которая сранжирует потенциальные вакансии\n",
    "# test_df['pot_vacancies'] - потенциальные\n",
    "users = []\n",
    "vacancies = []\n",
    "\n",
    "for i in test_df.itertuples():\n",
    "    users = users + ([i[1]] * len(i[3]))\n",
    "    vacancies = vacancies + i[3]\n",
    "    \n",
    "new_test = pd.DataFrame({'new_id': users, 'vacancy_id_': vacancies})"
   ]
  },
  {
   "cell_type": "code",
   "execution_count": null,
   "id": "3975ed10-f569-4611-ac7f-51ac20e7310c",
   "metadata": {},
   "outputs": [],
   "source": [
    "new_test.to_csv('new_test_final.csv', index=False)"
   ]
  },
  {
   "cell_type": "code",
   "execution_count": null,
   "id": "deb5a503-0dae-4d03-b982-f5436abea482",
   "metadata": {},
   "outputs": [],
   "source": []
  }
 ],
 "metadata": {
  "kernelspec": {
   "display_name": "Python 3 (ipykernel)",
   "language": "python",
   "name": "python3"
  },
  "language_info": {
   "codemirror_mode": {
    "name": "ipython",
    "version": 3
   },
   "file_extension": ".py",
   "mimetype": "text/x-python",
   "name": "python",
   "nbconvert_exporter": "python",
   "pygments_lexer": "ipython3",
   "version": "3.9.13"
  }
 },
 "nbformat": 4,
 "nbformat_minor": 5
}
