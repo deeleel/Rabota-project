{
 "cells": [
  {
   "cell_type": "code",
   "execution_count": 1,
   "id": "983b615c",
   "metadata": {
    "scrolled": true
   },
   "outputs": [
    {
     "name": "stdout",
     "output_type": "stream",
     "text": [
      "Defaulting to user installation because normal site-packages is not writeable\n",
      "Requirement already satisfied: pyarrow in c:\\programdata\\anaconda3\\lib\\site-packages (11.0.0)\n",
      "Requirement already satisfied: numpy>=1.16.6 in c:\\programdata\\anaconda3\\lib\\site-packages (from pyarrow) (1.23.5)\n",
      "Defaulting to user installation because normal site-packages is not writeable\n",
      "Requirement already satisfied: fastparquet in c:\\programdata\\anaconda3\\lib\\site-packages (2023.2.0)\n",
      "Requirement already satisfied: packaging in c:\\programdata\\anaconda3\\lib\\site-packages (from fastparquet) (22.0)\n",
      "Requirement already satisfied: cramjam>=2.3 in c:\\programdata\\anaconda3\\lib\\site-packages (from fastparquet) (2.6.2)\n",
      "Requirement already satisfied: numpy>=1.20.3 in c:\\programdata\\anaconda3\\lib\\site-packages (from fastparquet) (1.23.5)\n",
      "Requirement already satisfied: fsspec in c:\\programdata\\anaconda3\\lib\\site-packages (from fastparquet) (2022.11.0)\n",
      "Requirement already satisfied: pandas>=1.5.0 in c:\\programdata\\anaconda3\\lib\\site-packages (from fastparquet) (1.5.3)\n",
      "Requirement already satisfied: python-dateutil>=2.8.1 in c:\\programdata\\anaconda3\\lib\\site-packages (from pandas>=1.5.0->fastparquet) (2.8.2)\n",
      "Requirement already satisfied: pytz>=2020.1 in c:\\programdata\\anaconda3\\lib\\site-packages (from pandas>=1.5.0->fastparquet) (2022.7)\n",
      "Requirement already satisfied: six>=1.5 in c:\\programdata\\anaconda3\\lib\\site-packages (from python-dateutil>=2.8.1->pandas>=1.5.0->fastparquet) (1.16.0)\n"
     ]
    }
   ],
   "source": [
    "!pip install pyarrow\n",
    "!pip install fastparquet"
   ]
  },
  {
   "cell_type": "code",
   "execution_count": null,
   "id": "d7d1e55f",
   "metadata": {},
   "outputs": [
    {
     "name": "stdout",
     "output_type": "stream",
     "text": [
      "duplicats removing - done\n",
      "one hot encoding - done\n"
     ]
    }
   ],
   "source": [
    "import warnings\n",
    "\n",
    "import numpy as np\n",
    "import pandas as pd\n",
    "\n",
    "\n",
    "def set_up_printing():\n",
    "    \"\"\"Sets up display parameters\"\"\"\n",
    "\n",
    "    max_dimensions_display_limit = 1000\n",
    "    pd.set_option('display.max_columns', max_dimensions_display_limit)\n",
    "    pd.set_option('display.max_colwidth', None)\n",
    "\n",
    "    pd.set_option('display.max_rows', max_dimensions_display_limit)\n",
    "    pd.set_option('display.width', None)\n",
    "\n",
    "    pd.set_option('display.max_info_columns', max_dimensions_display_limit)\n",
    "    pd.set_option('display.max_info_rows', max_dimensions_display_limit)\n",
    "\n",
    "    warnings.filterwarnings('ignore')\n",
    "\n",
    "\n",
    "def get_low_informative(dataframe, limit):\n",
    "    \"\"\"Gets low informative columns\"\"\"\n",
    "    low_information_cols = []\n",
    "\n",
    "    for col in dataframe.columns:\n",
    "        top_freq = dataframe[col].value_counts(normalize=True).max()\n",
    "        nunique_ratio = dataframe[col].nunique() / dataframe[col].count()\n",
    "        if top_freq > limit:\n",
    "            low_information_cols.append(col)\n",
    "        if nunique_ratio > limit:\n",
    "            low_information_cols.append(col)\n",
    "\n",
    "    return low_information_cols\n",
    "\n",
    "\n",
    "def info_aux_and_nans(dataframe, message):\n",
    "    \"\"\"Prints dataframe info and shows nan stats\"\"\"\n",
    "    print(message, '\\n')\n",
    "    dataframe.info()\n",
    "    dataframe.isnull().sum()\n",
    "    print('\\n')\n",
    "\n",
    "\n",
    "def shape(dataframe, message):\n",
    "    \"\"\"Prints dataframe shape\"\"\"\n",
    "    print(message, '\\n')\n",
    "    print(dataframe.shape)\n",
    "    print('\\n')\n",
    "\n",
    "set_up_printing()\n",
    "\n",
    "dataframe = pd.read_parquet(r'C:\\Users\\M_N_K\\kosta_2023_dataton\\train_mfti.parquet')\n",
    "dataframe = dataframe.drop_duplicates()\n",
    "\n",
    "print('duplicats removing - done')\n",
    "\n",
    "dataframe['user_id'] = dataframe['user_id'].fillna(dataframe['cookie_id'])\n",
    "dataframe['activity'] = dataframe['vacancy_id_'].astype(str) + '_' + dataframe['event_type'].astype(str)\n",
    "dataframe = pd.get_dummies(dataframe, columns=['activity'], sparse=True)\n",
    "\n",
    "print('one hot encoding - done')\n",
    "\n",
    "sum_by_user = dataframe.groupby(['user_id'])[dataframe.columns.tolist()[6:]].sum()\n",
    "sum_by_user.to_csv(r'C:\\Users\\M_N_K\\kosta_2023_dataton\\users_vectors.csv')\n",
    "\n",
    "print('vectorization - done')\n"
   ]
  },
  {
   "cell_type": "code",
   "execution_count": null,
   "id": "b16c5a35",
   "metadata": {},
   "outputs": [],
   "source": [
    "print(dataframe.columns.tolist()[5:])"
   ]
  },
  {
   "cell_type": "code",
   "execution_count": null,
   "id": "64bcbcde",
   "metadata": {},
   "outputs": [],
   "source": []
  }
 ],
 "metadata": {
  "kernelspec": {
   "display_name": "Python 3 (ipykernel)",
   "language": "python",
   "name": "python3"
  },
  "language_info": {
   "codemirror_mode": {
    "name": "ipython",
    "version": 3
   },
   "file_extension": ".py",
   "mimetype": "text/x-python",
   "name": "python",
   "nbconvert_exporter": "python",
   "pygments_lexer": "ipython3",
   "version": "3.10.9"
  }
 },
 "nbformat": 4,
 "nbformat_minor": 5
}
